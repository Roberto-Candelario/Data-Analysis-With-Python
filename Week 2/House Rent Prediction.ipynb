{
 "cells": [
  {
   "cell_type": "markdown",
   "source": [
    "# Data Wrangling\n",
    "## Objectives\n",
    "** Handle missing values\n",
    "** Correct data format\n",
    "** standardize and normalize data\n"
   ],
   "metadata": {
    "collapsed": false,
    "pycharm": {
     "name": "#%% md\n"
    }
   }
  },
  {
   "cell_type": "markdown",
   "source": [
    "### Purpose of data wrangling?\n",
    "#### Data wranglingn is the process of connverting deata from the initial format to a format that may be better for analysis"
   ],
   "metadata": {
    "collapsed": false,
    "pycharm": {
     "name": "#%% md\n"
    }
   },
   "execution_count": 1
  },
  {
   "cell_type": "code",
   "execution_count": 2,
   "outputs": [],
   "source": [
    "# Import packages\n",
    "import pandas as pd\n",
    "import matplotlib.pylab as plt"
   ],
   "metadata": {
    "collapsed": false,
    "pycharm": {
     "name": "#%%\n"
    }
   }
  },
  {
   "cell_type": "markdown",
   "source": [
    "## Reading the data"
   ],
   "metadata": {
    "collapsed": false,
    "pycharm": {
     "name": "#%% md\n"
    }
   }
  },
  {
   "cell_type": "code",
   "execution_count": 26,
   "outputs": [],
   "source": [
    "path = \"/Users/robertocandelario/DataGripProjects/Data analysis with python/House Rent Prediction Dataset (kaggle)/House_Rent_Dataset.csv\""
   ],
   "metadata": {
    "collapsed": false,
    "pycharm": {
     "name": "#%%\n"
    }
   }
  },
  {
   "cell_type": "code",
   "execution_count": 27,
   "outputs": [],
   "source": [
    "df = pd.read_csv(path)"
   ],
   "metadata": {
    "collapsed": false,
    "pycharm": {
     "name": "#%%\n"
    }
   }
  },
  {
   "cell_type": "code",
   "execution_count": 28,
   "outputs": [
    {
     "data": {
      "text/plain": "    Posted On  BHK   Rent  Size            Floor    Area Type  \\\n0  2022-05-18    2  10000  1100  Ground out of 2   Super Area   \n1  2022-05-13    2  20000   800       1 out of 3   Super Area   \n2  2022-05-16    2  17000  1000       1 out of 3   Super Area   \n3  2022-07-04    2  10000   800       1 out of 2   Super Area   \n4  2022-05-09    2   7500   850       1 out of 2  Carpet Area   \n\n              Area Locality     City Furnishing Status  Tenant Preferred  \\\n0                    Bandel  Kolkata       Unfurnished  Bachelors/Family   \n1  Phool Bagan, Kankurgachi  Kolkata    Semi-Furnished  Bachelors/Family   \n2   Salt Lake City Sector 2  Kolkata    Semi-Furnished  Bachelors/Family   \n3               Dumdum Park  Kolkata       Unfurnished  Bachelors/Family   \n4             South Dum Dum  Kolkata       Unfurnished         Bachelors   \n\n   Bathroom Point of Contact  \n0         2    Contact Owner  \n1         1    Contact Owner  \n2         1    Contact Owner  \n3         1    Contact Owner  \n4         1    Contact Owner  ",
      "text/html": "<div>\n<style scoped>\n    .dataframe tbody tr th:only-of-type {\n        vertical-align: middle;\n    }\n\n    .dataframe tbody tr th {\n        vertical-align: top;\n    }\n\n    .dataframe thead th {\n        text-align: right;\n    }\n</style>\n<table border=\"1\" class=\"dataframe\">\n  <thead>\n    <tr style=\"text-align: right;\">\n      <th></th>\n      <th>Posted On</th>\n      <th>BHK</th>\n      <th>Rent</th>\n      <th>Size</th>\n      <th>Floor</th>\n      <th>Area Type</th>\n      <th>Area Locality</th>\n      <th>City</th>\n      <th>Furnishing Status</th>\n      <th>Tenant Preferred</th>\n      <th>Bathroom</th>\n      <th>Point of Contact</th>\n    </tr>\n  </thead>\n  <tbody>\n    <tr>\n      <th>0</th>\n      <td>2022-05-18</td>\n      <td>2</td>\n      <td>10000</td>\n      <td>1100</td>\n      <td>Ground out of 2</td>\n      <td>Super Area</td>\n      <td>Bandel</td>\n      <td>Kolkata</td>\n      <td>Unfurnished</td>\n      <td>Bachelors/Family</td>\n      <td>2</td>\n      <td>Contact Owner</td>\n    </tr>\n    <tr>\n      <th>1</th>\n      <td>2022-05-13</td>\n      <td>2</td>\n      <td>20000</td>\n      <td>800</td>\n      <td>1 out of 3</td>\n      <td>Super Area</td>\n      <td>Phool Bagan, Kankurgachi</td>\n      <td>Kolkata</td>\n      <td>Semi-Furnished</td>\n      <td>Bachelors/Family</td>\n      <td>1</td>\n      <td>Contact Owner</td>\n    </tr>\n    <tr>\n      <th>2</th>\n      <td>2022-05-16</td>\n      <td>2</td>\n      <td>17000</td>\n      <td>1000</td>\n      <td>1 out of 3</td>\n      <td>Super Area</td>\n      <td>Salt Lake City Sector 2</td>\n      <td>Kolkata</td>\n      <td>Semi-Furnished</td>\n      <td>Bachelors/Family</td>\n      <td>1</td>\n      <td>Contact Owner</td>\n    </tr>\n    <tr>\n      <th>3</th>\n      <td>2022-07-04</td>\n      <td>2</td>\n      <td>10000</td>\n      <td>800</td>\n      <td>1 out of 2</td>\n      <td>Super Area</td>\n      <td>Dumdum Park</td>\n      <td>Kolkata</td>\n      <td>Unfurnished</td>\n      <td>Bachelors/Family</td>\n      <td>1</td>\n      <td>Contact Owner</td>\n    </tr>\n    <tr>\n      <th>4</th>\n      <td>2022-05-09</td>\n      <td>2</td>\n      <td>7500</td>\n      <td>850</td>\n      <td>1 out of 2</td>\n      <td>Carpet Area</td>\n      <td>South Dum Dum</td>\n      <td>Kolkata</td>\n      <td>Unfurnished</td>\n      <td>Bachelors</td>\n      <td>1</td>\n      <td>Contact Owner</td>\n    </tr>\n  </tbody>\n</table>\n</div>"
     },
     "execution_count": 28,
     "metadata": {},
     "output_type": "execute_result"
    }
   ],
   "source": [
    "df.head()"
   ],
   "metadata": {
    "collapsed": false,
    "pycharm": {
     "name": "#%%\n"
    }
   }
  },
  {
   "cell_type": "markdown",
   "source": [
    "# Identify and handle missing values"
   ],
   "metadata": {
    "collapsed": false,
    "pycharm": {
     "name": "#%% md\n"
    }
   }
  },
  {
   "cell_type": "markdown",
   "source": [
    "### Evaluating for missing Data"
   ],
   "metadata": {
    "collapsed": false,
    "pycharm": {
     "name": "#%% md\n"
    }
   }
  },
  {
   "cell_type": "code",
   "execution_count": 29,
   "outputs": [
    {
     "data": {
      "text/plain": "   Posted On    BHK   Rent   Size  Floor  Area Type  Area Locality   City  \\\n0      False  False  False  False  False      False          False  False   \n1      False  False  False  False  False      False          False  False   \n2      False  False  False  False  False      False          False  False   \n3      False  False  False  False  False      False          False  False   \n4      False  False  False  False  False      False          False  False   \n\n   Furnishing Status  Tenant Preferred  Bathroom  Point of Contact  \n0              False             False     False             False  \n1              False             False     False             False  \n2              False             False     False             False  \n3              False             False     False             False  \n4              False             False     False             False  ",
      "text/html": "<div>\n<style scoped>\n    .dataframe tbody tr th:only-of-type {\n        vertical-align: middle;\n    }\n\n    .dataframe tbody tr th {\n        vertical-align: top;\n    }\n\n    .dataframe thead th {\n        text-align: right;\n    }\n</style>\n<table border=\"1\" class=\"dataframe\">\n  <thead>\n    <tr style=\"text-align: right;\">\n      <th></th>\n      <th>Posted On</th>\n      <th>BHK</th>\n      <th>Rent</th>\n      <th>Size</th>\n      <th>Floor</th>\n      <th>Area Type</th>\n      <th>Area Locality</th>\n      <th>City</th>\n      <th>Furnishing Status</th>\n      <th>Tenant Preferred</th>\n      <th>Bathroom</th>\n      <th>Point of Contact</th>\n    </tr>\n  </thead>\n  <tbody>\n    <tr>\n      <th>0</th>\n      <td>False</td>\n      <td>False</td>\n      <td>False</td>\n      <td>False</td>\n      <td>False</td>\n      <td>False</td>\n      <td>False</td>\n      <td>False</td>\n      <td>False</td>\n      <td>False</td>\n      <td>False</td>\n      <td>False</td>\n    </tr>\n    <tr>\n      <th>1</th>\n      <td>False</td>\n      <td>False</td>\n      <td>False</td>\n      <td>False</td>\n      <td>False</td>\n      <td>False</td>\n      <td>False</td>\n      <td>False</td>\n      <td>False</td>\n      <td>False</td>\n      <td>False</td>\n      <td>False</td>\n    </tr>\n    <tr>\n      <th>2</th>\n      <td>False</td>\n      <td>False</td>\n      <td>False</td>\n      <td>False</td>\n      <td>False</td>\n      <td>False</td>\n      <td>False</td>\n      <td>False</td>\n      <td>False</td>\n      <td>False</td>\n      <td>False</td>\n      <td>False</td>\n    </tr>\n    <tr>\n      <th>3</th>\n      <td>False</td>\n      <td>False</td>\n      <td>False</td>\n      <td>False</td>\n      <td>False</td>\n      <td>False</td>\n      <td>False</td>\n      <td>False</td>\n      <td>False</td>\n      <td>False</td>\n      <td>False</td>\n      <td>False</td>\n    </tr>\n    <tr>\n      <th>4</th>\n      <td>False</td>\n      <td>False</td>\n      <td>False</td>\n      <td>False</td>\n      <td>False</td>\n      <td>False</td>\n      <td>False</td>\n      <td>False</td>\n      <td>False</td>\n      <td>False</td>\n      <td>False</td>\n      <td>False</td>\n    </tr>\n  </tbody>\n</table>\n</div>"
     },
     "execution_count": 29,
     "metadata": {},
     "output_type": "execute_result"
    }
   ],
   "source": [
    "missing_data = df.isnull()\n",
    "missing_data.head()"
   ],
   "metadata": {
    "collapsed": false,
    "pycharm": {
     "name": "#%%\n"
    }
   }
  },
  {
   "cell_type": "markdown",
   "source": [
    "### Count missign values in each column"
   ],
   "metadata": {
    "collapsed": false,
    "pycharm": {
     "name": "#%% md\n"
    }
   }
  },
  {
   "cell_type": "code",
   "execution_count": 30,
   "outputs": [
    {
     "name": "stdout",
     "output_type": "stream",
     "text": [
      "Posted On\n",
      "False    4746\n",
      "Name: Posted On, dtype: int64\n",
      "\n",
      "BHK\n",
      "False    4746\n",
      "Name: BHK, dtype: int64\n",
      "\n",
      "Rent\n",
      "False    4746\n",
      "Name: Rent, dtype: int64\n",
      "\n",
      "Size\n",
      "False    4746\n",
      "Name: Size, dtype: int64\n",
      "\n",
      "Floor\n",
      "False    4746\n",
      "Name: Floor, dtype: int64\n",
      "\n",
      "Area Type\n",
      "False    4746\n",
      "Name: Area Type, dtype: int64\n",
      "\n",
      "Area Locality\n",
      "False    4746\n",
      "Name: Area Locality, dtype: int64\n",
      "\n",
      "City\n",
      "False    4746\n",
      "Name: City, dtype: int64\n",
      "\n",
      "Furnishing Status\n",
      "False    4746\n",
      "Name: Furnishing Status, dtype: int64\n",
      "\n",
      "Tenant Preferred\n",
      "False    4746\n",
      "Name: Tenant Preferred, dtype: int64\n",
      "\n",
      "Bathroom\n",
      "False    4746\n",
      "Name: Bathroom, dtype: int64\n",
      "\n",
      "Point of Contact\n",
      "False    4746\n",
      "Name: Point of Contact, dtype: int64\n",
      "\n"
     ]
    }
   ],
   "source": [
    "for column in missing_data.columns.values.tolist():\n",
    "    print(column)\n",
    "    print(missing_data[column].value_counts())\n",
    "    print(\"\")"
   ],
   "metadata": {
    "collapsed": false,
    "pycharm": {
     "name": "#%%\n"
    }
   }
  },
  {
   "cell_type": "markdown",
   "source": [
    "## From the data above, All columns are full and there is no missing data\n",
    "## If data was missing \"True\" would be a category with the number of missing items"
   ],
   "metadata": {
    "collapsed": false,
    "pycharm": {
     "name": "#%% md\n"
    }
   }
  },
  {
   "cell_type": "markdown",
   "source": [
    "#### Let's list the dat types for each column and fix them if necessary"
   ],
   "metadata": {
    "collapsed": false,
    "pycharm": {
     "name": "#%% md\n"
    }
   }
  },
  {
   "cell_type": "code",
   "execution_count": 31,
   "outputs": [
    {
     "data": {
      "text/plain": "Posted On            object\nBHK                   int64\nRent                  int64\nSize                  int64\nFloor                object\nArea Type            object\nArea Locality        object\nCity                 object\nFurnishing Status    object\nTenant Preferred     object\nBathroom              int64\nPoint of Contact     object\ndtype: object"
     },
     "execution_count": 31,
     "metadata": {},
     "output_type": "execute_result"
    }
   ],
   "source": [
    "df.dtypes"
   ],
   "metadata": {
    "collapsed": false,
    "pycharm": {
     "name": "#%%\n"
    }
   }
  },
  {
   "cell_type": "markdown",
   "source": [
    "#### The dtypes look appropriate"
   ],
   "metadata": {
    "collapsed": false,
    "pycharm": {
     "name": "#%% md\n"
    }
   }
  },
  {
   "cell_type": "markdown",
   "source": [
    "## Clean Floor column"
   ],
   "metadata": {
    "collapsed": false,
    "pycharm": {
     "name": "#%% md\n"
    }
   }
  },
  {
   "cell_type": "code",
   "execution_count": 32,
   "outputs": [],
   "source": [
    "data = df['Floor'].str.split(' out of ', 1, expand=True).rename(columns= {0: 'Floor level', 1: 'Total Floors'})"
   ],
   "metadata": {
    "collapsed": false,
    "pycharm": {
     "name": "#%%\n"
    }
   }
  },
  {
   "cell_type": "code",
   "execution_count": 33,
   "outputs": [
    {
     "data": {
      "text/plain": "  Floor level Total Floors\n0      Ground            2\n1           1            3\n2           1            3\n3           1            2\n4           1            2",
      "text/html": "<div>\n<style scoped>\n    .dataframe tbody tr th:only-of-type {\n        vertical-align: middle;\n    }\n\n    .dataframe tbody tr th {\n        vertical-align: top;\n    }\n\n    .dataframe thead th {\n        text-align: right;\n    }\n</style>\n<table border=\"1\" class=\"dataframe\">\n  <thead>\n    <tr style=\"text-align: right;\">\n      <th></th>\n      <th>Floor level</th>\n      <th>Total Floors</th>\n    </tr>\n  </thead>\n  <tbody>\n    <tr>\n      <th>0</th>\n      <td>Ground</td>\n      <td>2</td>\n    </tr>\n    <tr>\n      <th>1</th>\n      <td>1</td>\n      <td>3</td>\n    </tr>\n    <tr>\n      <th>2</th>\n      <td>1</td>\n      <td>3</td>\n    </tr>\n    <tr>\n      <th>3</th>\n      <td>1</td>\n      <td>2</td>\n    </tr>\n    <tr>\n      <th>4</th>\n      <td>1</td>\n      <td>2</td>\n    </tr>\n  </tbody>\n</table>\n</div>"
     },
     "execution_count": 33,
     "metadata": {},
     "output_type": "execute_result"
    }
   ],
   "source": [
    "data.head()"
   ],
   "metadata": {
    "collapsed": false,
    "pycharm": {
     "name": "#%%\n"
    }
   }
  },
  {
   "cell_type": "code",
   "execution_count": 34,
   "outputs": [],
   "source": [
    "data['Floor level'] = data.apply(lambda x: 1 if x['Floor level'] == 'Ground' \\\n",
    "                                 else ( -1 if x['Floor level'] == 'Lower Basement' else (x['Total Floors'])), axis=1)"
   ],
   "metadata": {
    "collapsed": false,
    "pycharm": {
     "name": "#%%\n"
    }
   }
  },
  {
   "cell_type": "code",
   "execution_count": 35,
   "outputs": [
    {
     "data": {
      "text/plain": "  Floor level Total Floors\n0           1            2\n1           3            3\n2           3            3\n3           2            2\n4           2            2",
      "text/html": "<div>\n<style scoped>\n    .dataframe tbody tr th:only-of-type {\n        vertical-align: middle;\n    }\n\n    .dataframe tbody tr th {\n        vertical-align: top;\n    }\n\n    .dataframe thead th {\n        text-align: right;\n    }\n</style>\n<table border=\"1\" class=\"dataframe\">\n  <thead>\n    <tr style=\"text-align: right;\">\n      <th></th>\n      <th>Floor level</th>\n      <th>Total Floors</th>\n    </tr>\n  </thead>\n  <tbody>\n    <tr>\n      <th>0</th>\n      <td>1</td>\n      <td>2</td>\n    </tr>\n    <tr>\n      <th>1</th>\n      <td>3</td>\n      <td>3</td>\n    </tr>\n    <tr>\n      <th>2</th>\n      <td>3</td>\n      <td>3</td>\n    </tr>\n    <tr>\n      <th>3</th>\n      <td>2</td>\n      <td>2</td>\n    </tr>\n    <tr>\n      <th>4</th>\n      <td>2</td>\n      <td>2</td>\n    </tr>\n  </tbody>\n</table>\n</div>"
     },
     "execution_count": 35,
     "metadata": {},
     "output_type": "execute_result"
    }
   ],
   "source": [
    "data.head()"
   ],
   "metadata": {
    "collapsed": false,
    "pycharm": {
     "name": "#%%\n"
    }
   }
  },
  {
   "cell_type": "code",
   "execution_count": 36,
   "outputs": [
    {
     "data": {
      "text/plain": "     Floor level Total Floors\n4741           5            5\n4742           4            4\n4743           5            5\n4744          34           34\n4745           5            5",
      "text/html": "<div>\n<style scoped>\n    .dataframe tbody tr th:only-of-type {\n        vertical-align: middle;\n    }\n\n    .dataframe tbody tr th {\n        vertical-align: top;\n    }\n\n    .dataframe thead th {\n        text-align: right;\n    }\n</style>\n<table border=\"1\" class=\"dataframe\">\n  <thead>\n    <tr style=\"text-align: right;\">\n      <th></th>\n      <th>Floor level</th>\n      <th>Total Floors</th>\n    </tr>\n  </thead>\n  <tbody>\n    <tr>\n      <th>4741</th>\n      <td>5</td>\n      <td>5</td>\n    </tr>\n    <tr>\n      <th>4742</th>\n      <td>4</td>\n      <td>4</td>\n    </tr>\n    <tr>\n      <th>4743</th>\n      <td>5</td>\n      <td>5</td>\n    </tr>\n    <tr>\n      <th>4744</th>\n      <td>34</td>\n      <td>34</td>\n    </tr>\n    <tr>\n      <th>4745</th>\n      <td>5</td>\n      <td>5</td>\n    </tr>\n  </tbody>\n</table>\n</div>"
     },
     "execution_count": 36,
     "metadata": {},
     "output_type": "execute_result"
    }
   ],
   "source": [
    "data.tail()"
   ],
   "metadata": {
    "collapsed": false,
    "pycharm": {
     "name": "#%%\n"
    }
   }
  },
  {
   "cell_type": "code",
   "execution_count": 37,
   "outputs": [
    {
     "data": {
      "text/plain": "     Floor level Total Floors\n0              1            2\n1              3            3\n2              3            3\n3              2            2\n4              2            2\n...          ...          ...\n4741           5            5\n4742           4            4\n4743           5            5\n4744          34           34\n4745           5            5\n\n[4746 rows x 2 columns]",
      "text/html": "<div>\n<style scoped>\n    .dataframe tbody tr th:only-of-type {\n        vertical-align: middle;\n    }\n\n    .dataframe tbody tr th {\n        vertical-align: top;\n    }\n\n    .dataframe thead th {\n        text-align: right;\n    }\n</style>\n<table border=\"1\" class=\"dataframe\">\n  <thead>\n    <tr style=\"text-align: right;\">\n      <th></th>\n      <th>Floor level</th>\n      <th>Total Floors</th>\n    </tr>\n  </thead>\n  <tbody>\n    <tr>\n      <th>0</th>\n      <td>1</td>\n      <td>2</td>\n    </tr>\n    <tr>\n      <th>1</th>\n      <td>3</td>\n      <td>3</td>\n    </tr>\n    <tr>\n      <th>2</th>\n      <td>3</td>\n      <td>3</td>\n    </tr>\n    <tr>\n      <th>3</th>\n      <td>2</td>\n      <td>2</td>\n    </tr>\n    <tr>\n      <th>4</th>\n      <td>2</td>\n      <td>2</td>\n    </tr>\n    <tr>\n      <th>...</th>\n      <td>...</td>\n      <td>...</td>\n    </tr>\n    <tr>\n      <th>4741</th>\n      <td>5</td>\n      <td>5</td>\n    </tr>\n    <tr>\n      <th>4742</th>\n      <td>4</td>\n      <td>4</td>\n    </tr>\n    <tr>\n      <th>4743</th>\n      <td>5</td>\n      <td>5</td>\n    </tr>\n    <tr>\n      <th>4744</th>\n      <td>34</td>\n      <td>34</td>\n    </tr>\n    <tr>\n      <th>4745</th>\n      <td>5</td>\n      <td>5</td>\n    </tr>\n  </tbody>\n</table>\n<p>4746 rows × 2 columns</p>\n</div>"
     },
     "execution_count": 37,
     "metadata": {},
     "output_type": "execute_result"
    }
   ],
   "source": [
    "data"
   ],
   "metadata": {
    "collapsed": false,
    "pycharm": {
     "name": "#%%\n"
    }
   }
  },
  {
   "cell_type": "code",
   "execution_count": 38,
   "outputs": [
    {
     "ename": "KeyError",
     "evalue": "\"['floor'] not found in axis\"",
     "output_type": "error",
     "traceback": [
      "\u001B[0;31m---------------------------------------------------------------------------\u001B[0m",
      "\u001B[0;31mKeyError\u001B[0m                                  Traceback (most recent call last)",
      "\u001B[0;32m/var/folders/wv/bb36gv1x4qd7nsd6slzk69v80000gn/T/ipykernel_17143/1562429531.py\u001B[0m in \u001B[0;36m<module>\u001B[0;34m\u001B[0m\n\u001B[1;32m      1\u001B[0m \u001B[0mdf\u001B[0m\u001B[0;34m[\u001B[0m\u001B[0;34m'Floor level'\u001B[0m\u001B[0;34m]\u001B[0m \u001B[0;34m=\u001B[0m \u001B[0mdata\u001B[0m\u001B[0;34m[\u001B[0m\u001B[0;34m'Floor level'\u001B[0m\u001B[0;34m]\u001B[0m\u001B[0;34m\u001B[0m\u001B[0;34m\u001B[0m\u001B[0m\n\u001B[1;32m      2\u001B[0m \u001B[0mdf\u001B[0m\u001B[0;34m[\u001B[0m\u001B[0;34m'Total floors'\u001B[0m\u001B[0;34m]\u001B[0m \u001B[0;34m=\u001B[0m \u001B[0mdata\u001B[0m\u001B[0;34m[\u001B[0m\u001B[0;34m'Total Floors'\u001B[0m\u001B[0;34m]\u001B[0m\u001B[0;34m\u001B[0m\u001B[0;34m\u001B[0m\u001B[0m\n\u001B[0;32m----> 3\u001B[0;31m \u001B[0mdf\u001B[0m\u001B[0;34m.\u001B[0m\u001B[0mdrop\u001B[0m\u001B[0;34m(\u001B[0m\u001B[0;34m'floor'\u001B[0m\u001B[0;34m,\u001B[0m \u001B[0maxis\u001B[0m\u001B[0;34m=\u001B[0m\u001B[0;36m1\u001B[0m\u001B[0;34m,\u001B[0m \u001B[0minplace\u001B[0m\u001B[0;34m=\u001B[0m \u001B[0;32mTrue\u001B[0m\u001B[0;34m)\u001B[0m\u001B[0;34m\u001B[0m\u001B[0;34m\u001B[0m\u001B[0m\n\u001B[0m",
      "\u001B[0;32m/opt/anaconda3/lib/python3.9/site-packages/pandas/util/_decorators.py\u001B[0m in \u001B[0;36mwrapper\u001B[0;34m(*args, **kwargs)\u001B[0m\n\u001B[1;32m    309\u001B[0m                     \u001B[0mstacklevel\u001B[0m\u001B[0;34m=\u001B[0m\u001B[0mstacklevel\u001B[0m\u001B[0;34m,\u001B[0m\u001B[0;34m\u001B[0m\u001B[0;34m\u001B[0m\u001B[0m\n\u001B[1;32m    310\u001B[0m                 )\n\u001B[0;32m--> 311\u001B[0;31m             \u001B[0;32mreturn\u001B[0m \u001B[0mfunc\u001B[0m\u001B[0;34m(\u001B[0m\u001B[0;34m*\u001B[0m\u001B[0margs\u001B[0m\u001B[0;34m,\u001B[0m \u001B[0;34m**\u001B[0m\u001B[0mkwargs\u001B[0m\u001B[0;34m)\u001B[0m\u001B[0;34m\u001B[0m\u001B[0;34m\u001B[0m\u001B[0m\n\u001B[0m\u001B[1;32m    312\u001B[0m \u001B[0;34m\u001B[0m\u001B[0m\n\u001B[1;32m    313\u001B[0m         \u001B[0;32mreturn\u001B[0m \u001B[0mwrapper\u001B[0m\u001B[0;34m\u001B[0m\u001B[0;34m\u001B[0m\u001B[0m\n",
      "\u001B[0;32m/opt/anaconda3/lib/python3.9/site-packages/pandas/core/frame.py\u001B[0m in \u001B[0;36mdrop\u001B[0;34m(self, labels, axis, index, columns, level, inplace, errors)\u001B[0m\n\u001B[1;32m   4952\u001B[0m                 \u001B[0mweight\u001B[0m  \u001B[0;36m1.0\u001B[0m     \u001B[0;36m0.8\u001B[0m\u001B[0;34m\u001B[0m\u001B[0;34m\u001B[0m\u001B[0m\n\u001B[1;32m   4953\u001B[0m         \"\"\"\n\u001B[0;32m-> 4954\u001B[0;31m         return super().drop(\n\u001B[0m\u001B[1;32m   4955\u001B[0m             \u001B[0mlabels\u001B[0m\u001B[0;34m=\u001B[0m\u001B[0mlabels\u001B[0m\u001B[0;34m,\u001B[0m\u001B[0;34m\u001B[0m\u001B[0;34m\u001B[0m\u001B[0m\n\u001B[1;32m   4956\u001B[0m             \u001B[0maxis\u001B[0m\u001B[0;34m=\u001B[0m\u001B[0maxis\u001B[0m\u001B[0;34m,\u001B[0m\u001B[0;34m\u001B[0m\u001B[0;34m\u001B[0m\u001B[0m\n",
      "\u001B[0;32m/opt/anaconda3/lib/python3.9/site-packages/pandas/core/generic.py\u001B[0m in \u001B[0;36mdrop\u001B[0;34m(self, labels, axis, index, columns, level, inplace, errors)\u001B[0m\n\u001B[1;32m   4265\u001B[0m         \u001B[0;32mfor\u001B[0m \u001B[0maxis\u001B[0m\u001B[0;34m,\u001B[0m \u001B[0mlabels\u001B[0m \u001B[0;32min\u001B[0m \u001B[0maxes\u001B[0m\u001B[0;34m.\u001B[0m\u001B[0mitems\u001B[0m\u001B[0;34m(\u001B[0m\u001B[0;34m)\u001B[0m\u001B[0;34m:\u001B[0m\u001B[0;34m\u001B[0m\u001B[0;34m\u001B[0m\u001B[0m\n\u001B[1;32m   4266\u001B[0m             \u001B[0;32mif\u001B[0m \u001B[0mlabels\u001B[0m \u001B[0;32mis\u001B[0m \u001B[0;32mnot\u001B[0m \u001B[0;32mNone\u001B[0m\u001B[0;34m:\u001B[0m\u001B[0;34m\u001B[0m\u001B[0;34m\u001B[0m\u001B[0m\n\u001B[0;32m-> 4267\u001B[0;31m                 \u001B[0mobj\u001B[0m \u001B[0;34m=\u001B[0m \u001B[0mobj\u001B[0m\u001B[0;34m.\u001B[0m\u001B[0m_drop_axis\u001B[0m\u001B[0;34m(\u001B[0m\u001B[0mlabels\u001B[0m\u001B[0;34m,\u001B[0m \u001B[0maxis\u001B[0m\u001B[0;34m,\u001B[0m \u001B[0mlevel\u001B[0m\u001B[0;34m=\u001B[0m\u001B[0mlevel\u001B[0m\u001B[0;34m,\u001B[0m \u001B[0merrors\u001B[0m\u001B[0;34m=\u001B[0m\u001B[0merrors\u001B[0m\u001B[0;34m)\u001B[0m\u001B[0;34m\u001B[0m\u001B[0;34m\u001B[0m\u001B[0m\n\u001B[0m\u001B[1;32m   4268\u001B[0m \u001B[0;34m\u001B[0m\u001B[0m\n\u001B[1;32m   4269\u001B[0m         \u001B[0;32mif\u001B[0m \u001B[0minplace\u001B[0m\u001B[0;34m:\u001B[0m\u001B[0;34m\u001B[0m\u001B[0;34m\u001B[0m\u001B[0m\n",
      "\u001B[0;32m/opt/anaconda3/lib/python3.9/site-packages/pandas/core/generic.py\u001B[0m in \u001B[0;36m_drop_axis\u001B[0;34m(self, labels, axis, level, errors, consolidate, only_slice)\u001B[0m\n\u001B[1;32m   4309\u001B[0m                 \u001B[0mnew_axis\u001B[0m \u001B[0;34m=\u001B[0m \u001B[0maxis\u001B[0m\u001B[0;34m.\u001B[0m\u001B[0mdrop\u001B[0m\u001B[0;34m(\u001B[0m\u001B[0mlabels\u001B[0m\u001B[0;34m,\u001B[0m \u001B[0mlevel\u001B[0m\u001B[0;34m=\u001B[0m\u001B[0mlevel\u001B[0m\u001B[0;34m,\u001B[0m \u001B[0merrors\u001B[0m\u001B[0;34m=\u001B[0m\u001B[0merrors\u001B[0m\u001B[0;34m)\u001B[0m\u001B[0;34m\u001B[0m\u001B[0;34m\u001B[0m\u001B[0m\n\u001B[1;32m   4310\u001B[0m             \u001B[0;32melse\u001B[0m\u001B[0;34m:\u001B[0m\u001B[0;34m\u001B[0m\u001B[0;34m\u001B[0m\u001B[0m\n\u001B[0;32m-> 4311\u001B[0;31m                 \u001B[0mnew_axis\u001B[0m \u001B[0;34m=\u001B[0m \u001B[0maxis\u001B[0m\u001B[0;34m.\u001B[0m\u001B[0mdrop\u001B[0m\u001B[0;34m(\u001B[0m\u001B[0mlabels\u001B[0m\u001B[0;34m,\u001B[0m \u001B[0merrors\u001B[0m\u001B[0;34m=\u001B[0m\u001B[0merrors\u001B[0m\u001B[0;34m)\u001B[0m\u001B[0;34m\u001B[0m\u001B[0;34m\u001B[0m\u001B[0m\n\u001B[0m\u001B[1;32m   4312\u001B[0m             \u001B[0mindexer\u001B[0m \u001B[0;34m=\u001B[0m \u001B[0maxis\u001B[0m\u001B[0;34m.\u001B[0m\u001B[0mget_indexer\u001B[0m\u001B[0;34m(\u001B[0m\u001B[0mnew_axis\u001B[0m\u001B[0;34m)\u001B[0m\u001B[0;34m\u001B[0m\u001B[0;34m\u001B[0m\u001B[0m\n\u001B[1;32m   4313\u001B[0m \u001B[0;34m\u001B[0m\u001B[0m\n",
      "\u001B[0;32m/opt/anaconda3/lib/python3.9/site-packages/pandas/core/indexes/base.py\u001B[0m in \u001B[0;36mdrop\u001B[0;34m(self, labels, errors)\u001B[0m\n\u001B[1;32m   6642\u001B[0m         \u001B[0;32mif\u001B[0m \u001B[0mmask\u001B[0m\u001B[0;34m.\u001B[0m\u001B[0many\u001B[0m\u001B[0;34m(\u001B[0m\u001B[0;34m)\u001B[0m\u001B[0;34m:\u001B[0m\u001B[0;34m\u001B[0m\u001B[0;34m\u001B[0m\u001B[0m\n\u001B[1;32m   6643\u001B[0m             \u001B[0;32mif\u001B[0m \u001B[0merrors\u001B[0m \u001B[0;34m!=\u001B[0m \u001B[0;34m\"ignore\"\u001B[0m\u001B[0;34m:\u001B[0m\u001B[0;34m\u001B[0m\u001B[0;34m\u001B[0m\u001B[0m\n\u001B[0;32m-> 6644\u001B[0;31m                 \u001B[0;32mraise\u001B[0m \u001B[0mKeyError\u001B[0m\u001B[0;34m(\u001B[0m\u001B[0;34mf\"{list(labels[mask])} not found in axis\"\u001B[0m\u001B[0;34m)\u001B[0m\u001B[0;34m\u001B[0m\u001B[0;34m\u001B[0m\u001B[0m\n\u001B[0m\u001B[1;32m   6645\u001B[0m             \u001B[0mindexer\u001B[0m \u001B[0;34m=\u001B[0m \u001B[0mindexer\u001B[0m\u001B[0;34m[\u001B[0m\u001B[0;34m~\u001B[0m\u001B[0mmask\u001B[0m\u001B[0;34m]\u001B[0m\u001B[0;34m\u001B[0m\u001B[0;34m\u001B[0m\u001B[0m\n\u001B[1;32m   6646\u001B[0m         \u001B[0;32mreturn\u001B[0m \u001B[0mself\u001B[0m\u001B[0;34m.\u001B[0m\u001B[0mdelete\u001B[0m\u001B[0;34m(\u001B[0m\u001B[0mindexer\u001B[0m\u001B[0;34m)\u001B[0m\u001B[0;34m\u001B[0m\u001B[0;34m\u001B[0m\u001B[0m\n",
      "\u001B[0;31mKeyError\u001B[0m: \"['floor'] not found in axis\""
     ]
    }
   ],
   "source": [
    "df['Floor level'] = data['Floor level']\n",
    "df['Total floors'] = data['Total Floors']"
   ],
   "metadata": {
    "collapsed": false,
    "pycharm": {
     "name": "#%%\n"
    }
   }
  },
  {
   "cell_type": "code",
   "execution_count": 39,
   "outputs": [],
   "source": [
    "df.drop('Floor', axis=1, inplace= True)"
   ],
   "metadata": {
    "collapsed": false,
    "pycharm": {
     "name": "#%%\n"
    }
   }
  },
  {
   "cell_type": "code",
   "execution_count": 40,
   "outputs": [
    {
     "data": {
      "text/plain": "    Posted On  BHK   Rent  Size    Area Type             Area Locality  \\\n0  2022-05-18    2  10000  1100   Super Area                    Bandel   \n1  2022-05-13    2  20000   800   Super Area  Phool Bagan, Kankurgachi   \n2  2022-05-16    2  17000  1000   Super Area   Salt Lake City Sector 2   \n3  2022-07-04    2  10000   800   Super Area               Dumdum Park   \n4  2022-05-09    2   7500   850  Carpet Area             South Dum Dum   \n\n      City Furnishing Status  Tenant Preferred  Bathroom Point of Contact  \\\n0  Kolkata       Unfurnished  Bachelors/Family         2    Contact Owner   \n1  Kolkata    Semi-Furnished  Bachelors/Family         1    Contact Owner   \n2  Kolkata    Semi-Furnished  Bachelors/Family         1    Contact Owner   \n3  Kolkata       Unfurnished  Bachelors/Family         1    Contact Owner   \n4  Kolkata       Unfurnished         Bachelors         1    Contact Owner   \n\n  Floor level Total floors  \n0           1            2  \n1           3            3  \n2           3            3  \n3           2            2  \n4           2            2  ",
      "text/html": "<div>\n<style scoped>\n    .dataframe tbody tr th:only-of-type {\n        vertical-align: middle;\n    }\n\n    .dataframe tbody tr th {\n        vertical-align: top;\n    }\n\n    .dataframe thead th {\n        text-align: right;\n    }\n</style>\n<table border=\"1\" class=\"dataframe\">\n  <thead>\n    <tr style=\"text-align: right;\">\n      <th></th>\n      <th>Posted On</th>\n      <th>BHK</th>\n      <th>Rent</th>\n      <th>Size</th>\n      <th>Area Type</th>\n      <th>Area Locality</th>\n      <th>City</th>\n      <th>Furnishing Status</th>\n      <th>Tenant Preferred</th>\n      <th>Bathroom</th>\n      <th>Point of Contact</th>\n      <th>Floor level</th>\n      <th>Total floors</th>\n    </tr>\n  </thead>\n  <tbody>\n    <tr>\n      <th>0</th>\n      <td>2022-05-18</td>\n      <td>2</td>\n      <td>10000</td>\n      <td>1100</td>\n      <td>Super Area</td>\n      <td>Bandel</td>\n      <td>Kolkata</td>\n      <td>Unfurnished</td>\n      <td>Bachelors/Family</td>\n      <td>2</td>\n      <td>Contact Owner</td>\n      <td>1</td>\n      <td>2</td>\n    </tr>\n    <tr>\n      <th>1</th>\n      <td>2022-05-13</td>\n      <td>2</td>\n      <td>20000</td>\n      <td>800</td>\n      <td>Super Area</td>\n      <td>Phool Bagan, Kankurgachi</td>\n      <td>Kolkata</td>\n      <td>Semi-Furnished</td>\n      <td>Bachelors/Family</td>\n      <td>1</td>\n      <td>Contact Owner</td>\n      <td>3</td>\n      <td>3</td>\n    </tr>\n    <tr>\n      <th>2</th>\n      <td>2022-05-16</td>\n      <td>2</td>\n      <td>17000</td>\n      <td>1000</td>\n      <td>Super Area</td>\n      <td>Salt Lake City Sector 2</td>\n      <td>Kolkata</td>\n      <td>Semi-Furnished</td>\n      <td>Bachelors/Family</td>\n      <td>1</td>\n      <td>Contact Owner</td>\n      <td>3</td>\n      <td>3</td>\n    </tr>\n    <tr>\n      <th>3</th>\n      <td>2022-07-04</td>\n      <td>2</td>\n      <td>10000</td>\n      <td>800</td>\n      <td>Super Area</td>\n      <td>Dumdum Park</td>\n      <td>Kolkata</td>\n      <td>Unfurnished</td>\n      <td>Bachelors/Family</td>\n      <td>1</td>\n      <td>Contact Owner</td>\n      <td>2</td>\n      <td>2</td>\n    </tr>\n    <tr>\n      <th>4</th>\n      <td>2022-05-09</td>\n      <td>2</td>\n      <td>7500</td>\n      <td>850</td>\n      <td>Carpet Area</td>\n      <td>South Dum Dum</td>\n      <td>Kolkata</td>\n      <td>Unfurnished</td>\n      <td>Bachelors</td>\n      <td>1</td>\n      <td>Contact Owner</td>\n      <td>2</td>\n      <td>2</td>\n    </tr>\n  </tbody>\n</table>\n</div>"
     },
     "execution_count": 40,
     "metadata": {},
     "output_type": "execute_result"
    }
   ],
   "source": [
    "df.head()"
   ],
   "metadata": {
    "collapsed": false,
    "pycharm": {
     "name": "#%%\n"
    }
   }
  },
  {
   "cell_type": "code",
   "execution_count": 41,
   "outputs": [],
   "source": [
    "df.to_csv('House_Rent_Dataset(2).csv')"
   ],
   "metadata": {
    "collapsed": false,
    "pycharm": {
     "name": "#%%\n"
    }
   }
  },
  {
   "cell_type": "code",
   "execution_count": null,
   "outputs": [],
   "source": [],
   "metadata": {
    "collapsed": false,
    "pycharm": {
     "name": "#%%\n"
    }
   }
  }
 ],
 "metadata": {
  "kernelspec": {
   "display_name": "Python 3",
   "language": "python",
   "name": "python3"
  },
  "language_info": {
   "codemirror_mode": {
    "name": "ipython",
    "version": 2
   },
   "file_extension": ".py",
   "mimetype": "text/x-python",
   "name": "python",
   "nbconvert_exporter": "python",
   "pygments_lexer": "ipython2",
   "version": "2.7.6"
  }
 },
 "nbformat": 4,
 "nbformat_minor": 0
}