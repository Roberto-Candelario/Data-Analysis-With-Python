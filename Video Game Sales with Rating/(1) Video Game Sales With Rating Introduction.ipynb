{
 "cells": [
  {
   "cell_type": "markdown",
   "source": [
    "# Introduction Notebook\n",
    "### Objectives\n",
    "##### After completing this lab I will be able to:\n",
    "* Acquire data in various ways\n",
    "* Obtain insights from data with Pandas library"
   ],
   "metadata": {
    "collapsed": false,
    "pycharm": {
     "name": "#%% md\n"
    }
   }
  },
  {
   "cell_type": "markdown",
   "source": [
    "# Data Acquisition\n",
    "###### There are various formats for a dataset: .csv, .jsonn. xlsx etc. The dataset can be stored in different places, on your local machine or sometimes online.\n",
    " ##### In this section, I will learn how to load a dataset into jupyter Notebook.\n",
    "\n",
    " ||"
   ],
   "metadata": {
    "collapsed": false,
    "pycharm": {
     "name": "#%% md\n"
    }
   }
  },
  {
   "cell_type": "code",
   "execution_count": null,
   "outputs": [],
   "source": [],
   "metadata": {
    "collapsed": false,
    "pycharm": {
     "name": "#%%\n"
    }
   }
  },
  {
   "cell_type": "code",
   "execution_count": 16,
   "outputs": [],
   "source": [
    "import pandas as pd\n",
    "import numpy as np"
   ],
   "metadata": {
    "collapsed": false,
    "pycharm": {
     "name": "#%%\n"
    }
   }
  },
  {
   "cell_type": "markdown",
   "source": [
    "## Read Data\n",
    "##### We use pandas.read_csv() funnction to read the csv file. In the brackets, we put the file path along with a quotationn mark so that pandas will read the file into a dataframe from that address. The file path can be either a URL or your local filee address."
   ],
   "metadata": {
    "collapsed": false,
    "pycharm": {
     "name": "#%% md\n"
    }
   }
  },
  {
   "cell_type": "code",
   "execution_count": 2,
   "outputs": [],
   "source": [
    "path = '/Users/robertocandelario/DataGripProjects/Data analysis with python/Video Game Sales with Rating/Video_Games_Sales_as_at_22_Dec_2016.csv'"
   ],
   "metadata": {
    "collapsed": false,
    "pycharm": {
     "name": "#%%\n"
    }
   }
  },
  {
   "cell_type": "code",
   "execution_count": 17,
   "outputs": [],
   "source": [
    "# Import pandas library\n",
    "import pandas as pd\n",
    "import numpy as np\n",
    "# Read the file by the URL provided\n",
    "df = pd.read_csv(path)"
   ],
   "metadata": {
    "collapsed": false,
    "pycharm": {
     "name": "#%%\n"
    }
   }
  },
  {
   "cell_type": "markdown",
   "source": [
    "###### After reading the dataset, we can use the dataframe.head(n) method to check the top n rowss of the dataframe, where n is an integer. Countrary to dataframe.head(n), dataframe.tail(n) will show the bottom n rows of the dataframe."
   ],
   "metadata": {
    "collapsed": false,
    "pycharm": {
     "name": "#%% md\n"
    }
   }
  },
  {
   "cell_type": "code",
   "execution_count": 6,
   "outputs": [
    {
     "name": "stdout",
     "output_type": "stream",
     "text": [
      "The first 5 rowss of the dataframe\n"
     ]
    },
    {
     "data": {
      "text/plain": "                       Name Platform  Year_of_Release         Genre Publisher  \\\n0                Wii Sports      Wii           2006.0        Sports  Nintendo   \n1         Super Mario Bros.      NES           1985.0      Platform  Nintendo   \n2            Mario Kart Wii      Wii           2008.0        Racing  Nintendo   \n3         Wii Sports Resort      Wii           2009.0        Sports  Nintendo   \n4  Pokemon Red/Pokemon Blue       GB           1996.0  Role-Playing  Nintendo   \n\n   NA_Sales  EU_Sales  JP_Sales  Other_Sales  Global_Sales  Critic_Score  \\\n0     41.36     28.96      3.77         8.45         82.53          76.0   \n1     29.08      3.58      6.81         0.77         40.24           NaN   \n2     15.68     12.76      3.79         3.29         35.52          82.0   \n3     15.61     10.93      3.28         2.95         32.77          80.0   \n4     11.27      8.89     10.22         1.00         31.37           NaN   \n\n   Critic_Count User_Score  User_Count Developer Rating  \n0          51.0          8       322.0  Nintendo      E  \n1           NaN        NaN         NaN       NaN    NaN  \n2          73.0        8.3       709.0  Nintendo      E  \n3          73.0          8       192.0  Nintendo      E  \n4           NaN        NaN         NaN       NaN    NaN  ",
      "text/html": "<div>\n<style scoped>\n    .dataframe tbody tr th:only-of-type {\n        vertical-align: middle;\n    }\n\n    .dataframe tbody tr th {\n        vertical-align: top;\n    }\n\n    .dataframe thead th {\n        text-align: right;\n    }\n</style>\n<table border=\"1\" class=\"dataframe\">\n  <thead>\n    <tr style=\"text-align: right;\">\n      <th></th>\n      <th>Name</th>\n      <th>Platform</th>\n      <th>Year_of_Release</th>\n      <th>Genre</th>\n      <th>Publisher</th>\n      <th>NA_Sales</th>\n      <th>EU_Sales</th>\n      <th>JP_Sales</th>\n      <th>Other_Sales</th>\n      <th>Global_Sales</th>\n      <th>Critic_Score</th>\n      <th>Critic_Count</th>\n      <th>User_Score</th>\n      <th>User_Count</th>\n      <th>Developer</th>\n      <th>Rating</th>\n    </tr>\n  </thead>\n  <tbody>\n    <tr>\n      <th>0</th>\n      <td>Wii Sports</td>\n      <td>Wii</td>\n      <td>2006.0</td>\n      <td>Sports</td>\n      <td>Nintendo</td>\n      <td>41.36</td>\n      <td>28.96</td>\n      <td>3.77</td>\n      <td>8.45</td>\n      <td>82.53</td>\n      <td>76.0</td>\n      <td>51.0</td>\n      <td>8</td>\n      <td>322.0</td>\n      <td>Nintendo</td>\n      <td>E</td>\n    </tr>\n    <tr>\n      <th>1</th>\n      <td>Super Mario Bros.</td>\n      <td>NES</td>\n      <td>1985.0</td>\n      <td>Platform</td>\n      <td>Nintendo</td>\n      <td>29.08</td>\n      <td>3.58</td>\n      <td>6.81</td>\n      <td>0.77</td>\n      <td>40.24</td>\n      <td>NaN</td>\n      <td>NaN</td>\n      <td>NaN</td>\n      <td>NaN</td>\n      <td>NaN</td>\n      <td>NaN</td>\n    </tr>\n    <tr>\n      <th>2</th>\n      <td>Mario Kart Wii</td>\n      <td>Wii</td>\n      <td>2008.0</td>\n      <td>Racing</td>\n      <td>Nintendo</td>\n      <td>15.68</td>\n      <td>12.76</td>\n      <td>3.79</td>\n      <td>3.29</td>\n      <td>35.52</td>\n      <td>82.0</td>\n      <td>73.0</td>\n      <td>8.3</td>\n      <td>709.0</td>\n      <td>Nintendo</td>\n      <td>E</td>\n    </tr>\n    <tr>\n      <th>3</th>\n      <td>Wii Sports Resort</td>\n      <td>Wii</td>\n      <td>2009.0</td>\n      <td>Sports</td>\n      <td>Nintendo</td>\n      <td>15.61</td>\n      <td>10.93</td>\n      <td>3.28</td>\n      <td>2.95</td>\n      <td>32.77</td>\n      <td>80.0</td>\n      <td>73.0</td>\n      <td>8</td>\n      <td>192.0</td>\n      <td>Nintendo</td>\n      <td>E</td>\n    </tr>\n    <tr>\n      <th>4</th>\n      <td>Pokemon Red/Pokemon Blue</td>\n      <td>GB</td>\n      <td>1996.0</td>\n      <td>Role-Playing</td>\n      <td>Nintendo</td>\n      <td>11.27</td>\n      <td>8.89</td>\n      <td>10.22</td>\n      <td>1.00</td>\n      <td>31.37</td>\n      <td>NaN</td>\n      <td>NaN</td>\n      <td>NaN</td>\n      <td>NaN</td>\n      <td>NaN</td>\n      <td>NaN</td>\n    </tr>\n  </tbody>\n</table>\n</div>"
     },
     "execution_count": 6,
     "metadata": {},
     "output_type": "execute_result"
    }
   ],
   "source": [
    "# SHow the first 5 rows using dataframe.head() method\n",
    "print(\"The first 5 rowss of the dataframe\")\n",
    "df.head()"
   ],
   "metadata": {
    "collapsed": false,
    "pycharm": {
     "name": "#%%\n"
    }
   }
  },
  {
   "cell_type": "markdown",
   "source": [
    "## Question 1:\n",
    "##### Check the bottom 10 rows of the dataframe \"df\"."
   ],
   "metadata": {
    "collapsed": false,
    "pycharm": {
     "name": "#%% md\n"
    }
   }
  },
  {
   "cell_type": "code",
   "execution_count": 7,
   "outputs": [
    {
     "data": {
      "text/plain": "                                                   Name Platform  \\\n16709                                           15 Days       PC   \n16710                     Men in Black II: Alien Escape       GC   \n16711                                  Aiyoku no Eustia      PSV   \n16712                Woody Woodpecker in Crazy Castle 5      GBA   \n16713  SCORE International Baja 1000: The Official Game      PS2   \n16714                     Samurai Warriors: Sanada Maru      PS3   \n16715                                  LMA Manager 2007     X360   \n16716                           Haitaka no Psychedelica      PSV   \n16717                                  Spirits & Spells      GBA   \n16718                               Winning Post 8 2016      PSV   \n\n       Year_of_Release       Genre          Publisher  NA_Sales  EU_Sales  \\\n16709           2009.0   Adventure  DTP Entertainment      0.00      0.01   \n16710           2003.0     Shooter         Infogrames      0.01      0.00   \n16711           2014.0        Misc    dramatic create      0.00      0.00   \n16712           2002.0    Platform              Kemco      0.01      0.00   \n16713           2008.0      Racing         Activision      0.00      0.00   \n16714           2016.0      Action         Tecmo Koei      0.00      0.00   \n16715           2006.0      Sports        Codemasters      0.00      0.01   \n16716           2016.0   Adventure       Idea Factory      0.00      0.00   \n16717           2003.0    Platform            Wanadoo      0.01      0.00   \n16718           2016.0  Simulation         Tecmo Koei      0.00      0.00   \n\n       JP_Sales  Other_Sales  Global_Sales  Critic_Score  Critic_Count  \\\n16709      0.00          0.0          0.01          63.0           6.0   \n16710      0.00          0.0          0.01           NaN           NaN   \n16711      0.01          0.0          0.01           NaN           NaN   \n16712      0.00          0.0          0.01           NaN           NaN   \n16713      0.00          0.0          0.01           NaN           NaN   \n16714      0.01          0.0          0.01           NaN           NaN   \n16715      0.00          0.0          0.01           NaN           NaN   \n16716      0.01          0.0          0.01           NaN           NaN   \n16717      0.00          0.0          0.01           NaN           NaN   \n16718      0.01          0.0          0.01           NaN           NaN   \n\n      User_Score  User_Count          Developer Rating  \n16709        5.8         8.0  DTP Entertainment    NaN  \n16710        tbd         NaN              Atari      T  \n16711        NaN         NaN                NaN    NaN  \n16712        NaN         NaN                NaN    NaN  \n16713        NaN         NaN                NaN    NaN  \n16714        NaN         NaN                NaN    NaN  \n16715        NaN         NaN                NaN    NaN  \n16716        NaN         NaN                NaN    NaN  \n16717        NaN         NaN                NaN    NaN  \n16718        NaN         NaN                NaN    NaN  ",
      "text/html": "<div>\n<style scoped>\n    .dataframe tbody tr th:only-of-type {\n        vertical-align: middle;\n    }\n\n    .dataframe tbody tr th {\n        vertical-align: top;\n    }\n\n    .dataframe thead th {\n        text-align: right;\n    }\n</style>\n<table border=\"1\" class=\"dataframe\">\n  <thead>\n    <tr style=\"text-align: right;\">\n      <th></th>\n      <th>Name</th>\n      <th>Platform</th>\n      <th>Year_of_Release</th>\n      <th>Genre</th>\n      <th>Publisher</th>\n      <th>NA_Sales</th>\n      <th>EU_Sales</th>\n      <th>JP_Sales</th>\n      <th>Other_Sales</th>\n      <th>Global_Sales</th>\n      <th>Critic_Score</th>\n      <th>Critic_Count</th>\n      <th>User_Score</th>\n      <th>User_Count</th>\n      <th>Developer</th>\n      <th>Rating</th>\n    </tr>\n  </thead>\n  <tbody>\n    <tr>\n      <th>16709</th>\n      <td>15 Days</td>\n      <td>PC</td>\n      <td>2009.0</td>\n      <td>Adventure</td>\n      <td>DTP Entertainment</td>\n      <td>0.00</td>\n      <td>0.01</td>\n      <td>0.00</td>\n      <td>0.0</td>\n      <td>0.01</td>\n      <td>63.0</td>\n      <td>6.0</td>\n      <td>5.8</td>\n      <td>8.0</td>\n      <td>DTP Entertainment</td>\n      <td>NaN</td>\n    </tr>\n    <tr>\n      <th>16710</th>\n      <td>Men in Black II: Alien Escape</td>\n      <td>GC</td>\n      <td>2003.0</td>\n      <td>Shooter</td>\n      <td>Infogrames</td>\n      <td>0.01</td>\n      <td>0.00</td>\n      <td>0.00</td>\n      <td>0.0</td>\n      <td>0.01</td>\n      <td>NaN</td>\n      <td>NaN</td>\n      <td>tbd</td>\n      <td>NaN</td>\n      <td>Atari</td>\n      <td>T</td>\n    </tr>\n    <tr>\n      <th>16711</th>\n      <td>Aiyoku no Eustia</td>\n      <td>PSV</td>\n      <td>2014.0</td>\n      <td>Misc</td>\n      <td>dramatic create</td>\n      <td>0.00</td>\n      <td>0.00</td>\n      <td>0.01</td>\n      <td>0.0</td>\n      <td>0.01</td>\n      <td>NaN</td>\n      <td>NaN</td>\n      <td>NaN</td>\n      <td>NaN</td>\n      <td>NaN</td>\n      <td>NaN</td>\n    </tr>\n    <tr>\n      <th>16712</th>\n      <td>Woody Woodpecker in Crazy Castle 5</td>\n      <td>GBA</td>\n      <td>2002.0</td>\n      <td>Platform</td>\n      <td>Kemco</td>\n      <td>0.01</td>\n      <td>0.00</td>\n      <td>0.00</td>\n      <td>0.0</td>\n      <td>0.01</td>\n      <td>NaN</td>\n      <td>NaN</td>\n      <td>NaN</td>\n      <td>NaN</td>\n      <td>NaN</td>\n      <td>NaN</td>\n    </tr>\n    <tr>\n      <th>16713</th>\n      <td>SCORE International Baja 1000: The Official Game</td>\n      <td>PS2</td>\n      <td>2008.0</td>\n      <td>Racing</td>\n      <td>Activision</td>\n      <td>0.00</td>\n      <td>0.00</td>\n      <td>0.00</td>\n      <td>0.0</td>\n      <td>0.01</td>\n      <td>NaN</td>\n      <td>NaN</td>\n      <td>NaN</td>\n      <td>NaN</td>\n      <td>NaN</td>\n      <td>NaN</td>\n    </tr>\n    <tr>\n      <th>16714</th>\n      <td>Samurai Warriors: Sanada Maru</td>\n      <td>PS3</td>\n      <td>2016.0</td>\n      <td>Action</td>\n      <td>Tecmo Koei</td>\n      <td>0.00</td>\n      <td>0.00</td>\n      <td>0.01</td>\n      <td>0.0</td>\n      <td>0.01</td>\n      <td>NaN</td>\n      <td>NaN</td>\n      <td>NaN</td>\n      <td>NaN</td>\n      <td>NaN</td>\n      <td>NaN</td>\n    </tr>\n    <tr>\n      <th>16715</th>\n      <td>LMA Manager 2007</td>\n      <td>X360</td>\n      <td>2006.0</td>\n      <td>Sports</td>\n      <td>Codemasters</td>\n      <td>0.00</td>\n      <td>0.01</td>\n      <td>0.00</td>\n      <td>0.0</td>\n      <td>0.01</td>\n      <td>NaN</td>\n      <td>NaN</td>\n      <td>NaN</td>\n      <td>NaN</td>\n      <td>NaN</td>\n      <td>NaN</td>\n    </tr>\n    <tr>\n      <th>16716</th>\n      <td>Haitaka no Psychedelica</td>\n      <td>PSV</td>\n      <td>2016.0</td>\n      <td>Adventure</td>\n      <td>Idea Factory</td>\n      <td>0.00</td>\n      <td>0.00</td>\n      <td>0.01</td>\n      <td>0.0</td>\n      <td>0.01</td>\n      <td>NaN</td>\n      <td>NaN</td>\n      <td>NaN</td>\n      <td>NaN</td>\n      <td>NaN</td>\n      <td>NaN</td>\n    </tr>\n    <tr>\n      <th>16717</th>\n      <td>Spirits &amp; Spells</td>\n      <td>GBA</td>\n      <td>2003.0</td>\n      <td>Platform</td>\n      <td>Wanadoo</td>\n      <td>0.01</td>\n      <td>0.00</td>\n      <td>0.00</td>\n      <td>0.0</td>\n      <td>0.01</td>\n      <td>NaN</td>\n      <td>NaN</td>\n      <td>NaN</td>\n      <td>NaN</td>\n      <td>NaN</td>\n      <td>NaN</td>\n    </tr>\n    <tr>\n      <th>16718</th>\n      <td>Winning Post 8 2016</td>\n      <td>PSV</td>\n      <td>2016.0</td>\n      <td>Simulation</td>\n      <td>Tecmo Koei</td>\n      <td>0.00</td>\n      <td>0.00</td>\n      <td>0.01</td>\n      <td>0.0</td>\n      <td>0.01</td>\n      <td>NaN</td>\n      <td>NaN</td>\n      <td>NaN</td>\n      <td>NaN</td>\n      <td>NaN</td>\n      <td>NaN</td>\n    </tr>\n  </tbody>\n</table>\n</div>"
     },
     "execution_count": 7,
     "metadata": {},
     "output_type": "execute_result"
    }
   ],
   "source": [
    "df.tail(10)"
   ],
   "metadata": {
    "collapsed": false,
    "pycharm": {
     "name": "#%%\n"
    }
   }
  },
  {
   "cell_type": "code",
   "execution_count": 8,
   "outputs": [
    {
     "data": {
      "text/plain": "                               Name Platform   Genre        Publisher  \\\ncount                         16717    16719   16717            16665   \nunique                        11562       31      12              581   \ntop     Need for Speed: Most Wanted      PS2  Action  Electronic Arts   \nfreq                             12     2161    3370             1356   \n\n       User_Score Developer Rating  \ncount       10015     10096   9950  \nunique         96      1696      8  \ntop           tbd   Ubisoft      E  \nfreq         2425       204   3991  ",
      "text/html": "<div>\n<style scoped>\n    .dataframe tbody tr th:only-of-type {\n        vertical-align: middle;\n    }\n\n    .dataframe tbody tr th {\n        vertical-align: top;\n    }\n\n    .dataframe thead th {\n        text-align: right;\n    }\n</style>\n<table border=\"1\" class=\"dataframe\">\n  <thead>\n    <tr style=\"text-align: right;\">\n      <th></th>\n      <th>Name</th>\n      <th>Platform</th>\n      <th>Genre</th>\n      <th>Publisher</th>\n      <th>User_Score</th>\n      <th>Developer</th>\n      <th>Rating</th>\n    </tr>\n  </thead>\n  <tbody>\n    <tr>\n      <th>count</th>\n      <td>16717</td>\n      <td>16719</td>\n      <td>16717</td>\n      <td>16665</td>\n      <td>10015</td>\n      <td>10096</td>\n      <td>9950</td>\n    </tr>\n    <tr>\n      <th>unique</th>\n      <td>11562</td>\n      <td>31</td>\n      <td>12</td>\n      <td>581</td>\n      <td>96</td>\n      <td>1696</td>\n      <td>8</td>\n    </tr>\n    <tr>\n      <th>top</th>\n      <td>Need for Speed: Most Wanted</td>\n      <td>PS2</td>\n      <td>Action</td>\n      <td>Electronic Arts</td>\n      <td>tbd</td>\n      <td>Ubisoft</td>\n      <td>E</td>\n    </tr>\n    <tr>\n      <th>freq</th>\n      <td>12</td>\n      <td>2161</td>\n      <td>3370</td>\n      <td>1356</td>\n      <td>2425</td>\n      <td>204</td>\n      <td>3991</td>\n    </tr>\n  </tbody>\n</table>\n</div>"
     },
     "execution_count": 8,
     "metadata": {},
     "output_type": "execute_result"
    }
   ],
   "source": [
    "### Count number of N/A\n",
    "df.describe(include=['object'])"
   ],
   "metadata": {
    "collapsed": false,
    "pycharm": {
     "name": "#%%\n"
    }
   }
  },
  {
   "cell_type": "code",
   "execution_count": 10,
   "outputs": [
    {
     "name": "stdout",
     "output_type": "stream",
     "text": [
      "<class 'pandas.core.frame.DataFrame'>\n",
      "RangeIndex: 16719 entries, 0 to 16718\n",
      "Data columns (total 16 columns):\n",
      " #   Column           Non-Null Count  Dtype  \n",
      "---  ------           --------------  -----  \n",
      " 0   Name             16717 non-null  object \n",
      " 1   Platform         16719 non-null  object \n",
      " 2   Year_of_Release  16450 non-null  float64\n",
      " 3   Genre            16717 non-null  object \n",
      " 4   Publisher        16665 non-null  object \n",
      " 5   NA_Sales         16719 non-null  float64\n",
      " 6   EU_Sales         16719 non-null  float64\n",
      " 7   JP_Sales         16719 non-null  float64\n",
      " 8   Other_Sales      16719 non-null  float64\n",
      " 9   Global_Sales     16719 non-null  float64\n",
      " 10  Critic_Score     8137 non-null   float64\n",
      " 11  Critic_Count     8137 non-null   float64\n",
      " 12  User_Score       10015 non-null  object \n",
      " 13  User_Count       7590 non-null   float64\n",
      " 14  Developer        10096 non-null  object \n",
      " 15  Rating           9950 non-null   object \n",
      "dtypes: float64(9), object(7)\n",
      "memory usage: 2.0+ MB\n"
     ]
    }
   ],
   "source": [
    "df.info()"
   ],
   "metadata": {
    "collapsed": false,
    "pycharm": {
     "name": "#%%\n"
    }
   }
  },
  {
   "cell_type": "code",
   "execution_count": 11,
   "outputs": [
    {
     "data": {
      "text/plain": "       Year_of_Release      NA_Sales      EU_Sales      JP_Sales  \\\ncount     16450.000000  16719.000000  16719.000000  16719.000000   \nmean       2006.487356      0.263330      0.145025      0.077602   \nstd           5.878995      0.813514      0.503283      0.308818   \nmin        1980.000000      0.000000      0.000000      0.000000   \n25%        2003.000000      0.000000      0.000000      0.000000   \n50%        2007.000000      0.080000      0.020000      0.000000   \n75%        2010.000000      0.240000      0.110000      0.040000   \nmax        2020.000000     41.360000     28.960000     10.220000   \n\n        Other_Sales  Global_Sales  Critic_Score  Critic_Count    User_Count  \ncount  16719.000000  16719.000000   8137.000000   8137.000000   7590.000000  \nmean       0.047332      0.533543     68.967679     26.360821    162.229908  \nstd        0.186710      1.547935     13.938165     18.980495    561.282326  \nmin        0.000000      0.010000     13.000000      3.000000      4.000000  \n25%        0.000000      0.060000     60.000000     12.000000     10.000000  \n50%        0.010000      0.170000     71.000000     21.000000     24.000000  \n75%        0.030000      0.470000     79.000000     36.000000     81.000000  \nmax       10.570000     82.530000     98.000000    113.000000  10665.000000  ",
      "text/html": "<div>\n<style scoped>\n    .dataframe tbody tr th:only-of-type {\n        vertical-align: middle;\n    }\n\n    .dataframe tbody tr th {\n        vertical-align: top;\n    }\n\n    .dataframe thead th {\n        text-align: right;\n    }\n</style>\n<table border=\"1\" class=\"dataframe\">\n  <thead>\n    <tr style=\"text-align: right;\">\n      <th></th>\n      <th>Year_of_Release</th>\n      <th>NA_Sales</th>\n      <th>EU_Sales</th>\n      <th>JP_Sales</th>\n      <th>Other_Sales</th>\n      <th>Global_Sales</th>\n      <th>Critic_Score</th>\n      <th>Critic_Count</th>\n      <th>User_Count</th>\n    </tr>\n  </thead>\n  <tbody>\n    <tr>\n      <th>count</th>\n      <td>16450.000000</td>\n      <td>16719.000000</td>\n      <td>16719.000000</td>\n      <td>16719.000000</td>\n      <td>16719.000000</td>\n      <td>16719.000000</td>\n      <td>8137.000000</td>\n      <td>8137.000000</td>\n      <td>7590.000000</td>\n    </tr>\n    <tr>\n      <th>mean</th>\n      <td>2006.487356</td>\n      <td>0.263330</td>\n      <td>0.145025</td>\n      <td>0.077602</td>\n      <td>0.047332</td>\n      <td>0.533543</td>\n      <td>68.967679</td>\n      <td>26.360821</td>\n      <td>162.229908</td>\n    </tr>\n    <tr>\n      <th>std</th>\n      <td>5.878995</td>\n      <td>0.813514</td>\n      <td>0.503283</td>\n      <td>0.308818</td>\n      <td>0.186710</td>\n      <td>1.547935</td>\n      <td>13.938165</td>\n      <td>18.980495</td>\n      <td>561.282326</td>\n    </tr>\n    <tr>\n      <th>min</th>\n      <td>1980.000000</td>\n      <td>0.000000</td>\n      <td>0.000000</td>\n      <td>0.000000</td>\n      <td>0.000000</td>\n      <td>0.010000</td>\n      <td>13.000000</td>\n      <td>3.000000</td>\n      <td>4.000000</td>\n    </tr>\n    <tr>\n      <th>25%</th>\n      <td>2003.000000</td>\n      <td>0.000000</td>\n      <td>0.000000</td>\n      <td>0.000000</td>\n      <td>0.000000</td>\n      <td>0.060000</td>\n      <td>60.000000</td>\n      <td>12.000000</td>\n      <td>10.000000</td>\n    </tr>\n    <tr>\n      <th>50%</th>\n      <td>2007.000000</td>\n      <td>0.080000</td>\n      <td>0.020000</td>\n      <td>0.000000</td>\n      <td>0.010000</td>\n      <td>0.170000</td>\n      <td>71.000000</td>\n      <td>21.000000</td>\n      <td>24.000000</td>\n    </tr>\n    <tr>\n      <th>75%</th>\n      <td>2010.000000</td>\n      <td>0.240000</td>\n      <td>0.110000</td>\n      <td>0.040000</td>\n      <td>0.030000</td>\n      <td>0.470000</td>\n      <td>79.000000</td>\n      <td>36.000000</td>\n      <td>81.000000</td>\n    </tr>\n    <tr>\n      <th>max</th>\n      <td>2020.000000</td>\n      <td>41.360000</td>\n      <td>28.960000</td>\n      <td>10.220000</td>\n      <td>10.570000</td>\n      <td>82.530000</td>\n      <td>98.000000</td>\n      <td>113.000000</td>\n      <td>10665.000000</td>\n    </tr>\n  </tbody>\n</table>\n</div>"
     },
     "execution_count": 11,
     "metadata": {},
     "output_type": "execute_result"
    }
   ],
   "source": [
    "df.describe()"
   ],
   "metadata": {
    "collapsed": false,
    "pycharm": {
     "name": "#%%\n"
    }
   }
  },
  {
   "cell_type": "markdown",
   "source": [
    "##### We need to replace the ? symbol with Nan so the dropna() can remove the missinng values"
   ],
   "metadata": {
    "collapsed": false,
    "pycharm": {
     "name": "#%% md\n"
    }
   }
  },
  {
   "cell_type": "code",
   "execution_count": 19,
   "outputs": [],
   "source": [
    "df1 = df.replace(\"?\", np.NaN)"
   ],
   "metadata": {
    "collapsed": false,
    "pycharm": {
     "name": "#%%\n"
    }
   }
  },
  {
   "cell_type": "markdown",
   "source": [
    "##### We can drop missing values along the column \"normalized_losses\" ass follows:"
   ],
   "metadata": {
    "collapsed": false,
    "pycharm": {
     "name": "#%% md\n"
    }
   }
  },
  {
   "cell_type": "code",
   "execution_count": 21,
   "outputs": [],
   "source": [
    "df = df1.dropna(subset=[\"Critic_Score\"], axis=0)"
   ],
   "metadata": {
    "collapsed": false,
    "pycharm": {
     "name": "#%%\n"
    }
   }
  },
  {
   "cell_type": "code",
   "execution_count": 22,
   "outputs": [],
   "source": [
    "###### Now, we have successfully read the raw dataset and added the correct headers into the dataframe."
   ],
   "metadata": {
    "collapsed": false,
    "pycharm": {
     "name": "#%%\n"
    }
   }
  },
  {
   "cell_type": "code",
   "execution_count": 23,
   "outputs": [],
   "source": [
    "## Question #2:\n",
    "#### Find the name of the columns of the dataframe."
   ],
   "metadata": {
    "collapsed": false,
    "pycharm": {
     "name": "#%%\n"
    }
   }
  },
  {
   "cell_type": "code",
   "execution_count": 26,
   "outputs": [
    {
     "name": "stdout",
     "output_type": "stream",
     "text": [
      "Index(['Name', 'Platform', 'Year_of_Release', 'Genre', 'Publisher', 'NA_Sales',\n",
      "       'EU_Sales', 'JP_Sales', 'Other_Sales', 'Global_Sales', 'Critic_Score',\n",
      "       'Critic_Count', 'User_Score', 'User_Count', 'Developer', 'Rating'],\n",
      "      dtype='object')\n"
     ]
    }
   ],
   "source": [
    "print(df.columns)"
   ],
   "metadata": {
    "collapsed": false,
    "pycharm": {
     "name": "#%%\n"
    }
   }
  },
  {
   "cell_type": "markdown",
   "source": [
    "#### Save Dataset\n",
    "###### Correspondingly, Pandas enables us to save the dataset to csv. By using the dataframe.to_csv() method, you can add the file path and name along with quotation marks in the brackets.\n",
    "###### For example, if you wojuld save the dataframe df as videogame.csv to your local machine, you may use the syntax below, where index = False means the row names will not be written."
   ],
   "metadata": {
    "collapsed": false,
    "pycharm": {
     "name": "#%% md\n"
    }
   }
  },
  {
   "cell_type": "code",
   "execution_count": 27,
   "outputs": [],
   "source": [
    "df.to_csv(\"Video_Games_Sales.csv\", index= False)"
   ],
   "metadata": {
    "collapsed": false,
    "pycharm": {
     "name": "#%%\n"
    }
   }
  },
  {
   "cell_type": "markdown",
   "source": [
    "##### We can alsso read and save other file formats. we can use similar functions like pd.read_csv() and df.to_csv() for other data formats. The functions are listed in the following table:"
   ],
   "metadata": {
    "collapsed": false,
    "pycharm": {
     "name": "#%% md\n"
    }
   }
  },
  {
   "cell_type": "markdown",
   "source": [
    "## Data Types\n",
    "##### Data has variety of types.\n",
    "##### The main type stored in Pandas Dataframes are object, float, int, bool and datatime64. In order to better learn about each attribute, it is always good for us to know the data type of each column. In Pandas:"
   ],
   "metadata": {
    "collapsed": false,
    "pycharm": {
     "name": "#%% md\n"
    }
   }
  },
  {
   "cell_type": "code",
   "execution_count": 30,
   "outputs": [
    {
     "data": {
      "text/plain": "Name                object\nPlatform            object\nYear_of_Release    float64\nGenre               object\nPublisher           object\nNA_Sales           float64\nEU_Sales           float64\nJP_Sales           float64\nOther_Sales        float64\nGlobal_Sales       float64\nCritic_Score       float64\nCritic_Count       float64\nUser_Score          object\nUser_Count         float64\nDeveloper           object\nRating              object\ndtype: object"
     },
     "execution_count": 30,
     "metadata": {},
     "output_type": "execute_result"
    }
   ],
   "source": [
    "df.dtypes"
   ],
   "metadata": {
    "collapsed": false,
    "pycharm": {
     "name": "#%%\n"
    }
   }
  },
  {
   "cell_type": "markdown",
   "source": [
    "##### A series with data type of each column is returned."
   ],
   "metadata": {
    "collapsed": false,
    "pycharm": {
     "name": "#%% md\n"
    }
   }
  },
  {
   "cell_type": "code",
   "execution_count": 32,
   "outputs": [
    {
     "name": "stdout",
     "output_type": "stream",
     "text": [
      "Name                object\n",
      "Platform            object\n",
      "Year_of_Release    float64\n",
      "Genre               object\n",
      "Publisher           object\n",
      "NA_Sales           float64\n",
      "EU_Sales           float64\n",
      "JP_Sales           float64\n",
      "Other_Sales        float64\n",
      "Global_Sales       float64\n",
      "Critic_Score       float64\n",
      "Critic_Count       float64\n",
      "User_Score          object\n",
      "User_Count         float64\n",
      "Developer           object\n",
      "Rating              object\n",
      "dtype: object\n"
     ]
    }
   ],
   "source": [
    "# Check the data type of data frame \"df\" by.dtypes\n",
    "print(df.dtypes)"
   ],
   "metadata": {
    "collapsed": false,
    "pycharm": {
     "name": "#%%\n"
    }
   }
  },
  {
   "cell_type": "markdown",
   "source": [
    "##### As shown above, it is clear to see that the data type of \"User_score\" is object, and \"User_count\" is float64\n",
    "##### These data types can be changed; we will learn how to accomplish this in a later module."
   ],
   "metadata": {
    "collapsed": false,
    "pycharm": {
     "name": "#%% md\n"
    }
   }
  },
  {
   "cell_type": "markdown",
   "source": [
    "## Describe\n",
    "#### If we would like to get a sstatistical summary of each column e.g. count, column mean value, column standard deviation, etc., we use the describe method:"
   ],
   "metadata": {
    "collapsed": false,
    "pycharm": {
     "name": "#%% md\n"
    }
   }
  },
  {
   "cell_type": "code",
   "execution_count": 35,
   "outputs": [
    {
     "data": {
      "text/plain": "       Year_of_Release     NA_Sales     EU_Sales     JP_Sales  Other_Sales  \\\ncount      7983.000000  8137.000000  8137.000000  8137.000000  8137.000000   \nmean       2007.192785     0.352980     0.208311     0.055028     0.072435   \nstd           4.189425     0.896476     0.635622     0.265075     0.249204   \nmin        1985.000000     0.000000     0.000000     0.000000     0.000000   \n25%        2004.000000     0.050000     0.010000     0.000000     0.010000   \n50%        2007.000000     0.130000     0.050000     0.000000     0.020000   \n75%        2010.000000     0.340000     0.180000     0.010000     0.060000   \nmax        2016.000000    41.360000    28.960000     6.500000    10.570000   \n\n       Global_Sales  Critic_Score  Critic_Count    User_Count  \ncount   8137.000000   8137.000000   8137.000000   7017.000000  \nmean       0.689035     68.967679     26.360821    173.432664  \nstd        1.816704     13.938165     18.980495    581.977516  \nmin        0.010000     13.000000      3.000000      4.000000  \n25%        0.090000     60.000000     12.000000     11.000000  \n50%        0.240000     71.000000     21.000000     27.000000  \n75%        0.650000     79.000000     36.000000     89.000000  \nmax       82.530000     98.000000    113.000000  10665.000000  ",
      "text/html": "<div>\n<style scoped>\n    .dataframe tbody tr th:only-of-type {\n        vertical-align: middle;\n    }\n\n    .dataframe tbody tr th {\n        vertical-align: top;\n    }\n\n    .dataframe thead th {\n        text-align: right;\n    }\n</style>\n<table border=\"1\" class=\"dataframe\">\n  <thead>\n    <tr style=\"text-align: right;\">\n      <th></th>\n      <th>Year_of_Release</th>\n      <th>NA_Sales</th>\n      <th>EU_Sales</th>\n      <th>JP_Sales</th>\n      <th>Other_Sales</th>\n      <th>Global_Sales</th>\n      <th>Critic_Score</th>\n      <th>Critic_Count</th>\n      <th>User_Count</th>\n    </tr>\n  </thead>\n  <tbody>\n    <tr>\n      <th>count</th>\n      <td>7983.000000</td>\n      <td>8137.000000</td>\n      <td>8137.000000</td>\n      <td>8137.000000</td>\n      <td>8137.000000</td>\n      <td>8137.000000</td>\n      <td>8137.000000</td>\n      <td>8137.000000</td>\n      <td>7017.000000</td>\n    </tr>\n    <tr>\n      <th>mean</th>\n      <td>2007.192785</td>\n      <td>0.352980</td>\n      <td>0.208311</td>\n      <td>0.055028</td>\n      <td>0.072435</td>\n      <td>0.689035</td>\n      <td>68.967679</td>\n      <td>26.360821</td>\n      <td>173.432664</td>\n    </tr>\n    <tr>\n      <th>std</th>\n      <td>4.189425</td>\n      <td>0.896476</td>\n      <td>0.635622</td>\n      <td>0.265075</td>\n      <td>0.249204</td>\n      <td>1.816704</td>\n      <td>13.938165</td>\n      <td>18.980495</td>\n      <td>581.977516</td>\n    </tr>\n    <tr>\n      <th>min</th>\n      <td>1985.000000</td>\n      <td>0.000000</td>\n      <td>0.000000</td>\n      <td>0.000000</td>\n      <td>0.000000</td>\n      <td>0.010000</td>\n      <td>13.000000</td>\n      <td>3.000000</td>\n      <td>4.000000</td>\n    </tr>\n    <tr>\n      <th>25%</th>\n      <td>2004.000000</td>\n      <td>0.050000</td>\n      <td>0.010000</td>\n      <td>0.000000</td>\n      <td>0.010000</td>\n      <td>0.090000</td>\n      <td>60.000000</td>\n      <td>12.000000</td>\n      <td>11.000000</td>\n    </tr>\n    <tr>\n      <th>50%</th>\n      <td>2007.000000</td>\n      <td>0.130000</td>\n      <td>0.050000</td>\n      <td>0.000000</td>\n      <td>0.020000</td>\n      <td>0.240000</td>\n      <td>71.000000</td>\n      <td>21.000000</td>\n      <td>27.000000</td>\n    </tr>\n    <tr>\n      <th>75%</th>\n      <td>2010.000000</td>\n      <td>0.340000</td>\n      <td>0.180000</td>\n      <td>0.010000</td>\n      <td>0.060000</td>\n      <td>0.650000</td>\n      <td>79.000000</td>\n      <td>36.000000</td>\n      <td>89.000000</td>\n    </tr>\n    <tr>\n      <th>max</th>\n      <td>2016.000000</td>\n      <td>41.360000</td>\n      <td>28.960000</td>\n      <td>6.500000</td>\n      <td>10.570000</td>\n      <td>82.530000</td>\n      <td>98.000000</td>\n      <td>113.000000</td>\n      <td>10665.000000</td>\n    </tr>\n  </tbody>\n</table>\n</div>"
     },
     "execution_count": 35,
     "metadata": {},
     "output_type": "execute_result"
    }
   ],
   "source": [
    "df.describe()"
   ],
   "metadata": {
    "collapsed": false,
    "pycharm": {
     "name": "#%%\n"
    }
   }
  },
  {
   "cell_type": "markdown",
   "source": [
    "###### This shows the statistical summary of all numeric-typed(int, float) columns.\n",
    "###### However, what if we would also like to check all the columns inncluding those that are of type object?\n",
    "###### You can add an argument include =\"all\" inside the bracket. Let's try it again."
   ],
   "metadata": {
    "collapsed": false,
    "pycharm": {
     "name": "#%% md\n"
    }
   }
  },
  {
   "cell_type": "code",
   "execution_count": 36,
   "outputs": [
    {
     "data": {
      "text/plain": "                 Name Platform  Year_of_Release   Genre        Publisher  \\\ncount            8137     8137      7983.000000    8137             8133   \nunique           5085       17              NaN      12              303   \ntop     Madden NFL 07      PS2              NaN  Action  Electronic Arts   \nfreq                9     1298              NaN    1890             1029   \nmean              NaN      NaN      2007.192785     NaN              NaN   \nstd               NaN      NaN         4.189425     NaN              NaN   \nmin               NaN      NaN      1985.000000     NaN              NaN   \n25%               NaN      NaN      2004.000000     NaN              NaN   \n50%               NaN      NaN      2007.000000     NaN              NaN   \n75%               NaN      NaN      2010.000000     NaN              NaN   \nmax               NaN      NaN      2016.000000     NaN              NaN   \n\n           NA_Sales     EU_Sales     JP_Sales  Other_Sales  Global_Sales  \\\ncount   8137.000000  8137.000000  8137.000000  8137.000000   8137.000000   \nunique          NaN          NaN          NaN          NaN           NaN   \ntop             NaN          NaN          NaN          NaN           NaN   \nfreq            NaN          NaN          NaN          NaN           NaN   \nmean       0.352980     0.208311     0.055028     0.072435      0.689035   \nstd        0.896476     0.635622     0.265075     0.249204      1.816704   \nmin        0.000000     0.000000     0.000000     0.000000      0.010000   \n25%        0.050000     0.010000     0.000000     0.010000      0.090000   \n50%        0.130000     0.050000     0.000000     0.020000      0.240000   \n75%        0.340000     0.180000     0.010000     0.060000      0.650000   \nmax       41.360000    28.960000     6.500000    10.570000     82.530000   \n\n        Critic_Score  Critic_Count User_Score    User_Count  Developer Rating  \ncount    8137.000000   8137.000000       8099   7017.000000       8131   8054  \nunique           NaN           NaN         90           NaN       1466      7  \ntop              NaN           NaN        tbd           NaN  EA Canada      E  \nfreq             NaN           NaN       1082           NaN        159   2808  \nmean       68.967679     26.360821        NaN    173.432664        NaN    NaN  \nstd        13.938165     18.980495        NaN    581.977516        NaN    NaN  \nmin        13.000000      3.000000        NaN      4.000000        NaN    NaN  \n25%        60.000000     12.000000        NaN     11.000000        NaN    NaN  \n50%        71.000000     21.000000        NaN     27.000000        NaN    NaN  \n75%        79.000000     36.000000        NaN     89.000000        NaN    NaN  \nmax        98.000000    113.000000        NaN  10665.000000        NaN    NaN  ",
      "text/html": "<div>\n<style scoped>\n    .dataframe tbody tr th:only-of-type {\n        vertical-align: middle;\n    }\n\n    .dataframe tbody tr th {\n        vertical-align: top;\n    }\n\n    .dataframe thead th {\n        text-align: right;\n    }\n</style>\n<table border=\"1\" class=\"dataframe\">\n  <thead>\n    <tr style=\"text-align: right;\">\n      <th></th>\n      <th>Name</th>\n      <th>Platform</th>\n      <th>Year_of_Release</th>\n      <th>Genre</th>\n      <th>Publisher</th>\n      <th>NA_Sales</th>\n      <th>EU_Sales</th>\n      <th>JP_Sales</th>\n      <th>Other_Sales</th>\n      <th>Global_Sales</th>\n      <th>Critic_Score</th>\n      <th>Critic_Count</th>\n      <th>User_Score</th>\n      <th>User_Count</th>\n      <th>Developer</th>\n      <th>Rating</th>\n    </tr>\n  </thead>\n  <tbody>\n    <tr>\n      <th>count</th>\n      <td>8137</td>\n      <td>8137</td>\n      <td>7983.000000</td>\n      <td>8137</td>\n      <td>8133</td>\n      <td>8137.000000</td>\n      <td>8137.000000</td>\n      <td>8137.000000</td>\n      <td>8137.000000</td>\n      <td>8137.000000</td>\n      <td>8137.000000</td>\n      <td>8137.000000</td>\n      <td>8099</td>\n      <td>7017.000000</td>\n      <td>8131</td>\n      <td>8054</td>\n    </tr>\n    <tr>\n      <th>unique</th>\n      <td>5085</td>\n      <td>17</td>\n      <td>NaN</td>\n      <td>12</td>\n      <td>303</td>\n      <td>NaN</td>\n      <td>NaN</td>\n      <td>NaN</td>\n      <td>NaN</td>\n      <td>NaN</td>\n      <td>NaN</td>\n      <td>NaN</td>\n      <td>90</td>\n      <td>NaN</td>\n      <td>1466</td>\n      <td>7</td>\n    </tr>\n    <tr>\n      <th>top</th>\n      <td>Madden NFL 07</td>\n      <td>PS2</td>\n      <td>NaN</td>\n      <td>Action</td>\n      <td>Electronic Arts</td>\n      <td>NaN</td>\n      <td>NaN</td>\n      <td>NaN</td>\n      <td>NaN</td>\n      <td>NaN</td>\n      <td>NaN</td>\n      <td>NaN</td>\n      <td>tbd</td>\n      <td>NaN</td>\n      <td>EA Canada</td>\n      <td>E</td>\n    </tr>\n    <tr>\n      <th>freq</th>\n      <td>9</td>\n      <td>1298</td>\n      <td>NaN</td>\n      <td>1890</td>\n      <td>1029</td>\n      <td>NaN</td>\n      <td>NaN</td>\n      <td>NaN</td>\n      <td>NaN</td>\n      <td>NaN</td>\n      <td>NaN</td>\n      <td>NaN</td>\n      <td>1082</td>\n      <td>NaN</td>\n      <td>159</td>\n      <td>2808</td>\n    </tr>\n    <tr>\n      <th>mean</th>\n      <td>NaN</td>\n      <td>NaN</td>\n      <td>2007.192785</td>\n      <td>NaN</td>\n      <td>NaN</td>\n      <td>0.352980</td>\n      <td>0.208311</td>\n      <td>0.055028</td>\n      <td>0.072435</td>\n      <td>0.689035</td>\n      <td>68.967679</td>\n      <td>26.360821</td>\n      <td>NaN</td>\n      <td>173.432664</td>\n      <td>NaN</td>\n      <td>NaN</td>\n    </tr>\n    <tr>\n      <th>std</th>\n      <td>NaN</td>\n      <td>NaN</td>\n      <td>4.189425</td>\n      <td>NaN</td>\n      <td>NaN</td>\n      <td>0.896476</td>\n      <td>0.635622</td>\n      <td>0.265075</td>\n      <td>0.249204</td>\n      <td>1.816704</td>\n      <td>13.938165</td>\n      <td>18.980495</td>\n      <td>NaN</td>\n      <td>581.977516</td>\n      <td>NaN</td>\n      <td>NaN</td>\n    </tr>\n    <tr>\n      <th>min</th>\n      <td>NaN</td>\n      <td>NaN</td>\n      <td>1985.000000</td>\n      <td>NaN</td>\n      <td>NaN</td>\n      <td>0.000000</td>\n      <td>0.000000</td>\n      <td>0.000000</td>\n      <td>0.000000</td>\n      <td>0.010000</td>\n      <td>13.000000</td>\n      <td>3.000000</td>\n      <td>NaN</td>\n      <td>4.000000</td>\n      <td>NaN</td>\n      <td>NaN</td>\n    </tr>\n    <tr>\n      <th>25%</th>\n      <td>NaN</td>\n      <td>NaN</td>\n      <td>2004.000000</td>\n      <td>NaN</td>\n      <td>NaN</td>\n      <td>0.050000</td>\n      <td>0.010000</td>\n      <td>0.000000</td>\n      <td>0.010000</td>\n      <td>0.090000</td>\n      <td>60.000000</td>\n      <td>12.000000</td>\n      <td>NaN</td>\n      <td>11.000000</td>\n      <td>NaN</td>\n      <td>NaN</td>\n    </tr>\n    <tr>\n      <th>50%</th>\n      <td>NaN</td>\n      <td>NaN</td>\n      <td>2007.000000</td>\n      <td>NaN</td>\n      <td>NaN</td>\n      <td>0.130000</td>\n      <td>0.050000</td>\n      <td>0.000000</td>\n      <td>0.020000</td>\n      <td>0.240000</td>\n      <td>71.000000</td>\n      <td>21.000000</td>\n      <td>NaN</td>\n      <td>27.000000</td>\n      <td>NaN</td>\n      <td>NaN</td>\n    </tr>\n    <tr>\n      <th>75%</th>\n      <td>NaN</td>\n      <td>NaN</td>\n      <td>2010.000000</td>\n      <td>NaN</td>\n      <td>NaN</td>\n      <td>0.340000</td>\n      <td>0.180000</td>\n      <td>0.010000</td>\n      <td>0.060000</td>\n      <td>0.650000</td>\n      <td>79.000000</td>\n      <td>36.000000</td>\n      <td>NaN</td>\n      <td>89.000000</td>\n      <td>NaN</td>\n      <td>NaN</td>\n    </tr>\n    <tr>\n      <th>max</th>\n      <td>NaN</td>\n      <td>NaN</td>\n      <td>2016.000000</td>\n      <td>NaN</td>\n      <td>NaN</td>\n      <td>41.360000</td>\n      <td>28.960000</td>\n      <td>6.500000</td>\n      <td>10.570000</td>\n      <td>82.530000</td>\n      <td>98.000000</td>\n      <td>113.000000</td>\n      <td>NaN</td>\n      <td>10665.000000</td>\n      <td>NaN</td>\n      <td>NaN</td>\n    </tr>\n  </tbody>\n</table>\n</div>"
     },
     "execution_count": 36,
     "metadata": {},
     "output_type": "execute_result"
    }
   ],
   "source": [
    "df.describe(include=\"all\")"
   ],
   "metadata": {
    "collapsed": false,
    "pycharm": {
     "name": "#%%\n"
    }
   }
  },
  {
   "cell_type": "code",
   "execution_count": null,
   "outputs": [],
   "source": [],
   "metadata": {
    "collapsed": false,
    "pycharm": {
     "name": "#%%\n"
    }
   }
  }
 ],
 "metadata": {
  "kernelspec": {
   "display_name": "Python 3",
   "language": "python",
   "name": "python3"
  },
  "language_info": {
   "codemirror_mode": {
    "name": "ipython",
    "version": 2
   },
   "file_extension": ".py",
   "mimetype": "text/x-python",
   "name": "python",
   "nbconvert_exporter": "python",
   "pygments_lexer": "ipython2",
   "version": "2.7.6"
  }
 },
 "nbformat": 4,
 "nbformat_minor": 0
}