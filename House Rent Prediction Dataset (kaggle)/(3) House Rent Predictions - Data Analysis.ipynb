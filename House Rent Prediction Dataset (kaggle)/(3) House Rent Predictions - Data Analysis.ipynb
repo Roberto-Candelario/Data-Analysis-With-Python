{
 "cells": [
  {
   "cell_type": "markdown",
   "source": [
    "# Data Analysis with Python\n",
    "### Objectives\n",
    "#### Explore features or charecteristics to predicgt price of houses"
   ],
   "metadata": {
    "collapsed": false,
    "pycharm": {
     "name": "#%% md\n"
    }
   }
  },
  {
   "cell_type": "markdown",
   "source": [
    "## 1. Import data"
   ],
   "metadata": {
    "collapsed": false,
    "pycharm": {
     "name": "#%% md\n"
    }
   }
  },
  {
   "cell_type": "code",
   "execution_count": 38,
   "outputs": [],
   "source": [
    "import pandas as pd\n",
    "import numpy as np"
   ],
   "metadata": {
    "collapsed": false,
    "pycharm": {
     "name": "#%%\n"
    }
   }
  },
  {
   "cell_type": "code",
   "execution_count": 39,
   "outputs": [],
   "source": [
    "path = '/Users/robertocandelario/DataGripProjects/Data analysis with python/House Rent Prediction Dataset (kaggle)/House_Rent_Dataset(2).csv'"
   ],
   "metadata": {
    "collapsed": false,
    "pycharm": {
     "name": "#%%\n"
    }
   }
  },
  {
   "cell_type": "code",
   "execution_count": 40,
   "outputs": [],
   "source": [
    "df = pd.read_csv(path)"
   ],
   "metadata": {
    "collapsed": false,
    "pycharm": {
     "name": "#%%\n"
    }
   }
  },
  {
   "cell_type": "code",
   "execution_count": 41,
   "outputs": [
    {
     "data": {
      "text/plain": "   Unnamed: 0   Posted On  BHK   Rent  Size    Area Type  \\\n0           0  2022-05-18    2  10000  1100   Super Area   \n1           1  2022-05-13    2  20000   800   Super Area   \n2           2  2022-05-16    2  17000  1000   Super Area   \n3           3  2022-07-04    2  10000   800   Super Area   \n4           4  2022-05-09    2   7500   850  Carpet Area   \n\n              Area Locality     City Furnishing Status  Tenant Preferred  \\\n0                    Bandel  Kolkata       Unfurnished  Bachelors/Family   \n1  Phool Bagan, Kankurgachi  Kolkata    Semi-Furnished  Bachelors/Family   \n2   Salt Lake City Sector 2  Kolkata    Semi-Furnished  Bachelors/Family   \n3               Dumdum Park  Kolkata       Unfurnished  Bachelors/Family   \n4             South Dum Dum  Kolkata       Unfurnished         Bachelors   \n\n   Bathroom Point of Contact  Floor level  Total floors  \n0         2    Contact Owner          1.0           2.0  \n1         1    Contact Owner          3.0           3.0  \n2         1    Contact Owner          3.0           3.0  \n3         1    Contact Owner          2.0           2.0  \n4         1    Contact Owner          2.0           2.0  ",
      "text/html": "<div>\n<style scoped>\n    .dataframe tbody tr th:only-of-type {\n        vertical-align: middle;\n    }\n\n    .dataframe tbody tr th {\n        vertical-align: top;\n    }\n\n    .dataframe thead th {\n        text-align: right;\n    }\n</style>\n<table border=\"1\" class=\"dataframe\">\n  <thead>\n    <tr style=\"text-align: right;\">\n      <th></th>\n      <th>Unnamed: 0</th>\n      <th>Posted On</th>\n      <th>BHK</th>\n      <th>Rent</th>\n      <th>Size</th>\n      <th>Area Type</th>\n      <th>Area Locality</th>\n      <th>City</th>\n      <th>Furnishing Status</th>\n      <th>Tenant Preferred</th>\n      <th>Bathroom</th>\n      <th>Point of Contact</th>\n      <th>Floor level</th>\n      <th>Total floors</th>\n    </tr>\n  </thead>\n  <tbody>\n    <tr>\n      <th>0</th>\n      <td>0</td>\n      <td>2022-05-18</td>\n      <td>2</td>\n      <td>10000</td>\n      <td>1100</td>\n      <td>Super Area</td>\n      <td>Bandel</td>\n      <td>Kolkata</td>\n      <td>Unfurnished</td>\n      <td>Bachelors/Family</td>\n      <td>2</td>\n      <td>Contact Owner</td>\n      <td>1.0</td>\n      <td>2.0</td>\n    </tr>\n    <tr>\n      <th>1</th>\n      <td>1</td>\n      <td>2022-05-13</td>\n      <td>2</td>\n      <td>20000</td>\n      <td>800</td>\n      <td>Super Area</td>\n      <td>Phool Bagan, Kankurgachi</td>\n      <td>Kolkata</td>\n      <td>Semi-Furnished</td>\n      <td>Bachelors/Family</td>\n      <td>1</td>\n      <td>Contact Owner</td>\n      <td>3.0</td>\n      <td>3.0</td>\n    </tr>\n    <tr>\n      <th>2</th>\n      <td>2</td>\n      <td>2022-05-16</td>\n      <td>2</td>\n      <td>17000</td>\n      <td>1000</td>\n      <td>Super Area</td>\n      <td>Salt Lake City Sector 2</td>\n      <td>Kolkata</td>\n      <td>Semi-Furnished</td>\n      <td>Bachelors/Family</td>\n      <td>1</td>\n      <td>Contact Owner</td>\n      <td>3.0</td>\n      <td>3.0</td>\n    </tr>\n    <tr>\n      <th>3</th>\n      <td>3</td>\n      <td>2022-07-04</td>\n      <td>2</td>\n      <td>10000</td>\n      <td>800</td>\n      <td>Super Area</td>\n      <td>Dumdum Park</td>\n      <td>Kolkata</td>\n      <td>Unfurnished</td>\n      <td>Bachelors/Family</td>\n      <td>1</td>\n      <td>Contact Owner</td>\n      <td>2.0</td>\n      <td>2.0</td>\n    </tr>\n    <tr>\n      <th>4</th>\n      <td>4</td>\n      <td>2022-05-09</td>\n      <td>2</td>\n      <td>7500</td>\n      <td>850</td>\n      <td>Carpet Area</td>\n      <td>South Dum Dum</td>\n      <td>Kolkata</td>\n      <td>Unfurnished</td>\n      <td>Bachelors</td>\n      <td>1</td>\n      <td>Contact Owner</td>\n      <td>2.0</td>\n      <td>2.0</td>\n    </tr>\n  </tbody>\n</table>\n</div>"
     },
     "execution_count": 41,
     "metadata": {},
     "output_type": "execute_result"
    }
   ],
   "source": [
    "df.head()"
   ],
   "metadata": {
    "collapsed": false,
    "pycharm": {
     "name": "#%%\n"
    }
   }
  },
  {
   "cell_type": "markdown",
   "source": [
    "# 2. Analyzing Individual Features patterns using Visualization"
   ],
   "metadata": {
    "collapsed": false,
    "pycharm": {
     "name": "#%% md\n"
    }
   }
  },
  {
   "cell_type": "code",
   "execution_count": 42,
   "outputs": [],
   "source": [
    "import matplotlib.pyplot as plt\n",
    "import seaborn as sns\n",
    "%matplotlib inline"
   ],
   "metadata": {
    "collapsed": false,
    "pycharm": {
     "name": "#%%\n"
    }
   }
  },
  {
   "cell_type": "code",
   "execution_count": 43,
   "outputs": [
    {
     "name": "stdout",
     "output_type": "stream",
     "text": [
      "Unnamed: 0             int64\n",
      "Posted On             object\n",
      "BHK                    int64\n",
      "Rent                   int64\n",
      "Size                   int64\n",
      "Area Type             object\n",
      "Area Locality         object\n",
      "City                  object\n",
      "Furnishing Status     object\n",
      "Tenant Preferred      object\n",
      "Bathroom               int64\n",
      "Point of Contact      object\n",
      "Floor level          float64\n",
      "Total floors         float64\n",
      "dtype: object\n"
     ]
    }
   ],
   "source": [
    "print(df.dtypes)"
   ],
   "metadata": {
    "collapsed": false,
    "pycharm": {
     "name": "#%%\n"
    }
   }
  },
  {
   "cell_type": "markdown",
   "source": [
    "# Drop first column"
   ],
   "metadata": {
    "collapsed": false,
    "pycharm": {
     "name": "#%% md\n"
    }
   }
  },
  {
   "cell_type": "code",
   "execution_count": 44,
   "outputs": [
    {
     "data": {
      "text/plain": "    Posted On  BHK   Rent  Size    Area Type             Area Locality  \\\n0  2022-05-18    2  10000  1100   Super Area                    Bandel   \n1  2022-05-13    2  20000   800   Super Area  Phool Bagan, Kankurgachi   \n2  2022-05-16    2  17000  1000   Super Area   Salt Lake City Sector 2   \n3  2022-07-04    2  10000   800   Super Area               Dumdum Park   \n4  2022-05-09    2   7500   850  Carpet Area             South Dum Dum   \n\n      City Furnishing Status  Tenant Preferred  Bathroom Point of Contact  \\\n0  Kolkata       Unfurnished  Bachelors/Family         2    Contact Owner   \n1  Kolkata    Semi-Furnished  Bachelors/Family         1    Contact Owner   \n2  Kolkata    Semi-Furnished  Bachelors/Family         1    Contact Owner   \n3  Kolkata       Unfurnished  Bachelors/Family         1    Contact Owner   \n4  Kolkata       Unfurnished         Bachelors         1    Contact Owner   \n\n   Floor level  Total floors  \n0          1.0           2.0  \n1          3.0           3.0  \n2          3.0           3.0  \n3          2.0           2.0  \n4          2.0           2.0  ",
      "text/html": "<div>\n<style scoped>\n    .dataframe tbody tr th:only-of-type {\n        vertical-align: middle;\n    }\n\n    .dataframe tbody tr th {\n        vertical-align: top;\n    }\n\n    .dataframe thead th {\n        text-align: right;\n    }\n</style>\n<table border=\"1\" class=\"dataframe\">\n  <thead>\n    <tr style=\"text-align: right;\">\n      <th></th>\n      <th>Posted On</th>\n      <th>BHK</th>\n      <th>Rent</th>\n      <th>Size</th>\n      <th>Area Type</th>\n      <th>Area Locality</th>\n      <th>City</th>\n      <th>Furnishing Status</th>\n      <th>Tenant Preferred</th>\n      <th>Bathroom</th>\n      <th>Point of Contact</th>\n      <th>Floor level</th>\n      <th>Total floors</th>\n    </tr>\n  </thead>\n  <tbody>\n    <tr>\n      <th>0</th>\n      <td>2022-05-18</td>\n      <td>2</td>\n      <td>10000</td>\n      <td>1100</td>\n      <td>Super Area</td>\n      <td>Bandel</td>\n      <td>Kolkata</td>\n      <td>Unfurnished</td>\n      <td>Bachelors/Family</td>\n      <td>2</td>\n      <td>Contact Owner</td>\n      <td>1.0</td>\n      <td>2.0</td>\n    </tr>\n    <tr>\n      <th>1</th>\n      <td>2022-05-13</td>\n      <td>2</td>\n      <td>20000</td>\n      <td>800</td>\n      <td>Super Area</td>\n      <td>Phool Bagan, Kankurgachi</td>\n      <td>Kolkata</td>\n      <td>Semi-Furnished</td>\n      <td>Bachelors/Family</td>\n      <td>1</td>\n      <td>Contact Owner</td>\n      <td>3.0</td>\n      <td>3.0</td>\n    </tr>\n    <tr>\n      <th>2</th>\n      <td>2022-05-16</td>\n      <td>2</td>\n      <td>17000</td>\n      <td>1000</td>\n      <td>Super Area</td>\n      <td>Salt Lake City Sector 2</td>\n      <td>Kolkata</td>\n      <td>Semi-Furnished</td>\n      <td>Bachelors/Family</td>\n      <td>1</td>\n      <td>Contact Owner</td>\n      <td>3.0</td>\n      <td>3.0</td>\n    </tr>\n    <tr>\n      <th>3</th>\n      <td>2022-07-04</td>\n      <td>2</td>\n      <td>10000</td>\n      <td>800</td>\n      <td>Super Area</td>\n      <td>Dumdum Park</td>\n      <td>Kolkata</td>\n      <td>Unfurnished</td>\n      <td>Bachelors/Family</td>\n      <td>1</td>\n      <td>Contact Owner</td>\n      <td>2.0</td>\n      <td>2.0</td>\n    </tr>\n    <tr>\n      <th>4</th>\n      <td>2022-05-09</td>\n      <td>2</td>\n      <td>7500</td>\n      <td>850</td>\n      <td>Carpet Area</td>\n      <td>South Dum Dum</td>\n      <td>Kolkata</td>\n      <td>Unfurnished</td>\n      <td>Bachelors</td>\n      <td>1</td>\n      <td>Contact Owner</td>\n      <td>2.0</td>\n      <td>2.0</td>\n    </tr>\n  </tbody>\n</table>\n</div>"
     },
     "execution_count": 44,
     "metadata": {},
     "output_type": "execute_result"
    }
   ],
   "source": [
    "df.drop('Unnamed: 0', axis= 1, inplace= True)\n",
    "df.head()"
   ],
   "metadata": {
    "collapsed": false,
    "pycharm": {
     "name": "#%%\n"
    }
   }
  },
  {
   "cell_type": "markdown",
   "source": [
    "# Let's find the correlation"
   ],
   "metadata": {
    "collapsed": false,
    "pycharm": {
     "name": "#%% md\n"
    }
   }
  },
  {
   "cell_type": "code",
   "execution_count": 45,
   "outputs": [
    {
     "data": {
      "text/plain": "                   BHK      Rent      Size  Bathroom  Floor level  \\\nBHK           1.000000  0.369718  0.716145  0.794885     0.246567   \nRent          0.369718  1.000000  0.413551  0.441215     0.352810   \nSize          0.716145  0.413551  1.000000  0.740703     0.185678   \nBathroom      0.794885  0.441215  0.740703  1.000000     0.360837   \nFloor level   0.246567  0.352810  0.185678  0.360837     1.000000   \nTotal floors  0.248165  0.352213  0.189504  0.362016     0.993341   \n\n              Total floors  \nBHK               0.248165  \nRent              0.352213  \nSize              0.189504  \nBathroom          0.362016  \nFloor level       0.993341  \nTotal floors      1.000000  ",
      "text/html": "<div>\n<style scoped>\n    .dataframe tbody tr th:only-of-type {\n        vertical-align: middle;\n    }\n\n    .dataframe tbody tr th {\n        vertical-align: top;\n    }\n\n    .dataframe thead th {\n        text-align: right;\n    }\n</style>\n<table border=\"1\" class=\"dataframe\">\n  <thead>\n    <tr style=\"text-align: right;\">\n      <th></th>\n      <th>BHK</th>\n      <th>Rent</th>\n      <th>Size</th>\n      <th>Bathroom</th>\n      <th>Floor level</th>\n      <th>Total floors</th>\n    </tr>\n  </thead>\n  <tbody>\n    <tr>\n      <th>BHK</th>\n      <td>1.000000</td>\n      <td>0.369718</td>\n      <td>0.716145</td>\n      <td>0.794885</td>\n      <td>0.246567</td>\n      <td>0.248165</td>\n    </tr>\n    <tr>\n      <th>Rent</th>\n      <td>0.369718</td>\n      <td>1.000000</td>\n      <td>0.413551</td>\n      <td>0.441215</td>\n      <td>0.352810</td>\n      <td>0.352213</td>\n    </tr>\n    <tr>\n      <th>Size</th>\n      <td>0.716145</td>\n      <td>0.413551</td>\n      <td>1.000000</td>\n      <td>0.740703</td>\n      <td>0.185678</td>\n      <td>0.189504</td>\n    </tr>\n    <tr>\n      <th>Bathroom</th>\n      <td>0.794885</td>\n      <td>0.441215</td>\n      <td>0.740703</td>\n      <td>1.000000</td>\n      <td>0.360837</td>\n      <td>0.362016</td>\n    </tr>\n    <tr>\n      <th>Floor level</th>\n      <td>0.246567</td>\n      <td>0.352810</td>\n      <td>0.185678</td>\n      <td>0.360837</td>\n      <td>1.000000</td>\n      <td>0.993341</td>\n    </tr>\n    <tr>\n      <th>Total floors</th>\n      <td>0.248165</td>\n      <td>0.352213</td>\n      <td>0.189504</td>\n      <td>0.362016</td>\n      <td>0.993341</td>\n      <td>1.000000</td>\n    </tr>\n  </tbody>\n</table>\n</div>"
     },
     "execution_count": 45,
     "metadata": {},
     "output_type": "execute_result"
    }
   ],
   "source": [
    "df.corr()"
   ],
   "metadata": {
    "collapsed": false,
    "pycharm": {
     "name": "#%%\n"
    }
   }
  },
  {
   "cell_type": "markdown",
   "source": [
    "## Positive linear relationship"
   ],
   "metadata": {
    "collapsed": false,
    "pycharm": {
     "name": "#%% md\n"
    }
   }
  },
  {
   "cell_type": "code",
   "execution_count": 46,
   "outputs": [
    {
     "data": {
      "text/plain": "(0.0, 3675259.2427202235)"
     },
     "execution_count": 46,
     "metadata": {},
     "output_type": "execute_result"
    },
    {
     "data": {
      "text/plain": "<Figure size 432x288 with 1 Axes>",
      "image/png": "[encoded data removed]"
     },
     "metadata": {
      "needs_background": "light"
     },
     "output_type": "display_data"
    }
   ],
   "source": [
    "sns.regplot(x='Bathroom', y='Rent', data= df)\n",
    "plt.ylim(0,)"
   ],
   "metadata": {
    "collapsed": false,
    "pycharm": {
     "name": "#%%\n"
    }
   }
  },
  {
   "cell_type": "code",
   "execution_count": 47,
   "outputs": [
    {
     "data": {
      "text/plain": "(0.0, 3674940.0)"
     },
     "execution_count": 47,
     "metadata": {},
     "output_type": "execute_result"
    },
    {
     "data": {
      "text/plain": "<Figure size 432x288 with 1 Axes>",
      "image/png": "[encoded data removed]"
     },
     "metadata": {
      "needs_background": "light"
     },
     "output_type": "display_data"
    }
   ],
   "source": [
    "sns.regplot(x='Total floors', y='Rent', data= df)\n",
    "plt.ylim(0,)"
   ],
   "metadata": {
    "collapsed": false,
    "pycharm": {
     "name": "#%%\n"
    }
   }
  },
  {
   "cell_type": "code",
   "execution_count": 48,
   "outputs": [
    {
     "data": {
      "text/plain": "                   BHK      Rent      Size  Bathroom  Floor level  \\\nBHK           1.000000  0.369718  0.716145  0.794885     0.246567   \nRent          0.369718  1.000000  0.413551  0.441215     0.352810   \nSize          0.716145  0.413551  1.000000  0.740703     0.185678   \nBathroom      0.794885  0.441215  0.740703  1.000000     0.360837   \nFloor level   0.246567  0.352810  0.185678  0.360837     1.000000   \nTotal floors  0.248165  0.352213  0.189504  0.362016     0.993341   \n\n              Total floors  \nBHK               0.248165  \nRent              0.352213  \nSize              0.189504  \nBathroom          0.362016  \nFloor level       0.993341  \nTotal floors      1.000000  ",
      "text/html": "<div>\n<style scoped>\n    .dataframe tbody tr th:only-of-type {\n        vertical-align: middle;\n    }\n\n    .dataframe tbody tr th {\n        vertical-align: top;\n    }\n\n    .dataframe thead th {\n        text-align: right;\n    }\n</style>\n<table border=\"1\" class=\"dataframe\">\n  <thead>\n    <tr style=\"text-align: right;\">\n      <th></th>\n      <th>BHK</th>\n      <th>Rent</th>\n      <th>Size</th>\n      <th>Bathroom</th>\n      <th>Floor level</th>\n      <th>Total floors</th>\n    </tr>\n  </thead>\n  <tbody>\n    <tr>\n      <th>BHK</th>\n      <td>1.000000</td>\n      <td>0.369718</td>\n      <td>0.716145</td>\n      <td>0.794885</td>\n      <td>0.246567</td>\n      <td>0.248165</td>\n    </tr>\n    <tr>\n      <th>Rent</th>\n      <td>0.369718</td>\n      <td>1.000000</td>\n      <td>0.413551</td>\n      <td>0.441215</td>\n      <td>0.352810</td>\n      <td>0.352213</td>\n    </tr>\n    <tr>\n      <th>Size</th>\n      <td>0.716145</td>\n      <td>0.413551</td>\n      <td>1.000000</td>\n      <td>0.740703</td>\n      <td>0.185678</td>\n      <td>0.189504</td>\n    </tr>\n    <tr>\n      <th>Bathroom</th>\n      <td>0.794885</td>\n      <td>0.441215</td>\n      <td>0.740703</td>\n      <td>1.000000</td>\n      <td>0.360837</td>\n      <td>0.362016</td>\n    </tr>\n    <tr>\n      <th>Floor level</th>\n      <td>0.246567</td>\n      <td>0.352810</td>\n      <td>0.185678</td>\n      <td>0.360837</td>\n      <td>1.000000</td>\n      <td>0.993341</td>\n    </tr>\n    <tr>\n      <th>Total floors</th>\n      <td>0.248165</td>\n      <td>0.352213</td>\n      <td>0.189504</td>\n      <td>0.362016</td>\n      <td>0.993341</td>\n      <td>1.000000</td>\n    </tr>\n  </tbody>\n</table>\n</div>"
     },
     "execution_count": 48,
     "metadata": {},
     "output_type": "execute_result"
    }
   ],
   "source": [
    "df.corr(\n",
    ")"
   ],
   "metadata": {
    "collapsed": false,
    "pycharm": {
     "name": "#%%\n"
    }
   }
  },
  {
   "cell_type": "code",
   "execution_count": 49,
   "outputs": [
    {
     "data": {
      "text/plain": "(0.0, 3676036.9195556664)"
     },
     "execution_count": 49,
     "metadata": {},
     "output_type": "execute_result"
    },
    {
     "data": {
      "text/plain": "<Figure size 432x288 with 1 Axes>",
      "image/png": "[encoded data removed]"
     },
     "metadata": {
      "needs_background": "light"
     },
     "output_type": "display_data"
    }
   ],
   "source": [
    "sns.regplot(x='Size', y='Rent', data=df)\n",
    "plt.ylim(0,)"
   ],
   "metadata": {
    "collapsed": false,
    "pycharm": {
     "name": "#%%\n"
    }
   }
  },
  {
   "cell_type": "code",
   "execution_count": 50,
   "outputs": [],
   "source": [
    "df['rent_norm'] = df['Rent']/df['Rent'].max()\n",
    "df['size_norm'] = df['Size']/df['Size'].max()"
   ],
   "metadata": {
    "collapsed": false,
    "pycharm": {
     "name": "#%%\n"
    }
   }
  },
  {
   "cell_type": "code",
   "execution_count": 51,
   "outputs": [
    {
     "data": {
      "text/plain": "(0.0, 1.0502992830478748)"
     },
     "execution_count": 51,
     "metadata": {},
     "output_type": "execute_result"
    },
    {
     "data": {
      "text/plain": "<Figure size 432x288 with 1 Axes>",
      "image/png": "[encoded data removed]"
     },
     "metadata": {
      "needs_background": "light"
     },
     "output_type": "display_data"
    }
   ],
   "source": [
    "sns.regplot(x='size_norm', y='rent_norm', data=df)\n",
    "plt.ylim(0,)"
   ],
   "metadata": {
    "collapsed": false,
    "pycharm": {
     "name": "#%%\n"
    }
   }
  },
  {
   "cell_type": "code",
   "execution_count": 52,
   "outputs": [
    {
     "data": {
      "text/plain": "                   BHK      Rent      Size  Bathroom  Floor level  \\\nBHK           1.000000  0.369718  0.716145  0.794885     0.246567   \nRent          0.369718  1.000000  0.413551  0.441215     0.352810   \nSize          0.716145  0.413551  1.000000  0.740703     0.185678   \nBathroom      0.794885  0.441215  0.740703  1.000000     0.360837   \nFloor level   0.246567  0.352810  0.185678  0.360837     1.000000   \nTotal floors  0.248165  0.352213  0.189504  0.362016     0.993341   \nrent_norm     0.369718  1.000000  0.413551  0.441215     0.352810   \nsize_norm     0.716145  0.413551  1.000000  0.740703     0.185678   \n\n              Total floors  rent_norm  size_norm  \nBHK               0.248165   0.369718   0.716145  \nRent              0.352213   1.000000   0.413551  \nSize              0.189504   0.413551   1.000000  \nBathroom          0.362016   0.441215   0.740703  \nFloor level       0.993341   0.352810   0.185678  \nTotal floors      1.000000   0.352213   0.189504  \nrent_norm         0.352213   1.000000   0.413551  \nsize_norm         0.189504   0.413551   1.000000  ",
      "text/html": "<div>\n<style scoped>\n    .dataframe tbody tr th:only-of-type {\n        vertical-align: middle;\n    }\n\n    .dataframe tbody tr th {\n        vertical-align: top;\n    }\n\n    .dataframe thead th {\n        text-align: right;\n    }\n</style>\n<table border=\"1\" class=\"dataframe\">\n  <thead>\n    <tr style=\"text-align: right;\">\n      <th></th>\n      <th>BHK</th>\n      <th>Rent</th>\n      <th>Size</th>\n      <th>Bathroom</th>\n      <th>Floor level</th>\n      <th>Total floors</th>\n      <th>rent_norm</th>\n      <th>size_norm</th>\n    </tr>\n  </thead>\n  <tbody>\n    <tr>\n      <th>BHK</th>\n      <td>1.000000</td>\n      <td>0.369718</td>\n      <td>0.716145</td>\n      <td>0.794885</td>\n      <td>0.246567</td>\n      <td>0.248165</td>\n      <td>0.369718</td>\n      <td>0.716145</td>\n    </tr>\n    <tr>\n      <th>Rent</th>\n      <td>0.369718</td>\n      <td>1.000000</td>\n      <td>0.413551</td>\n      <td>0.441215</td>\n      <td>0.352810</td>\n      <td>0.352213</td>\n      <td>1.000000</td>\n      <td>0.413551</td>\n    </tr>\n    <tr>\n      <th>Size</th>\n      <td>0.716145</td>\n      <td>0.413551</td>\n      <td>1.000000</td>\n      <td>0.740703</td>\n      <td>0.185678</td>\n      <td>0.189504</td>\n      <td>0.413551</td>\n      <td>1.000000</td>\n    </tr>\n    <tr>\n      <th>Bathroom</th>\n      <td>0.794885</td>\n      <td>0.441215</td>\n      <td>0.740703</td>\n      <td>1.000000</td>\n      <td>0.360837</td>\n      <td>0.362016</td>\n      <td>0.441215</td>\n      <td>0.740703</td>\n    </tr>\n    <tr>\n      <th>Floor level</th>\n      <td>0.246567</td>\n      <td>0.352810</td>\n      <td>0.185678</td>\n      <td>0.360837</td>\n      <td>1.000000</td>\n      <td>0.993341</td>\n      <td>0.352810</td>\n      <td>0.185678</td>\n    </tr>\n    <tr>\n      <th>Total floors</th>\n      <td>0.248165</td>\n      <td>0.352213</td>\n      <td>0.189504</td>\n      <td>0.362016</td>\n      <td>0.993341</td>\n      <td>1.000000</td>\n      <td>0.352213</td>\n      <td>0.189504</td>\n    </tr>\n    <tr>\n      <th>rent_norm</th>\n      <td>0.369718</td>\n      <td>1.000000</td>\n      <td>0.413551</td>\n      <td>0.441215</td>\n      <td>0.352810</td>\n      <td>0.352213</td>\n      <td>1.000000</td>\n      <td>0.413551</td>\n    </tr>\n    <tr>\n      <th>size_norm</th>\n      <td>0.716145</td>\n      <td>0.413551</td>\n      <td>1.000000</td>\n      <td>0.740703</td>\n      <td>0.185678</td>\n      <td>0.189504</td>\n      <td>0.413551</td>\n      <td>1.000000</td>\n    </tr>\n  </tbody>\n</table>\n</div>"
     },
     "execution_count": 52,
     "metadata": {},
     "output_type": "execute_result"
    }
   ],
   "source": [
    "df.corr()"
   ],
   "metadata": {
    "collapsed": false,
    "pycharm": {
     "name": "#%%\n"
    }
   }
  },
  {
   "cell_type": "code",
   "execution_count": 53,
   "outputs": [
    {
     "data": {
      "text/plain": "(0.0, 3675261.7766565024)"
     },
     "execution_count": 53,
     "metadata": {},
     "output_type": "execute_result"
    },
    {
     "data": {
      "text/plain": "<Figure size 432x288 with 1 Axes>",
      "image/png": "[encoded data removed]"
     },
     "metadata": {
      "needs_background": "light"
     },
     "output_type": "display_data"
    }
   ],
   "source": [
    "sns.regplot(x='Bathroom', y='Rent', data=df)\n",
    "plt.ylim(0,)"
   ],
   "metadata": {
    "collapsed": false,
    "pycharm": {
     "name": "#%%\n"
    }
   }
  },
  {
   "cell_type": "code",
   "execution_count": 54,
   "outputs": [
    {
     "data": {
      "text/plain": "(0.0, 3674940.0)"
     },
     "execution_count": 54,
     "metadata": {},
     "output_type": "execute_result"
    },
    {
     "data": {
      "text/plain": "<Figure size 432x288 with 1 Axes>",
      "image/png": "[encoded data removed]"
     },
     "metadata": {
      "needs_background": "light"
     },
     "output_type": "display_data"
    }
   ],
   "source": [
    "sns.regplot(x='Floor level', y='Rent', data=df)\n",
    "plt.ylim(0,)"
   ],
   "metadata": {
    "collapsed": false,
    "pycharm": {
     "name": "#%%\n"
    }
   }
  },
  {
   "cell_type": "code",
   "execution_count": 55,
   "outputs": [
    {
     "data": {
      "text/plain": "(0.0, 3674940.0)"
     },
     "execution_count": 55,
     "metadata": {},
     "output_type": "execute_result"
    },
    {
     "data": {
      "text/plain": "<Figure size 432x288 with 1 Axes>",
      "image/png": "[encoded data removed]"
     },
     "metadata": {
      "needs_background": "light"
     },
     "output_type": "display_data"
    }
   ],
   "source": [
    "sns.regplot(x='Total floors', y='Rent', data=df)\n",
    "plt.ylim(0,)"
   ],
   "metadata": {
    "collapsed": false,
    "pycharm": {
     "name": "#%%\n"
    }
   }
  },
  {
   "cell_type": "markdown",
   "source": [
    "# Dealing with Categorical Variables"
   ],
   "metadata": {
    "collapsed": false,
    "pycharm": {
     "name": "#%% md\n"
    }
   }
  },
  {
   "cell_type": "markdown",
   "source": [
    "These are variables that describe a 'characteristic' of a data unit, and are selected from a small group of categories. The Categorical variables cann have the type 'object' or 'int64. A good way to visualize categorical variables is by using a boxplot"
   ],
   "metadata": {
    "collapsed": false,
    "pycharm": {
     "name": "#%% md\n"
    }
   }
  },
  {
   "cell_type": "code",
   "execution_count": 56,
   "outputs": [
    {
     "data": {
      "text/plain": "<AxesSubplot:xlabel='Area Type', ylabel='Rent'>"
     },
     "execution_count": 56,
     "metadata": {},
     "output_type": "execute_result"
    },
    {
     "data": {
      "text/plain": "<Figure size 432x288 with 1 Axes>",
      "image/png": "[encoded data removed]"
     },
     "metadata": {
      "needs_background": "light"
     },
     "output_type": "display_data"
    }
   ],
   "source": [
    "sns.boxplot(x='Area Type', y=\"Rent\", data= df)"
   ],
   "metadata": {
    "collapsed": false,
    "pycharm": {
     "name": "#%%\n"
    }
   }
  },
  {
   "cell_type": "code",
   "execution_count": 57,
   "outputs": [
    {
     "data": {
      "text/plain": "<AxesSubplot:xlabel='City', ylabel='Rent'>"
     },
     "execution_count": 57,
     "metadata": {},
     "output_type": "execute_result"
    },
    {
     "data": {
      "text/plain": "<Figure size 432x288 with 1 Axes>",
      "image/png": "[encoded data removed]"
     },
     "metadata": {
      "needs_background": "light"
     },
     "output_type": "display_data"
    }
   ],
   "source": [
    "sns.boxplot(x= 'City', y='Rent', data= df)"
   ],
   "metadata": {
    "collapsed": false,
    "pycharm": {
     "name": "#%%\n"
    }
   }
  },
  {
   "cell_type": "code",
   "execution_count": 58,
   "outputs": [],
   "source": [
    "# Mumbai looks like it has the night rent out of them all.\n",
    "# Kalkata looks to be the cheapest"
   ],
   "metadata": {
    "collapsed": false,
    "pycharm": {
     "name": "#%%\n"
    }
   }
  },
  {
   "cell_type": "code",
   "execution_count": 59,
   "outputs": [
    {
     "data": {
      "text/plain": "<AxesSubplot:xlabel='Furnishing Status', ylabel='Rent'>"
     },
     "execution_count": 59,
     "metadata": {},
     "output_type": "execute_result"
    },
    {
     "data": {
      "text/plain": "<Figure size 432x288 with 1 Axes>",
      "image/png": "[encoded data removed]"
     },
     "metadata": {
      "needs_background": "light"
     },
     "output_type": "display_data"
    }
   ],
   "source": [
    "sns.boxplot(x='Furnishing Status', y=\"Rent\", data=df)"
   ],
   "metadata": {
    "collapsed": false,
    "pycharm": {
     "name": "#%%\n"
    }
   }
  },
  {
   "cell_type": "code",
   "execution_count": 60,
   "outputs": [],
   "source": [
    "## Semi and Furnished are about the same in price, Unfurnished is just a big behind."
   ],
   "metadata": {
    "collapsed": false,
    "pycharm": {
     "name": "#%%\n"
    }
   }
  },
  {
   "cell_type": "code",
   "execution_count": 61,
   "outputs": [
    {
     "data": {
      "text/plain": "<AxesSubplot:xlabel='Point of Contact', ylabel='Rent'>"
     },
     "execution_count": 61,
     "metadata": {},
     "output_type": "execute_result"
    },
    {
     "data": {
      "text/plain": "<Figure size 432x288 with 1 Axes>",
      "image/png": "[encoded data removed]"
     },
     "metadata": {
      "needs_background": "light"
     },
     "output_type": "display_data"
    }
   ],
   "source": [
    "sns.boxplot(x='Point of Contact', y='Rent', data=df)"
   ],
   "metadata": {
    "collapsed": false,
    "pycharm": {
     "name": "#%%\n"
    }
   }
  },
  {
   "cell_type": "code",
   "execution_count": 62,
   "outputs": [],
   "source": [
    "# Looks like point of contact being ann agent will have a higher rent compared to contacting the owner"
   ],
   "metadata": {
    "collapsed": false,
    "pycharm": {
     "name": "#%%\n"
    }
   }
  },
  {
   "cell_type": "code",
   "execution_count": 63,
   "outputs": [
    {
     "data": {
      "text/plain": "               BHK          Rent         Size     Bathroom  Floor level  \\\ncount  4746.000000  4.746000e+03  4746.000000  4746.000000  4743.000000   \nmean      2.083860  3.499345e+04   967.490729     1.965866     6.646848   \nstd       0.832256  7.810641e+04   634.202328     0.884532     9.599591   \nmin       1.000000  1.200000e+03    10.000000     1.000000    -1.000000   \n25%       2.000000  1.000000e+04   550.000000     1.000000     2.000000   \n50%       2.000000  1.600000e+04   850.000000     2.000000     4.000000   \n75%       3.000000  3.300000e+04  1200.000000     2.000000     6.000000   \nmax       6.000000  3.500000e+06  8000.000000    10.000000    89.000000   \n\n       Total floors    rent_norm    size_norm  \ncount   4742.000000  4746.000000  4746.000000  \nmean       6.973429     0.009998     0.120936  \nstd        9.469727     0.022316     0.079275  \nmin        1.000000     0.000343     0.001250  \n25%        2.000000     0.002857     0.068750  \n50%        4.000000     0.004571     0.106250  \n75%        6.000000     0.009429     0.150000  \nmax       89.000000     1.000000     1.000000  ",
      "text/html": "<div>\n<style scoped>\n    .dataframe tbody tr th:only-of-type {\n        vertical-align: middle;\n    }\n\n    .dataframe tbody tr th {\n        vertical-align: top;\n    }\n\n    .dataframe thead th {\n        text-align: right;\n    }\n</style>\n<table border=\"1\" class=\"dataframe\">\n  <thead>\n    <tr style=\"text-align: right;\">\n      <th></th>\n      <th>BHK</th>\n      <th>Rent</th>\n      <th>Size</th>\n      <th>Bathroom</th>\n      <th>Floor level</th>\n      <th>Total floors</th>\n      <th>rent_norm</th>\n      <th>size_norm</th>\n    </tr>\n  </thead>\n  <tbody>\n    <tr>\n      <th>count</th>\n      <td>4746.000000</td>\n      <td>4.746000e+03</td>\n      <td>4746.000000</td>\n      <td>4746.000000</td>\n      <td>4743.000000</td>\n      <td>4742.000000</td>\n      <td>4746.000000</td>\n      <td>4746.000000</td>\n    </tr>\n    <tr>\n      <th>mean</th>\n      <td>2.083860</td>\n      <td>3.499345e+04</td>\n      <td>967.490729</td>\n      <td>1.965866</td>\n      <td>6.646848</td>\n      <td>6.973429</td>\n      <td>0.009998</td>\n      <td>0.120936</td>\n    </tr>\n    <tr>\n      <th>std</th>\n      <td>0.832256</td>\n      <td>7.810641e+04</td>\n      <td>634.202328</td>\n      <td>0.884532</td>\n      <td>9.599591</td>\n      <td>9.469727</td>\n      <td>0.022316</td>\n      <td>0.079275</td>\n    </tr>\n    <tr>\n      <th>min</th>\n      <td>1.000000</td>\n      <td>1.200000e+03</td>\n      <td>10.000000</td>\n      <td>1.000000</td>\n      <td>-1.000000</td>\n      <td>1.000000</td>\n      <td>0.000343</td>\n      <td>0.001250</td>\n    </tr>\n    <tr>\n      <th>25%</th>\n      <td>2.000000</td>\n      <td>1.000000e+04</td>\n      <td>550.000000</td>\n      <td>1.000000</td>\n      <td>2.000000</td>\n      <td>2.000000</td>\n      <td>0.002857</td>\n      <td>0.068750</td>\n    </tr>\n    <tr>\n      <th>50%</th>\n      <td>2.000000</td>\n      <td>1.600000e+04</td>\n      <td>850.000000</td>\n      <td>2.000000</td>\n      <td>4.000000</td>\n      <td>4.000000</td>\n      <td>0.004571</td>\n      <td>0.106250</td>\n    </tr>\n    <tr>\n      <th>75%</th>\n      <td>3.000000</td>\n      <td>3.300000e+04</td>\n      <td>1200.000000</td>\n      <td>2.000000</td>\n      <td>6.000000</td>\n      <td>6.000000</td>\n      <td>0.009429</td>\n      <td>0.150000</td>\n    </tr>\n    <tr>\n      <th>max</th>\n      <td>6.000000</td>\n      <td>3.500000e+06</td>\n      <td>8000.000000</td>\n      <td>10.000000</td>\n      <td>89.000000</td>\n      <td>89.000000</td>\n      <td>1.000000</td>\n      <td>1.000000</td>\n    </tr>\n  </tbody>\n</table>\n</div>"
     },
     "execution_count": 63,
     "metadata": {},
     "output_type": "execute_result"
    }
   ],
   "source": [
    "df.describe()"
   ],
   "metadata": {
    "collapsed": false,
    "pycharm": {
     "name": "#%%\n"
    }
   }
  },
  {
   "cell_type": "code",
   "execution_count": 64,
   "outputs": [
    {
     "data": {
      "text/plain": "         Posted On   Area Type Area Locality    City Furnishing Status  \\\ncount         4746        4746          4746    4746              4746   \nunique          81           3          2235       6                 3   \ntop     2022-07-06  Super Area   Bandra West  Mumbai    Semi-Furnished   \nfreq           311        2446            37     972              2251   \n\n        Tenant Preferred Point of Contact  \ncount               4746             4746  \nunique                 3                3  \ntop     Bachelors/Family    Contact Owner  \nfreq                3444             3216  ",
      "text/html": "<div>\n<style scoped>\n    .dataframe tbody tr th:only-of-type {\n        vertical-align: middle;\n    }\n\n    .dataframe tbody tr th {\n        vertical-align: top;\n    }\n\n    .dataframe thead th {\n        text-align: right;\n    }\n</style>\n<table border=\"1\" class=\"dataframe\">\n  <thead>\n    <tr style=\"text-align: right;\">\n      <th></th>\n      <th>Posted On</th>\n      <th>Area Type</th>\n      <th>Area Locality</th>\n      <th>City</th>\n      <th>Furnishing Status</th>\n      <th>Tenant Preferred</th>\n      <th>Point of Contact</th>\n    </tr>\n  </thead>\n  <tbody>\n    <tr>\n      <th>count</th>\n      <td>4746</td>\n      <td>4746</td>\n      <td>4746</td>\n      <td>4746</td>\n      <td>4746</td>\n      <td>4746</td>\n      <td>4746</td>\n    </tr>\n    <tr>\n      <th>unique</th>\n      <td>81</td>\n      <td>3</td>\n      <td>2235</td>\n      <td>6</td>\n      <td>3</td>\n      <td>3</td>\n      <td>3</td>\n    </tr>\n    <tr>\n      <th>top</th>\n      <td>2022-07-06</td>\n      <td>Super Area</td>\n      <td>Bandra West</td>\n      <td>Mumbai</td>\n      <td>Semi-Furnished</td>\n      <td>Bachelors/Family</td>\n      <td>Contact Owner</td>\n    </tr>\n    <tr>\n      <th>freq</th>\n      <td>311</td>\n      <td>2446</td>\n      <td>37</td>\n      <td>972</td>\n      <td>2251</td>\n      <td>3444</td>\n      <td>3216</td>\n    </tr>\n  </tbody>\n</table>\n</div>"
     },
     "execution_count": 64,
     "metadata": {},
     "output_type": "execute_result"
    }
   ],
   "source": [
    "df.describe(include=[object])"
   ],
   "metadata": {
    "collapsed": false,
    "pycharm": {
     "name": "#%%\n"
    }
   }
  },
  {
   "cell_type": "code",
   "execution_count": 65,
   "outputs": [
    {
     "data": {
      "text/plain": "             Area Type\nSuper Area        2446\nCarpet Area       2298\nBuilt Area           2",
      "text/html": "<div>\n<style scoped>\n    .dataframe tbody tr th:only-of-type {\n        vertical-align: middle;\n    }\n\n    .dataframe tbody tr th {\n        vertical-align: top;\n    }\n\n    .dataframe thead th {\n        text-align: right;\n    }\n</style>\n<table border=\"1\" class=\"dataframe\">\n  <thead>\n    <tr style=\"text-align: right;\">\n      <th></th>\n      <th>Area Type</th>\n    </tr>\n  </thead>\n  <tbody>\n    <tr>\n      <th>Super Area</th>\n      <td>2446</td>\n    </tr>\n    <tr>\n      <th>Carpet Area</th>\n      <td>2298</td>\n    </tr>\n    <tr>\n      <th>Built Area</th>\n      <td>2</td>\n    </tr>\n  </tbody>\n</table>\n</div>"
     },
     "execution_count": 65,
     "metadata": {},
     "output_type": "execute_result"
    }
   ],
   "source": [
    "df['Area Type'].value_counts().to_frame()\n"
   ],
   "metadata": {
    "collapsed": false,
    "pycharm": {
     "name": "#%%\n"
    }
   }
  },
  {
   "cell_type": "markdown",
   "source": [
    "# Basic Grouping"
   ],
   "metadata": {
    "collapsed": false,
    "pycharm": {
     "name": "#%% md\n"
    }
   }
  },
  {
   "cell_type": "code",
   "execution_count": 66,
   "outputs": [
    {
     "data": {
      "text/plain": "        City       BHK          Rent         Size  Bathroom  Floor level  \\\n0  Bangalore  1.930023  24966.365688   985.925508  1.793454     4.274266   \n1    Chennai  2.124579  21614.092031  1031.713805  1.998878     3.762065   \n2      Delhi  2.114050  29461.983471   786.406612  1.852893     3.453642   \n3  Hyderabad  2.206221  20555.048387  1186.669355  2.149770     4.794457   \n4    Kolkata  1.965649  11645.173664   787.366412  1.431298     1.856870   \n5     Mumbai  2.122428  85321.204733   905.904321  2.287037    17.670782   \n\n   Total floors  rent_norm  size_norm  \n0      4.693002   0.007133   0.123241  \n1      4.059484   0.006175   0.128964  \n2      3.772803   0.008418   0.098301  \n3      5.129330   0.005873   0.148334  \n4      2.412214   0.003327   0.098421  \n5     17.810700   0.024377   0.113238  ",
      "text/html": "<div>\n<style scoped>\n    .dataframe tbody tr th:only-of-type {\n        vertical-align: middle;\n    }\n\n    .dataframe tbody tr th {\n        vertical-align: top;\n    }\n\n    .dataframe thead th {\n        text-align: right;\n    }\n</style>\n<table border=\"1\" class=\"dataframe\">\n  <thead>\n    <tr style=\"text-align: right;\">\n      <th></th>\n      <th>City</th>\n      <th>BHK</th>\n      <th>Rent</th>\n      <th>Size</th>\n      <th>Bathroom</th>\n      <th>Floor level</th>\n      <th>Total floors</th>\n      <th>rent_norm</th>\n      <th>size_norm</th>\n    </tr>\n  </thead>\n  <tbody>\n    <tr>\n      <th>0</th>\n      <td>Bangalore</td>\n      <td>1.930023</td>\n      <td>24966.365688</td>\n      <td>985.925508</td>\n      <td>1.793454</td>\n      <td>4.274266</td>\n      <td>4.693002</td>\n      <td>0.007133</td>\n      <td>0.123241</td>\n    </tr>\n    <tr>\n      <th>1</th>\n      <td>Chennai</td>\n      <td>2.124579</td>\n      <td>21614.092031</td>\n      <td>1031.713805</td>\n      <td>1.998878</td>\n      <td>3.762065</td>\n      <td>4.059484</td>\n      <td>0.006175</td>\n      <td>0.128964</td>\n    </tr>\n    <tr>\n      <th>2</th>\n      <td>Delhi</td>\n      <td>2.114050</td>\n      <td>29461.983471</td>\n      <td>786.406612</td>\n      <td>1.852893</td>\n      <td>3.453642</td>\n      <td>3.772803</td>\n      <td>0.008418</td>\n      <td>0.098301</td>\n    </tr>\n    <tr>\n      <th>3</th>\n      <td>Hyderabad</td>\n      <td>2.206221</td>\n      <td>20555.048387</td>\n      <td>1186.669355</td>\n      <td>2.149770</td>\n      <td>4.794457</td>\n      <td>5.129330</td>\n      <td>0.005873</td>\n      <td>0.148334</td>\n    </tr>\n    <tr>\n      <th>4</th>\n      <td>Kolkata</td>\n      <td>1.965649</td>\n      <td>11645.173664</td>\n      <td>787.366412</td>\n      <td>1.431298</td>\n      <td>1.856870</td>\n      <td>2.412214</td>\n      <td>0.003327</td>\n      <td>0.098421</td>\n    </tr>\n    <tr>\n      <th>5</th>\n      <td>Mumbai</td>\n      <td>2.122428</td>\n      <td>85321.204733</td>\n      <td>905.904321</td>\n      <td>2.287037</td>\n      <td>17.670782</td>\n      <td>17.810700</td>\n      <td>0.024377</td>\n      <td>0.113238</td>\n    </tr>\n  </tbody>\n</table>\n</div>"
     },
     "execution_count": 66,
     "metadata": {},
     "output_type": "execute_result"
    }
   ],
   "source": [
    "city_df = df.groupby(['City'], as_index= False).mean()\n",
    "\n",
    "city_df.head(100)"
   ],
   "metadata": {
    "collapsed": false,
    "pycharm": {
     "name": "#%%\n"
    }
   }
  },
  {
   "cell_type": "code",
   "execution_count": 66,
   "outputs": [],
   "source": [],
   "metadata": {
    "collapsed": false,
    "pycharm": {
     "name": "#%%\n"
    }
   }
  },
  {
   "cell_type": "markdown",
   "source": [
    "# Correlation and causation"
   ],
   "metadata": {
    "collapsed": false,
    "pycharm": {
     "name": "#%% md\n"
    }
   }
  },
  {
   "cell_type": "code",
   "execution_count": 67,
   "outputs": [],
   "source": [
    "from scipy import stats"
   ],
   "metadata": {
    "collapsed": false,
    "pycharm": {
     "name": "#%%\n"
    }
   }
  },
  {
   "cell_type": "code",
   "execution_count": 68,
   "outputs": [
    {
     "name": "stdout",
     "output_type": "stream",
     "text": [
      "The Pearson Correlation Coefficient is 0.3697175742804929  with a P-value of P = 1.2069419480042391e-153\n"
     ]
    }
   ],
   "source": [
    "pearson_coef, p_value = stats.pearsonr(df['BHK'], df['Rent'])\n",
    "print(\"The Pearson Correlation Coefficient is\", pearson_coef, \" with a P-value of P =\", p_value)"
   ],
   "metadata": {
    "collapsed": false,
    "pycharm": {
     "name": "#%%\n"
    }
   }
  },
  {
   "cell_type": "code",
   "execution_count": 69,
   "outputs": [
    {
     "name": "stdout",
     "output_type": "stream",
     "text": [
      "The Pearson Correlation Coefficient is 0.41355075822451937  with a P-value of P = 1.6908729308836378e-195\n"
     ]
    }
   ],
   "source": [
    "pearson_coef, p_value = stats.pearsonr(df['Size'], df['Rent'])\n",
    "print(\"The Pearson Correlation Coefficient is\", pearson_coef, \" with a P-value of P =\", p_value)"
   ],
   "metadata": {
    "collapsed": false,
    "pycharm": {
     "name": "#%%\n"
    }
   }
  },
  {
   "cell_type": "code",
   "execution_count": 70,
   "outputs": [
    {
     "name": "stdout",
     "output_type": "stream",
     "text": [
      "The Pearson Correlation Coefficient is 0.44121522895556986  with a P-value of P = 2.4419172980134817e-225\n"
     ]
    }
   ],
   "source": [
    "pearson_coef, p_value = stats.pearsonr(df['Bathroom'], df['Rent'])\n",
    "print(\"The Pearson Correlation Coefficient is\", pearson_coef, \" with a P-value of P =\", p_value)"
   ],
   "metadata": {
    "collapsed": false,
    "pycharm": {
     "name": "#%%\n"
    }
   }
  },
  {
   "cell_type": "code",
   "execution_count": 71,
   "outputs": [
    {
     "data": {
      "text/plain": "                   BHK      Rent      Size  Bathroom  Floor level  \\\nBHK           1.000000  0.369718  0.716145  0.794885     0.246567   \nRent          0.369718  1.000000  0.413551  0.441215     0.352810   \nSize          0.716145  0.413551  1.000000  0.740703     0.185678   \nBathroom      0.794885  0.441215  0.740703  1.000000     0.360837   \nFloor level   0.246567  0.352810  0.185678  0.360837     1.000000   \nTotal floors  0.248165  0.352213  0.189504  0.362016     0.993341   \nrent_norm     0.369718  1.000000  0.413551  0.441215     0.352810   \nsize_norm     0.716145  0.413551  1.000000  0.740703     0.185678   \n\n              Total floors  rent_norm  size_norm  \nBHK               0.248165   0.369718   0.716145  \nRent              0.352213   1.000000   0.413551  \nSize              0.189504   0.413551   1.000000  \nBathroom          0.362016   0.441215   0.740703  \nFloor level       0.993341   0.352810   0.185678  \nTotal floors      1.000000   0.352213   0.189504  \nrent_norm         0.352213   1.000000   0.413551  \nsize_norm         0.189504   0.413551   1.000000  ",
      "text/html": "<div>\n<style scoped>\n    .dataframe tbody tr th:only-of-type {\n        vertical-align: middle;\n    }\n\n    .dataframe tbody tr th {\n        vertical-align: top;\n    }\n\n    .dataframe thead th {\n        text-align: right;\n    }\n</style>\n<table border=\"1\" class=\"dataframe\">\n  <thead>\n    <tr style=\"text-align: right;\">\n      <th></th>\n      <th>BHK</th>\n      <th>Rent</th>\n      <th>Size</th>\n      <th>Bathroom</th>\n      <th>Floor level</th>\n      <th>Total floors</th>\n      <th>rent_norm</th>\n      <th>size_norm</th>\n    </tr>\n  </thead>\n  <tbody>\n    <tr>\n      <th>BHK</th>\n      <td>1.000000</td>\n      <td>0.369718</td>\n      <td>0.716145</td>\n      <td>0.794885</td>\n      <td>0.246567</td>\n      <td>0.248165</td>\n      <td>0.369718</td>\n      <td>0.716145</td>\n    </tr>\n    <tr>\n      <th>Rent</th>\n      <td>0.369718</td>\n      <td>1.000000</td>\n      <td>0.413551</td>\n      <td>0.441215</td>\n      <td>0.352810</td>\n      <td>0.352213</td>\n      <td>1.000000</td>\n      <td>0.413551</td>\n    </tr>\n    <tr>\n      <th>Size</th>\n      <td>0.716145</td>\n      <td>0.413551</td>\n      <td>1.000000</td>\n      <td>0.740703</td>\n      <td>0.185678</td>\n      <td>0.189504</td>\n      <td>0.413551</td>\n      <td>1.000000</td>\n    </tr>\n    <tr>\n      <th>Bathroom</th>\n      <td>0.794885</td>\n      <td>0.441215</td>\n      <td>0.740703</td>\n      <td>1.000000</td>\n      <td>0.360837</td>\n      <td>0.362016</td>\n      <td>0.441215</td>\n      <td>0.740703</td>\n    </tr>\n    <tr>\n      <th>Floor level</th>\n      <td>0.246567</td>\n      <td>0.352810</td>\n      <td>0.185678</td>\n      <td>0.360837</td>\n      <td>1.000000</td>\n      <td>0.993341</td>\n      <td>0.352810</td>\n      <td>0.185678</td>\n    </tr>\n    <tr>\n      <th>Total floors</th>\n      <td>0.248165</td>\n      <td>0.352213</td>\n      <td>0.189504</td>\n      <td>0.362016</td>\n      <td>0.993341</td>\n      <td>1.000000</td>\n      <td>0.352213</td>\n      <td>0.189504</td>\n    </tr>\n    <tr>\n      <th>rent_norm</th>\n      <td>0.369718</td>\n      <td>1.000000</td>\n      <td>0.413551</td>\n      <td>0.441215</td>\n      <td>0.352810</td>\n      <td>0.352213</td>\n      <td>1.000000</td>\n      <td>0.413551</td>\n    </tr>\n    <tr>\n      <th>size_norm</th>\n      <td>0.716145</td>\n      <td>0.413551</td>\n      <td>1.000000</td>\n      <td>0.740703</td>\n      <td>0.185678</td>\n      <td>0.189504</td>\n      <td>0.413551</td>\n      <td>1.000000</td>\n    </tr>\n  </tbody>\n</table>\n</div>"
     },
     "execution_count": 71,
     "metadata": {},
     "output_type": "execute_result"
    }
   ],
   "source": [
    "df.corr()"
   ],
   "metadata": {
    "collapsed": false,
    "pycharm": {
     "name": "#%%\n"
    }
   }
  },
  {
   "cell_type": "code",
   "execution_count": 72,
   "outputs": [
    {
     "name": "stdout",
     "output_type": "stream",
     "text": [
      "The Pearson Correlation Coefficient is 0.35279720588528246  with a P-value of P = 5.047348268983203e-139\n"
     ]
    }
   ],
   "source": [
    "df.dropna(axis=0, inplace= True)\n",
    "pearson_coef, p_value = stats.pearsonr(df['Floor level'], df['Rent'])\n",
    "print(\"The Pearson Correlation Coefficient is\", pearson_coef, \" with a P-value of P =\", p_value)"
   ],
   "metadata": {
    "collapsed": false,
    "pycharm": {
     "name": "#%%\n"
    }
   }
  },
  {
   "cell_type": "code",
   "execution_count": 73,
   "outputs": [
    {
     "name": "stdout",
     "output_type": "stream",
     "text": [
      "The Pearson Correlation Coefficient is 0.35221294253189916  with a P-value of P = 1.5413812302160608e-138\n"
     ]
    }
   ],
   "source": [
    "pearson_coef, p_value = stats.pearsonr(df['Total floors'], df['Rent'])\n",
    "print(\"The Pearson Correlation Coefficient is\", pearson_coef, \" with a P-value of P =\", p_value)"
   ],
   "metadata": {
    "collapsed": false,
    "pycharm": {
     "name": "#%%\n"
    }
   }
  },
  {
   "cell_type": "code",
   "execution_count": 74,
   "outputs": [],
   "source": [
    "#Saving file\n",
    "df.to_csv('House_Rent_Dataset(3).csv')"
   ],
   "metadata": {
    "collapsed": false,
    "pycharm": {
     "name": "#%%\n"
    }
   }
  },
  {
   "cell_type": "code",
   "execution_count": 37,
   "outputs": [],
   "source": [],
   "metadata": {
    "collapsed": false,
    "pycharm": {
     "name": "#%%\n"
    }
   }
  },
  {
   "cell_type": "code",
   "execution_count": null,
   "outputs": [],
   "source": [],
   "metadata": {
    "collapsed": false,
    "pycharm": {
     "name": "#%%\n"
    }
   }
  }
 ],
 "metadata": {
  "kernelspec": {
   "display_name": "Python 3",
   "language": "python",
   "name": "python3"
  },
  "language_info": {
   "codemirror_mode": {
    "name": "ipython",
    "version": 2
   },
   "file_extension": ".py",
   "mimetype": "text/x-python",
   "name": "python",
   "nbconvert_exporter": "python",
   "pygments_lexer": "ipython2",
   "version": "2.7.6"
  }
 },
 "nbformat": 4,
 "nbformat_minor": 0
}