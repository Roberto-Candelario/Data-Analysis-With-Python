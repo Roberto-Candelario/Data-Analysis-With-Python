{
 "cells": [
  {
   "cell_type": "code",
   "execution_count": 1,
   "outputs": [],
   "source": [
    "# install Packages\n",
    "import pandas as pd\n",
    "import numpy as np"
   ],
   "metadata": {
    "collapsed": false,
    "pycharm": {
     "name": "#%%\n"
    }
   }
  },
  {
   "cell_type": "markdown",
   "source": [
    "# Read Data\n",
    "\n",
    "### Use pands.read_csv() function to read the csv file.\n",
    "### The data does have headers. We will leave 'headers=' blank"
   ],
   "metadata": {
    "collapsed": false,
    "pycharm": {
     "name": "#%% md\n"
    }
   }
  },
  {
   "cell_type": "code",
   "execution_count": 4,
   "outputs": [],
   "source": [
    "path = \"/Users/robertocandelario/DataGripProjects/Data analysis with python/House Rent Prediction Dataset (kaggle)/House_Rent_Dataset.csv\""
   ],
   "metadata": {
    "collapsed": false,
    "pycharm": {
     "name": "#%%\n"
    }
   }
  },
  {
   "cell_type": "code",
   "execution_count": 5,
   "outputs": [],
   "source": [
    "df = pd.read_csv(path)"
   ],
   "metadata": {
    "collapsed": false,
    "pycharm": {
     "name": "#%%\n"
    }
   }
  },
  {
   "cell_type": "code",
   "execution_count": 6,
   "outputs": [
    {
     "data": {
      "text/plain": "    Posted On  BHK   Rent  Size            Floor    Area Type  \\\n0  2022-05-18    2  10000  1100  Ground out of 2   Super Area   \n1  2022-05-13    2  20000   800       1 out of 3   Super Area   \n2  2022-05-16    2  17000  1000       1 out of 3   Super Area   \n3  2022-07-04    2  10000   800       1 out of 2   Super Area   \n4  2022-05-09    2   7500   850       1 out of 2  Carpet Area   \n\n              Area Locality     City Furnishing Status  Tenant Preferred  \\\n0                    Bandel  Kolkata       Unfurnished  Bachelors/Family   \n1  Phool Bagan, Kankurgachi  Kolkata    Semi-Furnished  Bachelors/Family   \n2   Salt Lake City Sector 2  Kolkata    Semi-Furnished  Bachelors/Family   \n3               Dumdum Park  Kolkata       Unfurnished  Bachelors/Family   \n4             South Dum Dum  Kolkata       Unfurnished         Bachelors   \n\n   Bathroom Point of Contact  \n0         2    Contact Owner  \n1         1    Contact Owner  \n2         1    Contact Owner  \n3         1    Contact Owner  \n4         1    Contact Owner  ",
      "text/html": "<div>\n<style scoped>\n    .dataframe tbody tr th:only-of-type {\n        vertical-align: middle;\n    }\n\n    .dataframe tbody tr th {\n        vertical-align: top;\n    }\n\n    .dataframe thead th {\n        text-align: right;\n    }\n</style>\n<table border=\"1\" class=\"dataframe\">\n  <thead>\n    <tr style=\"text-align: right;\">\n      <th></th>\n      <th>Posted On</th>\n      <th>BHK</th>\n      <th>Rent</th>\n      <th>Size</th>\n      <th>Floor</th>\n      <th>Area Type</th>\n      <th>Area Locality</th>\n      <th>City</th>\n      <th>Furnishing Status</th>\n      <th>Tenant Preferred</th>\n      <th>Bathroom</th>\n      <th>Point of Contact</th>\n    </tr>\n  </thead>\n  <tbody>\n    <tr>\n      <th>0</th>\n      <td>2022-05-18</td>\n      <td>2</td>\n      <td>10000</td>\n      <td>1100</td>\n      <td>Ground out of 2</td>\n      <td>Super Area</td>\n      <td>Bandel</td>\n      <td>Kolkata</td>\n      <td>Unfurnished</td>\n      <td>Bachelors/Family</td>\n      <td>2</td>\n      <td>Contact Owner</td>\n    </tr>\n    <tr>\n      <th>1</th>\n      <td>2022-05-13</td>\n      <td>2</td>\n      <td>20000</td>\n      <td>800</td>\n      <td>1 out of 3</td>\n      <td>Super Area</td>\n      <td>Phool Bagan, Kankurgachi</td>\n      <td>Kolkata</td>\n      <td>Semi-Furnished</td>\n      <td>Bachelors/Family</td>\n      <td>1</td>\n      <td>Contact Owner</td>\n    </tr>\n    <tr>\n      <th>2</th>\n      <td>2022-05-16</td>\n      <td>2</td>\n      <td>17000</td>\n      <td>1000</td>\n      <td>1 out of 3</td>\n      <td>Super Area</td>\n      <td>Salt Lake City Sector 2</td>\n      <td>Kolkata</td>\n      <td>Semi-Furnished</td>\n      <td>Bachelors/Family</td>\n      <td>1</td>\n      <td>Contact Owner</td>\n    </tr>\n    <tr>\n      <th>3</th>\n      <td>2022-07-04</td>\n      <td>2</td>\n      <td>10000</td>\n      <td>800</td>\n      <td>1 out of 2</td>\n      <td>Super Area</td>\n      <td>Dumdum Park</td>\n      <td>Kolkata</td>\n      <td>Unfurnished</td>\n      <td>Bachelors/Family</td>\n      <td>1</td>\n      <td>Contact Owner</td>\n    </tr>\n    <tr>\n      <th>4</th>\n      <td>2022-05-09</td>\n      <td>2</td>\n      <td>7500</td>\n      <td>850</td>\n      <td>1 out of 2</td>\n      <td>Carpet Area</td>\n      <td>South Dum Dum</td>\n      <td>Kolkata</td>\n      <td>Unfurnished</td>\n      <td>Bachelors</td>\n      <td>1</td>\n      <td>Contact Owner</td>\n    </tr>\n  </tbody>\n</table>\n</div>"
     },
     "execution_count": 6,
     "metadata": {},
     "output_type": "execute_result"
    }
   ],
   "source": [
    "#show the first 5 rows using dataframe.head()\n",
    "df.head()"
   ],
   "metadata": {
    "collapsed": false,
    "pycharm": {
     "name": "#%%\n"
    }
   }
  },
  {
   "cell_type": "code",
   "execution_count": 7,
   "outputs": [
    {
     "data": {
      "text/plain": "       Posted On  BHK   Rent  Size         Floor    Area Type  \\\n4741  2022-05-18    2  15000  1000    3 out of 5  Carpet Area   \n4742  2022-05-15    3  29000  2000    1 out of 4   Super Area   \n4743  2022-07-10    3  35000  1750    3 out of 5  Carpet Area   \n4744  2022-07-06    3  45000  1500  23 out of 34  Carpet Area   \n4745  2022-05-04    2  15000  1000    4 out of 5  Carpet Area   \n\n             Area Locality       City Furnishing Status  Tenant Preferred  \\\n4741          Bandam Kommu  Hyderabad    Semi-Furnished  Bachelors/Family   \n4742  Manikonda, Hyderabad  Hyderabad    Semi-Furnished  Bachelors/Family   \n4743  Himayath Nagar, NH 7  Hyderabad    Semi-Furnished  Bachelors/Family   \n4744            Gachibowli  Hyderabad    Semi-Furnished            Family   \n4745       Suchitra Circle  Hyderabad       Unfurnished         Bachelors   \n\n      Bathroom Point of Contact  \n4741         2    Contact Owner  \n4742         3    Contact Owner  \n4743         3    Contact Agent  \n4744         2    Contact Agent  \n4745         2    Contact Owner  ",
      "text/html": "<div>\n<style scoped>\n    .dataframe tbody tr th:only-of-type {\n        vertical-align: middle;\n    }\n\n    .dataframe tbody tr th {\n        vertical-align: top;\n    }\n\n    .dataframe thead th {\n        text-align: right;\n    }\n</style>\n<table border=\"1\" class=\"dataframe\">\n  <thead>\n    <tr style=\"text-align: right;\">\n      <th></th>\n      <th>Posted On</th>\n      <th>BHK</th>\n      <th>Rent</th>\n      <th>Size</th>\n      <th>Floor</th>\n      <th>Area Type</th>\n      <th>Area Locality</th>\n      <th>City</th>\n      <th>Furnishing Status</th>\n      <th>Tenant Preferred</th>\n      <th>Bathroom</th>\n      <th>Point of Contact</th>\n    </tr>\n  </thead>\n  <tbody>\n    <tr>\n      <th>4741</th>\n      <td>2022-05-18</td>\n      <td>2</td>\n      <td>15000</td>\n      <td>1000</td>\n      <td>3 out of 5</td>\n      <td>Carpet Area</td>\n      <td>Bandam Kommu</td>\n      <td>Hyderabad</td>\n      <td>Semi-Furnished</td>\n      <td>Bachelors/Family</td>\n      <td>2</td>\n      <td>Contact Owner</td>\n    </tr>\n    <tr>\n      <th>4742</th>\n      <td>2022-05-15</td>\n      <td>3</td>\n      <td>29000</td>\n      <td>2000</td>\n      <td>1 out of 4</td>\n      <td>Super Area</td>\n      <td>Manikonda, Hyderabad</td>\n      <td>Hyderabad</td>\n      <td>Semi-Furnished</td>\n      <td>Bachelors/Family</td>\n      <td>3</td>\n      <td>Contact Owner</td>\n    </tr>\n    <tr>\n      <th>4743</th>\n      <td>2022-07-10</td>\n      <td>3</td>\n      <td>35000</td>\n      <td>1750</td>\n      <td>3 out of 5</td>\n      <td>Carpet Area</td>\n      <td>Himayath Nagar, NH 7</td>\n      <td>Hyderabad</td>\n      <td>Semi-Furnished</td>\n      <td>Bachelors/Family</td>\n      <td>3</td>\n      <td>Contact Agent</td>\n    </tr>\n    <tr>\n      <th>4744</th>\n      <td>2022-07-06</td>\n      <td>3</td>\n      <td>45000</td>\n      <td>1500</td>\n      <td>23 out of 34</td>\n      <td>Carpet Area</td>\n      <td>Gachibowli</td>\n      <td>Hyderabad</td>\n      <td>Semi-Furnished</td>\n      <td>Family</td>\n      <td>2</td>\n      <td>Contact Agent</td>\n    </tr>\n    <tr>\n      <th>4745</th>\n      <td>2022-05-04</td>\n      <td>2</td>\n      <td>15000</td>\n      <td>1000</td>\n      <td>4 out of 5</td>\n      <td>Carpet Area</td>\n      <td>Suchitra Circle</td>\n      <td>Hyderabad</td>\n      <td>Unfurnished</td>\n      <td>Bachelors</td>\n      <td>2</td>\n      <td>Contact Owner</td>\n    </tr>\n  </tbody>\n</table>\n</div>"
     },
     "execution_count": 7,
     "metadata": {},
     "output_type": "execute_result"
    }
   ],
   "source": [
    "#Check the bottom rows\n",
    "df.tail()"
   ],
   "metadata": {
    "collapsed": false,
    "pycharm": {
     "name": "#%%\n"
    }
   }
  },
  {
   "cell_type": "code",
   "execution_count": 10,
   "outputs": [
    {
     "name": "stdout",
     "output_type": "stream",
     "text": [
      "<class 'pandas.core.frame.DataFrame'>\n",
      "RangeIndex: 4746 entries, 0 to 4745\n",
      "Data columns (total 12 columns):\n",
      " #   Column             Non-Null Count  Dtype \n",
      "---  ------             --------------  ----- \n",
      " 0   Posted On          4746 non-null   object\n",
      " 1   BHK                4746 non-null   int64 \n",
      " 2   Rent               4746 non-null   int64 \n",
      " 3   Size               4746 non-null   int64 \n",
      " 4   Floor              4746 non-null   object\n",
      " 5   Area Type          4746 non-null   object\n",
      " 6   Area Locality      4746 non-null   object\n",
      " 7   City               4746 non-null   object\n",
      " 8   Furnishing Status  4746 non-null   object\n",
      " 9   Tenant Preferred   4746 non-null   object\n",
      " 10  Bathroom           4746 non-null   int64 \n",
      " 11  Point of Contact   4746 non-null   object\n",
      "dtypes: int64(4), object(8)\n",
      "memory usage: 445.1+ KB\n"
     ]
    }
   ],
   "source": [
    "df.info()"
   ],
   "metadata": {
    "collapsed": false,
    "pycharm": {
     "name": "#%%\n"
    }
   }
  },
  {
   "cell_type": "code",
   "execution_count": 11,
   "outputs": [
    {
     "data": {
      "text/plain": "Posted On            object\nBHK                   int64\nRent                  int64\nSize                  int64\nFloor                object\nArea Type            object\nArea Locality        object\nCity                 object\nFurnishing Status    object\nTenant Preferred     object\nBathroom              int64\nPoint of Contact     object\ndtype: object"
     },
     "execution_count": 11,
     "metadata": {},
     "output_type": "execute_result"
    }
   ],
   "source": [
    "#Checking Data types\n",
    "df.dtypes"
   ],
   "metadata": {
    "collapsed": false,
    "pycharm": {
     "name": "#%%\n"
    }
   }
  },
  {
   "cell_type": "code",
   "execution_count": 9,
   "outputs": [
    {
     "data": {
      "text/plain": "               BHK          Rent         Size     Bathroom\ncount  4746.000000  4.746000e+03  4746.000000  4746.000000\nmean      2.083860  3.499345e+04   967.490729     1.965866\nstd       0.832256  7.810641e+04   634.202328     0.884532\nmin       1.000000  1.200000e+03    10.000000     1.000000\n25%       2.000000  1.000000e+04   550.000000     1.000000\n50%       2.000000  1.600000e+04   850.000000     2.000000\n75%       3.000000  3.300000e+04  1200.000000     2.000000\nmax       6.000000  3.500000e+06  8000.000000    10.000000",
      "text/html": "<div>\n<style scoped>\n    .dataframe tbody tr th:only-of-type {\n        vertical-align: middle;\n    }\n\n    .dataframe tbody tr th {\n        vertical-align: top;\n    }\n\n    .dataframe thead th {\n        text-align: right;\n    }\n</style>\n<table border=\"1\" class=\"dataframe\">\n  <thead>\n    <tr style=\"text-align: right;\">\n      <th></th>\n      <th>BHK</th>\n      <th>Rent</th>\n      <th>Size</th>\n      <th>Bathroom</th>\n    </tr>\n  </thead>\n  <tbody>\n    <tr>\n      <th>count</th>\n      <td>4746.000000</td>\n      <td>4.746000e+03</td>\n      <td>4746.000000</td>\n      <td>4746.000000</td>\n    </tr>\n    <tr>\n      <th>mean</th>\n      <td>2.083860</td>\n      <td>3.499345e+04</td>\n      <td>967.490729</td>\n      <td>1.965866</td>\n    </tr>\n    <tr>\n      <th>std</th>\n      <td>0.832256</td>\n      <td>7.810641e+04</td>\n      <td>634.202328</td>\n      <td>0.884532</td>\n    </tr>\n    <tr>\n      <th>min</th>\n      <td>1.000000</td>\n      <td>1.200000e+03</td>\n      <td>10.000000</td>\n      <td>1.000000</td>\n    </tr>\n    <tr>\n      <th>25%</th>\n      <td>2.000000</td>\n      <td>1.000000e+04</td>\n      <td>550.000000</td>\n      <td>1.000000</td>\n    </tr>\n    <tr>\n      <th>50%</th>\n      <td>2.000000</td>\n      <td>1.600000e+04</td>\n      <td>850.000000</td>\n      <td>2.000000</td>\n    </tr>\n    <tr>\n      <th>75%</th>\n      <td>3.000000</td>\n      <td>3.300000e+04</td>\n      <td>1200.000000</td>\n      <td>2.000000</td>\n    </tr>\n    <tr>\n      <th>max</th>\n      <td>6.000000</td>\n      <td>3.500000e+06</td>\n      <td>8000.000000</td>\n      <td>10.000000</td>\n    </tr>\n  </tbody>\n</table>\n</div>"
     },
     "execution_count": 9,
     "metadata": {},
     "output_type": "execute_result"
    }
   ],
   "source": [
    "df.describe()"
   ],
   "metadata": {
    "collapsed": false,
    "pycharm": {
     "name": "#%%\n"
    }
   }
  },
  {
   "cell_type": "code",
   "execution_count": 12,
   "outputs": [
    {
     "data": {
      "text/plain": "         Posted On          BHK          Rent         Size       Floor  \\\ncount         4746  4746.000000  4.746000e+03  4746.000000        4746   \nunique          81          NaN           NaN          NaN         480   \ntop     2022-07-06          NaN           NaN          NaN  1 out of 2   \nfreq           311          NaN           NaN          NaN         379   \nmean           NaN     2.083860  3.499345e+04   967.490729         NaN   \nstd            NaN     0.832256  7.810641e+04   634.202328         NaN   \nmin            NaN     1.000000  1.200000e+03    10.000000         NaN   \n25%            NaN     2.000000  1.000000e+04   550.000000         NaN   \n50%            NaN     2.000000  1.600000e+04   850.000000         NaN   \n75%            NaN     3.000000  3.300000e+04  1200.000000         NaN   \nmax            NaN     6.000000  3.500000e+06  8000.000000         NaN   \n\n         Area Type Area Locality    City Furnishing Status  Tenant Preferred  \\\ncount         4746          4746    4746              4746              4746   \nunique           3          2235       6                 3                 3   \ntop     Super Area   Bandra West  Mumbai    Semi-Furnished  Bachelors/Family   \nfreq          2446            37     972              2251              3444   \nmean           NaN           NaN     NaN               NaN               NaN   \nstd            NaN           NaN     NaN               NaN               NaN   \nmin            NaN           NaN     NaN               NaN               NaN   \n25%            NaN           NaN     NaN               NaN               NaN   \n50%            NaN           NaN     NaN               NaN               NaN   \n75%            NaN           NaN     NaN               NaN               NaN   \nmax            NaN           NaN     NaN               NaN               NaN   \n\n           Bathroom Point of Contact  \ncount   4746.000000             4746  \nunique          NaN                3  \ntop             NaN    Contact Owner  \nfreq            NaN             3216  \nmean       1.965866              NaN  \nstd        0.884532              NaN  \nmin        1.000000              NaN  \n25%        1.000000              NaN  \n50%        2.000000              NaN  \n75%        2.000000              NaN  \nmax       10.000000              NaN  ",
      "text/html": "<div>\n<style scoped>\n    .dataframe tbody tr th:only-of-type {\n        vertical-align: middle;\n    }\n\n    .dataframe tbody tr th {\n        vertical-align: top;\n    }\n\n    .dataframe thead th {\n        text-align: right;\n    }\n</style>\n<table border=\"1\" class=\"dataframe\">\n  <thead>\n    <tr style=\"text-align: right;\">\n      <th></th>\n      <th>Posted On</th>\n      <th>BHK</th>\n      <th>Rent</th>\n      <th>Size</th>\n      <th>Floor</th>\n      <th>Area Type</th>\n      <th>Area Locality</th>\n      <th>City</th>\n      <th>Furnishing Status</th>\n      <th>Tenant Preferred</th>\n      <th>Bathroom</th>\n      <th>Point of Contact</th>\n    </tr>\n  </thead>\n  <tbody>\n    <tr>\n      <th>count</th>\n      <td>4746</td>\n      <td>4746.000000</td>\n      <td>4.746000e+03</td>\n      <td>4746.000000</td>\n      <td>4746</td>\n      <td>4746</td>\n      <td>4746</td>\n      <td>4746</td>\n      <td>4746</td>\n      <td>4746</td>\n      <td>4746.000000</td>\n      <td>4746</td>\n    </tr>\n    <tr>\n      <th>unique</th>\n      <td>81</td>\n      <td>NaN</td>\n      <td>NaN</td>\n      <td>NaN</td>\n      <td>480</td>\n      <td>3</td>\n      <td>2235</td>\n      <td>6</td>\n      <td>3</td>\n      <td>3</td>\n      <td>NaN</td>\n      <td>3</td>\n    </tr>\n    <tr>\n      <th>top</th>\n      <td>2022-07-06</td>\n      <td>NaN</td>\n      <td>NaN</td>\n      <td>NaN</td>\n      <td>1 out of 2</td>\n      <td>Super Area</td>\n      <td>Bandra West</td>\n      <td>Mumbai</td>\n      <td>Semi-Furnished</td>\n      <td>Bachelors/Family</td>\n      <td>NaN</td>\n      <td>Contact Owner</td>\n    </tr>\n    <tr>\n      <th>freq</th>\n      <td>311</td>\n      <td>NaN</td>\n      <td>NaN</td>\n      <td>NaN</td>\n      <td>379</td>\n      <td>2446</td>\n      <td>37</td>\n      <td>972</td>\n      <td>2251</td>\n      <td>3444</td>\n      <td>NaN</td>\n      <td>3216</td>\n    </tr>\n    <tr>\n      <th>mean</th>\n      <td>NaN</td>\n      <td>2.083860</td>\n      <td>3.499345e+04</td>\n      <td>967.490729</td>\n      <td>NaN</td>\n      <td>NaN</td>\n      <td>NaN</td>\n      <td>NaN</td>\n      <td>NaN</td>\n      <td>NaN</td>\n      <td>1.965866</td>\n      <td>NaN</td>\n    </tr>\n    <tr>\n      <th>std</th>\n      <td>NaN</td>\n      <td>0.832256</td>\n      <td>7.810641e+04</td>\n      <td>634.202328</td>\n      <td>NaN</td>\n      <td>NaN</td>\n      <td>NaN</td>\n      <td>NaN</td>\n      <td>NaN</td>\n      <td>NaN</td>\n      <td>0.884532</td>\n      <td>NaN</td>\n    </tr>\n    <tr>\n      <th>min</th>\n      <td>NaN</td>\n      <td>1.000000</td>\n      <td>1.200000e+03</td>\n      <td>10.000000</td>\n      <td>NaN</td>\n      <td>NaN</td>\n      <td>NaN</td>\n      <td>NaN</td>\n      <td>NaN</td>\n      <td>NaN</td>\n      <td>1.000000</td>\n      <td>NaN</td>\n    </tr>\n    <tr>\n      <th>25%</th>\n      <td>NaN</td>\n      <td>2.000000</td>\n      <td>1.000000e+04</td>\n      <td>550.000000</td>\n      <td>NaN</td>\n      <td>NaN</td>\n      <td>NaN</td>\n      <td>NaN</td>\n      <td>NaN</td>\n      <td>NaN</td>\n      <td>1.000000</td>\n      <td>NaN</td>\n    </tr>\n    <tr>\n      <th>50%</th>\n      <td>NaN</td>\n      <td>2.000000</td>\n      <td>1.600000e+04</td>\n      <td>850.000000</td>\n      <td>NaN</td>\n      <td>NaN</td>\n      <td>NaN</td>\n      <td>NaN</td>\n      <td>NaN</td>\n      <td>NaN</td>\n      <td>2.000000</td>\n      <td>NaN</td>\n    </tr>\n    <tr>\n      <th>75%</th>\n      <td>NaN</td>\n      <td>3.000000</td>\n      <td>3.300000e+04</td>\n      <td>1200.000000</td>\n      <td>NaN</td>\n      <td>NaN</td>\n      <td>NaN</td>\n      <td>NaN</td>\n      <td>NaN</td>\n      <td>NaN</td>\n      <td>2.000000</td>\n      <td>NaN</td>\n    </tr>\n    <tr>\n      <th>max</th>\n      <td>NaN</td>\n      <td>6.000000</td>\n      <td>3.500000e+06</td>\n      <td>8000.000000</td>\n      <td>NaN</td>\n      <td>NaN</td>\n      <td>NaN</td>\n      <td>NaN</td>\n      <td>NaN</td>\n      <td>NaN</td>\n      <td>10.000000</td>\n      <td>NaN</td>\n    </tr>\n  </tbody>\n</table>\n</div>"
     },
     "execution_count": 12,
     "metadata": {},
     "output_type": "execute_result"
    }
   ],
   "source": [
    "# Describe all\n",
    "df.describe(include= 'all')"
   ],
   "metadata": {
    "collapsed": false,
    "pycharm": {
     "name": "#%%\n"
    }
   }
  }
 ],
 "metadata": {
  "kernelspec": {
   "display_name": "Python 3",
   "language": "python",
   "name": "python3"
  },
  "language_info": {
   "codemirror_mode": {
    "name": "ipython",
    "version": 2
   },
   "file_extension": ".py",
   "mimetype": "text/x-python",
   "name": "python",
   "nbconvert_exporter": "python",
   "pygments_lexer": "ipython2",
   "version": "2.7.6"
  }
 },
 "nbformat": 4,
 "nbformat_minor": 0
}