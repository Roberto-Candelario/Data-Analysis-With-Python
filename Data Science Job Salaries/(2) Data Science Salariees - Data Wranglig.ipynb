{
 "cells": [
  {
   "cell_type": "markdown",
   "source": [
    "### Data Wranglingn\n",
    "#### Objectives\n",
    " ##### After completing this lab I will be able to:\n",
    " *** Handle missing values\n",
    " *** Correct data format\n",
    " *** Stanndardize adn normalize data"
   ],
   "metadata": {
    "collapsed": false,
    "pycharm": {
     "name": "#%% md\n"
    }
   }
  },
  {
   "cell_type": "markdown",
   "source": [
    "#### What is the purpose of data wrangling?"
   ],
   "metadata": {
    "collapsed": false,
    "pycharm": {
     "name": "#%% md\n"
    }
   }
  },
  {
   "cell_type": "markdown",
   "source": [
    "##### Data wrangling is the process of converting data from the innitial format to a format that may be betteer for analysis"
   ],
   "metadata": {
    "collapsed": false,
    "pycharm": {
     "name": "#%% md\n"
    }
   }
  },
  {
   "cell_type": "markdown",
   "source": [
    "### Import pandas"
   ],
   "metadata": {
    "collapsed": false,
    "pycharm": {
     "name": "#%% md\n"
    }
   }
  },
  {
   "cell_type": "code",
   "execution_count": 30,
   "outputs": [],
   "source": [
    "import pandas as pd\n",
    "import numpy as np\n",
    "import matplotlib.pylab as plt"
   ],
   "metadata": {
    "collapsed": false,
    "pycharm": {
     "name": "#%%\n"
    }
   }
  },
  {
   "cell_type": "code",
   "execution_count": 66,
   "outputs": [],
   "source": [
    "path = \"/Users/robertocandelario/DataGripProjects/Data analysis with python/Data Science Job Salaries/ds_salaries.csv\"\n",
    "df = pd.read_csv(path)"
   ],
   "metadata": {
    "collapsed": false,
    "pycharm": {
     "name": "#%%\n"
    }
   }
  },
  {
   "cell_type": "code",
   "execution_count": 67,
   "outputs": [
    {
     "data": {
      "text/plain": "   Unnamed: 0  work_year experience_level employment_type  \\\n0           0       2020               MI              FT   \n1           1       2020               SE              FT   \n2           2       2020               SE              FT   \n3           3       2020               MI              FT   \n4           4       2020               SE              FT   \n\n                    job_title  salary salary_currency  salary_in_usd  \\\n0              Data Scientist   70000             EUR          79833   \n1  Machine Learning Scientist  260000             USD         260000   \n2           Big Data Engineer   85000             GBP         109024   \n3        Product Data Analyst   20000             USD          20000   \n4   Machine Learning Engineer  150000             USD         150000   \n\n  employee_residence  remote_ratio company_location company_size  \n0                 DE             0               DE            L  \n1                 JP             0               JP            S  \n2                 GB            50               GB            M  \n3                 HN             0               HN            S  \n4                 US            50               US            L  ",
      "text/html": "<div>\n<style scoped>\n    .dataframe tbody tr th:only-of-type {\n        vertical-align: middle;\n    }\n\n    .dataframe tbody tr th {\n        vertical-align: top;\n    }\n\n    .dataframe thead th {\n        text-align: right;\n    }\n</style>\n<table border=\"1\" class=\"dataframe\">\n  <thead>\n    <tr style=\"text-align: right;\">\n      <th></th>\n      <th>Unnamed: 0</th>\n      <th>work_year</th>\n      <th>experience_level</th>\n      <th>employment_type</th>\n      <th>job_title</th>\n      <th>salary</th>\n      <th>salary_currency</th>\n      <th>salary_in_usd</th>\n      <th>employee_residence</th>\n      <th>remote_ratio</th>\n      <th>company_location</th>\n      <th>company_size</th>\n    </tr>\n  </thead>\n  <tbody>\n    <tr>\n      <th>0</th>\n      <td>0</td>\n      <td>2020</td>\n      <td>MI</td>\n      <td>FT</td>\n      <td>Data Scientist</td>\n      <td>70000</td>\n      <td>EUR</td>\n      <td>79833</td>\n      <td>DE</td>\n      <td>0</td>\n      <td>DE</td>\n      <td>L</td>\n    </tr>\n    <tr>\n      <th>1</th>\n      <td>1</td>\n      <td>2020</td>\n      <td>SE</td>\n      <td>FT</td>\n      <td>Machine Learning Scientist</td>\n      <td>260000</td>\n      <td>USD</td>\n      <td>260000</td>\n      <td>JP</td>\n      <td>0</td>\n      <td>JP</td>\n      <td>S</td>\n    </tr>\n    <tr>\n      <th>2</th>\n      <td>2</td>\n      <td>2020</td>\n      <td>SE</td>\n      <td>FT</td>\n      <td>Big Data Engineer</td>\n      <td>85000</td>\n      <td>GBP</td>\n      <td>109024</td>\n      <td>GB</td>\n      <td>50</td>\n      <td>GB</td>\n      <td>M</td>\n    </tr>\n    <tr>\n      <th>3</th>\n      <td>3</td>\n      <td>2020</td>\n      <td>MI</td>\n      <td>FT</td>\n      <td>Product Data Analyst</td>\n      <td>20000</td>\n      <td>USD</td>\n      <td>20000</td>\n      <td>HN</td>\n      <td>0</td>\n      <td>HN</td>\n      <td>S</td>\n    </tr>\n    <tr>\n      <th>4</th>\n      <td>4</td>\n      <td>2020</td>\n      <td>SE</td>\n      <td>FT</td>\n      <td>Machine Learning Engineer</td>\n      <td>150000</td>\n      <td>USD</td>\n      <td>150000</td>\n      <td>US</td>\n      <td>50</td>\n      <td>US</td>\n      <td>L</td>\n    </tr>\n  </tbody>\n</table>\n</div>"
     },
     "execution_count": 67,
     "metadata": {},
     "output_type": "execute_result"
    }
   ],
   "source": [
    "df.head()"
   ],
   "metadata": {
    "collapsed": false,
    "pycharm": {
     "name": "#%%\n"
    }
   }
  },
  {
   "cell_type": "code",
   "execution_count": 68,
   "outputs": [
    {
     "data": {
      "text/plain": "   work_year experience_level employment_type                   job_title  \\\n0       2020               MI              FT              Data Scientist   \n1       2020               SE              FT  Machine Learning Scientist   \n2       2020               SE              FT           Big Data Engineer   \n3       2020               MI              FT        Product Data Analyst   \n4       2020               SE              FT   Machine Learning Engineer   \n\n   salary salary_currency  salary_in_usd employee_residence  remote_ratio  \\\n0   70000             EUR          79833                 DE             0   \n1  260000             USD         260000                 JP             0   \n2   85000             GBP         109024                 GB            50   \n3   20000             USD          20000                 HN             0   \n4  150000             USD         150000                 US            50   \n\n  company_location company_size  \n0               DE            L  \n1               JP            S  \n2               GB            M  \n3               HN            S  \n4               US            L  ",
      "text/html": "<div>\n<style scoped>\n    .dataframe tbody tr th:only-of-type {\n        vertical-align: middle;\n    }\n\n    .dataframe tbody tr th {\n        vertical-align: top;\n    }\n\n    .dataframe thead th {\n        text-align: right;\n    }\n</style>\n<table border=\"1\" class=\"dataframe\">\n  <thead>\n    <tr style=\"text-align: right;\">\n      <th></th>\n      <th>work_year</th>\n      <th>experience_level</th>\n      <th>employment_type</th>\n      <th>job_title</th>\n      <th>salary</th>\n      <th>salary_currency</th>\n      <th>salary_in_usd</th>\n      <th>employee_residence</th>\n      <th>remote_ratio</th>\n      <th>company_location</th>\n      <th>company_size</th>\n    </tr>\n  </thead>\n  <tbody>\n    <tr>\n      <th>0</th>\n      <td>2020</td>\n      <td>MI</td>\n      <td>FT</td>\n      <td>Data Scientist</td>\n      <td>70000</td>\n      <td>EUR</td>\n      <td>79833</td>\n      <td>DE</td>\n      <td>0</td>\n      <td>DE</td>\n      <td>L</td>\n    </tr>\n    <tr>\n      <th>1</th>\n      <td>2020</td>\n      <td>SE</td>\n      <td>FT</td>\n      <td>Machine Learning Scientist</td>\n      <td>260000</td>\n      <td>USD</td>\n      <td>260000</td>\n      <td>JP</td>\n      <td>0</td>\n      <td>JP</td>\n      <td>S</td>\n    </tr>\n    <tr>\n      <th>2</th>\n      <td>2020</td>\n      <td>SE</td>\n      <td>FT</td>\n      <td>Big Data Engineer</td>\n      <td>85000</td>\n      <td>GBP</td>\n      <td>109024</td>\n      <td>GB</td>\n      <td>50</td>\n      <td>GB</td>\n      <td>M</td>\n    </tr>\n    <tr>\n      <th>3</th>\n      <td>2020</td>\n      <td>MI</td>\n      <td>FT</td>\n      <td>Product Data Analyst</td>\n      <td>20000</td>\n      <td>USD</td>\n      <td>20000</td>\n      <td>HN</td>\n      <td>0</td>\n      <td>HN</td>\n      <td>S</td>\n    </tr>\n    <tr>\n      <th>4</th>\n      <td>2020</td>\n      <td>SE</td>\n      <td>FT</td>\n      <td>Machine Learning Engineer</td>\n      <td>150000</td>\n      <td>USD</td>\n      <td>150000</td>\n      <td>US</td>\n      <td>50</td>\n      <td>US</td>\n      <td>L</td>\n    </tr>\n  </tbody>\n</table>\n</div>"
     },
     "execution_count": 68,
     "metadata": {},
     "output_type": "execute_result"
    }
   ],
   "source": [
    "# Remove the unnamed column. It is useless\n",
    "df.drop('Unnamed: 0', axis= 1, inplace= True)\n",
    "df.head()"
   ],
   "metadata": {
    "collapsed": false,
    "pycharm": {
     "name": "#%%\n"
    }
   }
  },
  {
   "cell_type": "markdown",
   "source": [
    "## How to identify missing values and deal with them?\n",
    "#### Steps for workign with missing data:\n",
    "##### 1. Identify missing data\n",
    "##### 2. Deal with missing data\n",
    "##### 3. Correct data format"
   ],
   "metadata": {
    "collapsed": false,
    "pycharm": {
     "name": "#%% md\n"
    }
   }
  },
  {
   "cell_type": "code",
   "execution_count": 69,
   "outputs": [],
   "source": [
    "missing_data = df.isnull()"
   ],
   "metadata": {
    "collapsed": false,
    "pycharm": {
     "name": "#%%\n"
    }
   }
  },
  {
   "cell_type": "code",
   "execution_count": 70,
   "outputs": [
    {
     "data": {
      "text/plain": "   work_year  experience_level  employment_type  job_title  salary  \\\n0      False             False            False      False   False   \n1      False             False            False      False   False   \n2      False             False            False      False   False   \n3      False             False            False      False   False   \n4      False             False            False      False   False   \n\n   salary_currency  salary_in_usd  employee_residence  remote_ratio  \\\n0            False          False               False         False   \n1            False          False               False         False   \n2            False          False               False         False   \n3            False          False               False         False   \n4            False          False               False         False   \n\n   company_location  company_size  \n0             False         False  \n1             False         False  \n2             False         False  \n3             False         False  \n4             False         False  ",
      "text/html": "<div>\n<style scoped>\n    .dataframe tbody tr th:only-of-type {\n        vertical-align: middle;\n    }\n\n    .dataframe tbody tr th {\n        vertical-align: top;\n    }\n\n    .dataframe thead th {\n        text-align: right;\n    }\n</style>\n<table border=\"1\" class=\"dataframe\">\n  <thead>\n    <tr style=\"text-align: right;\">\n      <th></th>\n      <th>work_year</th>\n      <th>experience_level</th>\n      <th>employment_type</th>\n      <th>job_title</th>\n      <th>salary</th>\n      <th>salary_currency</th>\n      <th>salary_in_usd</th>\n      <th>employee_residence</th>\n      <th>remote_ratio</th>\n      <th>company_location</th>\n      <th>company_size</th>\n    </tr>\n  </thead>\n  <tbody>\n    <tr>\n      <th>0</th>\n      <td>False</td>\n      <td>False</td>\n      <td>False</td>\n      <td>False</td>\n      <td>False</td>\n      <td>False</td>\n      <td>False</td>\n      <td>False</td>\n      <td>False</td>\n      <td>False</td>\n      <td>False</td>\n    </tr>\n    <tr>\n      <th>1</th>\n      <td>False</td>\n      <td>False</td>\n      <td>False</td>\n      <td>False</td>\n      <td>False</td>\n      <td>False</td>\n      <td>False</td>\n      <td>False</td>\n      <td>False</td>\n      <td>False</td>\n      <td>False</td>\n    </tr>\n    <tr>\n      <th>2</th>\n      <td>False</td>\n      <td>False</td>\n      <td>False</td>\n      <td>False</td>\n      <td>False</td>\n      <td>False</td>\n      <td>False</td>\n      <td>False</td>\n      <td>False</td>\n      <td>False</td>\n      <td>False</td>\n    </tr>\n    <tr>\n      <th>3</th>\n      <td>False</td>\n      <td>False</td>\n      <td>False</td>\n      <td>False</td>\n      <td>False</td>\n      <td>False</td>\n      <td>False</td>\n      <td>False</td>\n      <td>False</td>\n      <td>False</td>\n      <td>False</td>\n    </tr>\n    <tr>\n      <th>4</th>\n      <td>False</td>\n      <td>False</td>\n      <td>False</td>\n      <td>False</td>\n      <td>False</td>\n      <td>False</td>\n      <td>False</td>\n      <td>False</td>\n      <td>False</td>\n      <td>False</td>\n      <td>False</td>\n    </tr>\n  </tbody>\n</table>\n</div>"
     },
     "execution_count": 70,
     "metadata": {},
     "output_type": "execute_result"
    }
   ],
   "source": [
    "missing_data.head()"
   ],
   "metadata": {
    "collapsed": false,
    "pycharm": {
     "name": "#%%\n"
    }
   }
  },
  {
   "cell_type": "code",
   "execution_count": 71,
   "outputs": [],
   "source": [
    "# if anything shows up as true, data is missing\n",
    "# Let's count the missing values in each column"
   ],
   "metadata": {
    "collapsed": false,
    "pycharm": {
     "name": "#%%\n"
    }
   }
  },
  {
   "cell_type": "code",
   "execution_count": 72,
   "outputs": [
    {
     "name": "stdout",
     "output_type": "stream",
     "text": [
      "work_year\n",
      "False    607\n",
      "Name: work_year, dtype: int64\n",
      "\n",
      "experience_level\n",
      "False    607\n",
      "Name: experience_level, dtype: int64\n",
      "\n",
      "employment_type\n",
      "False    607\n",
      "Name: employment_type, dtype: int64\n",
      "\n",
      "job_title\n",
      "False    607\n",
      "Name: job_title, dtype: int64\n",
      "\n",
      "salary\n",
      "False    607\n",
      "Name: salary, dtype: int64\n",
      "\n",
      "salary_currency\n",
      "False    607\n",
      "Name: salary_currency, dtype: int64\n",
      "\n",
      "salary_in_usd\n",
      "False    607\n",
      "Name: salary_in_usd, dtype: int64\n",
      "\n",
      "employee_residence\n",
      "False    607\n",
      "Name: employee_residence, dtype: int64\n",
      "\n",
      "remote_ratio\n",
      "False    607\n",
      "Name: remote_ratio, dtype: int64\n",
      "\n",
      "company_location\n",
      "False    607\n",
      "Name: company_location, dtype: int64\n",
      "\n",
      "company_size\n",
      "False    607\n",
      "Name: company_size, dtype: int64\n",
      "\n"
     ]
    }
   ],
   "source": [
    "for column in missing_data.columns.values.tolist():\n",
    "    print(column)\n",
    "    print(missing_data[column].value_counts())\n",
    "    print(\"\")"
   ],
   "metadata": {
    "collapsed": false,
    "pycharm": {
     "name": "#%%\n"
    }
   }
  },
  {
   "cell_type": "markdown",
   "source": [
    "### All columnns show no missing data"
   ],
   "metadata": {
    "collapsed": false,
    "pycharm": {
     "name": "#%% md\n"
    }
   }
  },
  {
   "cell_type": "markdown",
   "source": [
    "### Calculate the mean"
   ],
   "metadata": {
    "collapsed": false,
    "pycharm": {
     "name": "#%% md\n"
    }
   }
  },
  {
   "cell_type": "code",
   "execution_count": 73,
   "outputs": [
    {
     "name": "stdout",
     "output_type": "stream",
     "text": [
      "Average salarie in USD: 112297.86985172982\n"
     ]
    }
   ],
   "source": [
    "avg_salary = df['salary_in_usd'].astype('float').mean(axis=0)\n",
    "print(\"Average salarie in USD:\", avg_salary)\n",
    "\n"
   ],
   "metadata": {
    "collapsed": false,
    "pycharm": {
     "name": "#%%\n"
    }
   }
  },
  {
   "cell_type": "markdown",
   "source": [
    "### what is the experience level?"
   ],
   "metadata": {
    "collapsed": false,
    "pycharm": {
     "name": "#%% md\n"
    }
   }
  },
  {
   "cell_type": "code",
   "execution_count": 74,
   "outputs": [
    {
     "data": {
      "text/plain": "SE    280\nMI    213\nEN     88\nEX     26\nName: experience_level, dtype: int64"
     },
     "execution_count": 74,
     "metadata": {},
     "output_type": "execute_result"
    }
   ],
   "source": [
    "df['experience_level'].value_counts()"
   ],
   "metadata": {
    "collapsed": false,
    "pycharm": {
     "name": "#%%\n"
    }
   }
  },
  {
   "cell_type": "markdown",
   "source": [
    "## Correct data formats"
   ],
   "metadata": {
    "collapsed": false,
    "pycharm": {
     "name": "#%% md\n"
    }
   }
  },
  {
   "cell_type": "code",
   "execution_count": 75,
   "outputs": [
    {
     "data": {
      "text/plain": "work_year              int64\nexperience_level      object\nemployment_type       object\njob_title             object\nsalary                 int64\nsalary_currency       object\nsalary_in_usd          int64\nemployee_residence    object\nremote_ratio           int64\ncompany_location      object\ncompany_size          object\ndtype: object"
     },
     "execution_count": 75,
     "metadata": {},
     "output_type": "execute_result"
    }
   ],
   "source": [
    "df.dtypes"
   ],
   "metadata": {
    "collapsed": false,
    "pycharm": {
     "name": "#%%\n"
    }
   }
  },
  {
   "cell_type": "code",
   "execution_count": 76,
   "outputs": [],
   "source": [
    "df[['salary', 'salary_in_usd']] = df[['salary', 'salary_in_usd']].astype(\"float\")\n",
    "df[['remote_ratio']] = df[['remote_ratio']].astype('float')"
   ],
   "metadata": {
    "collapsed": false,
    "pycharm": {
     "name": "#%%\n"
    }
   }
  },
  {
   "cell_type": "code",
   "execution_count": 77,
   "outputs": [
    {
     "data": {
      "text/plain": "work_year               int64\nexperience_level       object\nemployment_type        object\njob_title              object\nsalary                float64\nsalary_currency        object\nsalary_in_usd         float64\nemployee_residence     object\nremote_ratio          float64\ncompany_location       object\ncompany_size           object\ndtype: object"
     },
     "execution_count": 77,
     "metadata": {},
     "output_type": "execute_result"
    }
   ],
   "source": [
    "df.dtypes"
   ],
   "metadata": {
    "collapsed": false,
    "pycharm": {
     "name": "#%%\n"
    }
   }
  },
  {
   "cell_type": "markdown",
   "source": [
    "## Data normalization\n",
    "we would liket onormalize those variables so their value ranges from 0 to 1\n",
    "Approach: replace original value by (original value)/(maximum value)"
   ],
   "metadata": {
    "collapsed": false,
    "pycharm": {
     "name": "#%% md\n"
    }
   }
  },
  {
   "cell_type": "code",
   "execution_count": 78,
   "outputs": [
    {
     "data": {
      "text/plain": "   work_year experience_level employment_type                   job_title  \\\n0       2020               MI              FT              Data Scientist   \n1       2020               SE              FT  Machine Learning Scientist   \n2       2020               SE              FT           Big Data Engineer   \n3       2020               MI              FT        Product Data Analyst   \n4       2020               SE              FT   Machine Learning Engineer   \n\n     salary salary_currency  salary_in_usd employee_residence  remote_ratio  \\\n0   70000.0             EUR        79833.0                 DE           0.0   \n1  260000.0             USD       260000.0                 JP           0.0   \n2   85000.0             GBP       109024.0                 GB          50.0   \n3   20000.0             USD        20000.0                 HN           0.0   \n4  150000.0             USD       150000.0                 US          50.0   \n\n  company_location company_size  SFC_Salary  SFC_Remote_Ratio  \n0               DE            L    0.133055               0.0  \n1               JP            S    0.433333               0.0  \n2               GB            M    0.181707               0.5  \n3               HN            S    0.033333               0.0  \n4               US            L    0.250000               0.5  ",
      "text/html": "<div>\n<style scoped>\n    .dataframe tbody tr th:only-of-type {\n        vertical-align: middle;\n    }\n\n    .dataframe tbody tr th {\n        vertical-align: top;\n    }\n\n    .dataframe thead th {\n        text-align: right;\n    }\n</style>\n<table border=\"1\" class=\"dataframe\">\n  <thead>\n    <tr style=\"text-align: right;\">\n      <th></th>\n      <th>work_year</th>\n      <th>experience_level</th>\n      <th>employment_type</th>\n      <th>job_title</th>\n      <th>salary</th>\n      <th>salary_currency</th>\n      <th>salary_in_usd</th>\n      <th>employee_residence</th>\n      <th>remote_ratio</th>\n      <th>company_location</th>\n      <th>company_size</th>\n      <th>SFC_Salary</th>\n      <th>SFC_Remote_Ratio</th>\n    </tr>\n  </thead>\n  <tbody>\n    <tr>\n      <th>0</th>\n      <td>2020</td>\n      <td>MI</td>\n      <td>FT</td>\n      <td>Data Scientist</td>\n      <td>70000.0</td>\n      <td>EUR</td>\n      <td>79833.0</td>\n      <td>DE</td>\n      <td>0.0</td>\n      <td>DE</td>\n      <td>L</td>\n      <td>0.133055</td>\n      <td>0.0</td>\n    </tr>\n    <tr>\n      <th>1</th>\n      <td>2020</td>\n      <td>SE</td>\n      <td>FT</td>\n      <td>Machine Learning Scientist</td>\n      <td>260000.0</td>\n      <td>USD</td>\n      <td>260000.0</td>\n      <td>JP</td>\n      <td>0.0</td>\n      <td>JP</td>\n      <td>S</td>\n      <td>0.433333</td>\n      <td>0.0</td>\n    </tr>\n    <tr>\n      <th>2</th>\n      <td>2020</td>\n      <td>SE</td>\n      <td>FT</td>\n      <td>Big Data Engineer</td>\n      <td>85000.0</td>\n      <td>GBP</td>\n      <td>109024.0</td>\n      <td>GB</td>\n      <td>50.0</td>\n      <td>GB</td>\n      <td>M</td>\n      <td>0.181707</td>\n      <td>0.5</td>\n    </tr>\n    <tr>\n      <th>3</th>\n      <td>2020</td>\n      <td>MI</td>\n      <td>FT</td>\n      <td>Product Data Analyst</td>\n      <td>20000.0</td>\n      <td>USD</td>\n      <td>20000.0</td>\n      <td>HN</td>\n      <td>0.0</td>\n      <td>HN</td>\n      <td>S</td>\n      <td>0.033333</td>\n      <td>0.0</td>\n    </tr>\n    <tr>\n      <th>4</th>\n      <td>2020</td>\n      <td>SE</td>\n      <td>FT</td>\n      <td>Machine Learning Engineer</td>\n      <td>150000.0</td>\n      <td>USD</td>\n      <td>150000.0</td>\n      <td>US</td>\n      <td>50.0</td>\n      <td>US</td>\n      <td>L</td>\n      <td>0.250000</td>\n      <td>0.5</td>\n    </tr>\n  </tbody>\n</table>\n</div>"
     },
     "execution_count": 78,
     "metadata": {},
     "output_type": "execute_result"
    }
   ],
   "source": [
    "df['SFC_Salary'] = df['salary_in_usd']/df['salary_in_usd'].max()\n",
    "df['SFC_Remote_Ratio'] = df['remote_ratio']/df['remote_ratio'].max()\n",
    "df.head()"
   ],
   "metadata": {
    "collapsed": false,
    "pycharm": {
     "name": "#%%\n"
    }
   }
  },
  {
   "cell_type": "markdown",
   "source": [
    "# Binning\n",
    "## Why Binning?\n",
    "#### Binning is a process of tranforming continous numerical variables into discrete categorical \"bins\" for grouped analysis.\n",
    "#### We will use the pandas method 'cut' to segment the salary_in_usd column into 3 bins"
   ],
   "metadata": {
    "collapsed": false,
    "pycharm": {
     "name": "#%% md\n"
    }
   }
  },
  {
   "cell_type": "markdown",
   "source": [
    "##### Let's plot the histogram of salary_in_usd to see what the distribution of salary looks like"
   ],
   "metadata": {
    "collapsed": false,
    "pycharm": {
     "name": "#%% md\n"
    }
   }
  },
  {
   "cell_type": "code",
   "execution_count": 79,
   "outputs": [
    {
     "data": {
      "text/plain": "Text(0.5, 1.0, 'Salary bins')"
     },
     "execution_count": 79,
     "metadata": {},
     "output_type": "execute_result"
    },
    {
     "data": {
      "text/plain": "<Figure size 432x288 with 1 Axes>",
      "image/png": "[encoded data removed]"
     },
     "metadata": {
      "needs_background": "light"
     },
     "output_type": "display_data"
    }
   ],
   "source": [
    "%matplotlib inline\n",
    "import matplotlib as plt\n",
    "from matplotlib import pyplot\n",
    "plt.pyplot.hist(df['salary_in_usd'])\n",
    "\n",
    "# set x/y labels and plot title\n",
    "plt.pyplot.xlabel(\"salary\")\n",
    "plt.pyplot.ylabel(\"count\")\n",
    "plt.pyplot.title(\"Salary bins\")"
   ],
   "metadata": {
    "collapsed": false,
    "pycharm": {
     "name": "#%%\n"
    }
   }
  },
  {
   "cell_type": "markdown",
   "source": [
    "##### We would like 3 bins of equal size bandwidth so we use numpy's linespace(start_value, end_value, number_generated function.\n",
    "##### since we want to include the minimum value of salary, we want to set start_value = min(df['salary_in_usd'])\n",
    "##### since we want to include the maximum value of salary, we want to set end_value = max(df['salary_in_ussd'])\n",
    "##### since we are building 3 binns of equal length, there should be 4 dividers, so numbers_generated = 4"
   ],
   "metadata": {
    "collapsed": false,
    "pycharm": {
     "name": "#%% md\n"
    }
   }
  },
  {
   "cell_type": "code",
   "execution_count": 80,
   "outputs": [
    {
     "data": {
      "text/plain": "array([  2859.  , 152144.25, 301429.5 , 450714.75, 600000.  ])"
     },
     "execution_count": 80,
     "metadata": {},
     "output_type": "execute_result"
    }
   ],
   "source": [
    "bins = np.linspace(min(df['salary_in_usd']), max(df['salary_in_usd']), 5)\n",
    "bins"
   ],
   "metadata": {
    "collapsed": false,
    "pycharm": {
     "name": "#%%\n"
    }
   }
  },
  {
   "cell_type": "markdown",
   "source": [
    "#### We set group names"
   ],
   "metadata": {
    "collapsed": false,
    "pycharm": {
     "name": "#%% md\n"
    }
   }
  },
  {
   "cell_type": "code",
   "execution_count": 81,
   "outputs": [],
   "source": [
    "group_names = ['Low', 'Medium', 'High', 'Really High']"
   ],
   "metadata": {
    "collapsed": false,
    "pycharm": {
     "name": "#%%\n"
    }
   }
  },
  {
   "cell_type": "markdown",
   "source": [
    "#### We apply the function 'cut' to determine what each value of df['salary_in_usd'] belongs to"
   ],
   "metadata": {
    "collapsed": false,
    "pycharm": {
     "name": "#%% md\n"
    }
   }
  },
  {
   "cell_type": "code",
   "execution_count": 82,
   "outputs": [
    {
     "data": {
      "text/plain": "    salary_in_usd salary_bin\n0         79833.0        Low\n1        260000.0     Medium\n2        109024.0        Low\n3         20000.0        Low\n4        150000.0        Low\n5         72000.0        Low\n6        190000.0     Medium\n7         35735.0        Low\n8        135000.0        Low\n9        125000.0        Low\n10        51321.0        Low\n11        40481.0        Low\n12        39916.0        Low\n13        87000.0        Low\n14        85000.0        Low\n15         8000.0        Low\n16        41689.0        Low\n17       114047.0        Low\n18         5707.0        Low\n19        56000.0        Low",
      "text/html": "<div>\n<style scoped>\n    .dataframe tbody tr th:only-of-type {\n        vertical-align: middle;\n    }\n\n    .dataframe tbody tr th {\n        vertical-align: top;\n    }\n\n    .dataframe thead th {\n        text-align: right;\n    }\n</style>\n<table border=\"1\" class=\"dataframe\">\n  <thead>\n    <tr style=\"text-align: right;\">\n      <th></th>\n      <th>salary_in_usd</th>\n      <th>salary_bin</th>\n    </tr>\n  </thead>\n  <tbody>\n    <tr>\n      <th>0</th>\n      <td>79833.0</td>\n      <td>Low</td>\n    </tr>\n    <tr>\n      <th>1</th>\n      <td>260000.0</td>\n      <td>Medium</td>\n    </tr>\n    <tr>\n      <th>2</th>\n      <td>109024.0</td>\n      <td>Low</td>\n    </tr>\n    <tr>\n      <th>3</th>\n      <td>20000.0</td>\n      <td>Low</td>\n    </tr>\n    <tr>\n      <th>4</th>\n      <td>150000.0</td>\n      <td>Low</td>\n    </tr>\n    <tr>\n      <th>5</th>\n      <td>72000.0</td>\n      <td>Low</td>\n    </tr>\n    <tr>\n      <th>6</th>\n      <td>190000.0</td>\n      <td>Medium</td>\n    </tr>\n    <tr>\n      <th>7</th>\n      <td>35735.0</td>\n      <td>Low</td>\n    </tr>\n    <tr>\n      <th>8</th>\n      <td>135000.0</td>\n      <td>Low</td>\n    </tr>\n    <tr>\n      <th>9</th>\n      <td>125000.0</td>\n      <td>Low</td>\n    </tr>\n    <tr>\n      <th>10</th>\n      <td>51321.0</td>\n      <td>Low</td>\n    </tr>\n    <tr>\n      <th>11</th>\n      <td>40481.0</td>\n      <td>Low</td>\n    </tr>\n    <tr>\n      <th>12</th>\n      <td>39916.0</td>\n      <td>Low</td>\n    </tr>\n    <tr>\n      <th>13</th>\n      <td>87000.0</td>\n      <td>Low</td>\n    </tr>\n    <tr>\n      <th>14</th>\n      <td>85000.0</td>\n      <td>Low</td>\n    </tr>\n    <tr>\n      <th>15</th>\n      <td>8000.0</td>\n      <td>Low</td>\n    </tr>\n    <tr>\n      <th>16</th>\n      <td>41689.0</td>\n      <td>Low</td>\n    </tr>\n    <tr>\n      <th>17</th>\n      <td>114047.0</td>\n      <td>Low</td>\n    </tr>\n    <tr>\n      <th>18</th>\n      <td>5707.0</td>\n      <td>Low</td>\n    </tr>\n    <tr>\n      <th>19</th>\n      <td>56000.0</td>\n      <td>Low</td>\n    </tr>\n  </tbody>\n</table>\n</div>"
     },
     "execution_count": 82,
     "metadata": {},
     "output_type": "execute_result"
    }
   ],
   "source": [
    "df['salary_bin'] = pd.cut(df['salary_in_usd'], bins, labels= group_names, include_lowest= True)\n",
    "df[['salary_in_usd', 'salary_bin']].head(20)"
   ],
   "metadata": {
    "collapsed": false,
    "pycharm": {
     "name": "#%%\n"
    }
   }
  },
  {
   "cell_type": "markdown",
   "source": [
    "#### Let's see the number of vehicles in each bin:"
   ],
   "metadata": {
    "collapsed": false,
    "pycharm": {
     "name": "#%% md\n"
    }
   }
  },
  {
   "cell_type": "code",
   "execution_count": 83,
   "outputs": [
    {
     "data": {
      "text/plain": "Low            464\nMedium         133\nHigh             9\nReally High      1\nName: salary_bin, dtype: int64"
     },
     "execution_count": 83,
     "metadata": {},
     "output_type": "execute_result"
    }
   ],
   "source": [
    "df['salary_bin'].value_counts()"
   ],
   "metadata": {
    "collapsed": false,
    "pycharm": {
     "name": "#%%\n"
    }
   }
  },
  {
   "cell_type": "markdown",
   "source": [
    "#### let's plot the distribution of each bin:"
   ],
   "metadata": {
    "collapsed": false,
    "pycharm": {
     "name": "#%% md\n"
    }
   }
  },
  {
   "cell_type": "code",
   "execution_count": 84,
   "outputs": [
    {
     "data": {
      "text/plain": "Text(0.5, 1.0, 'salary bins')"
     },
     "execution_count": 84,
     "metadata": {},
     "output_type": "execute_result"
    },
    {
     "data": {
      "text/plain": "<Figure size 432x288 with 1 Axes>",
      "image/png": "[encoded data removed]"
     },
     "metadata": {
      "needs_background": "light"
     },
     "output_type": "display_data"
    }
   ],
   "source": [
    "%matplotlib inline\n",
    "import matplotlib as plt\n",
    "from matplotlib import pyplot\n",
    "pyplot.bar(group_names, df[\"salary_bin\"].value_counts())\n",
    "\n",
    "# set x/y labels and plot title\n",
    "plt.pyplot.xlabel('salary')\n",
    "plt.pyplot.ylabel('count')\n",
    "plt.pyplot.title('salary bins')"
   ],
   "metadata": {
    "collapsed": false,
    "pycharm": {
     "name": "#%%\n"
    }
   }
  },
  {
   "cell_type": "markdown",
   "source": [
    "### indicator variable (or Dummy variable)\n",
    "#### What is a n indicator variable?\n",
    "##### An ineicator variable (or dummy variable) is a numerical variable used to label categories. They ar called 'dummies' because the numbers themselves don't have inherent meaning.\n",
    "#### Why we use indicator variables\n",
    "##### We use indicator variables so we can use categorical variables for regression analysis in later moduels.\n",
    "\n"
   ],
   "metadata": {
    "collapsed": false,
    "pycharm": {
     "name": "#%% md\n"
    }
   }
  },
  {
   "cell_type": "code",
   "execution_count": 85,
   "outputs": [
    {
     "data": {
      "text/plain": "Index(['work_year', 'experience_level', 'employment_type', 'job_title',\n       'salary', 'salary_currency', 'salary_in_usd', 'employee_residence',\n       'remote_ratio', 'company_location', 'company_size', 'SFC_Salary',\n       'SFC_Remote_Ratio', 'salary_bin'],\n      dtype='object')"
     },
     "execution_count": 85,
     "metadata": {},
     "output_type": "execute_result"
    }
   ],
   "source": [
    "df.columns"
   ],
   "metadata": {
    "collapsed": false,
    "pycharm": {
     "name": "#%%\n"
    }
   }
  },
  {
   "cell_type": "code",
   "execution_count": 86,
   "outputs": [
    {
     "data": {
      "text/plain": "   CT  FL  FT  PT\n0   0   0   1   0\n1   0   0   1   0\n2   0   0   1   0\n3   0   0   1   0\n4   0   0   1   0",
      "text/html": "<div>\n<style scoped>\n    .dataframe tbody tr th:only-of-type {\n        vertical-align: middle;\n    }\n\n    .dataframe tbody tr th {\n        vertical-align: top;\n    }\n\n    .dataframe thead th {\n        text-align: right;\n    }\n</style>\n<table border=\"1\" class=\"dataframe\">\n  <thead>\n    <tr style=\"text-align: right;\">\n      <th></th>\n      <th>CT</th>\n      <th>FL</th>\n      <th>FT</th>\n      <th>PT</th>\n    </tr>\n  </thead>\n  <tbody>\n    <tr>\n      <th>0</th>\n      <td>0</td>\n      <td>0</td>\n      <td>1</td>\n      <td>0</td>\n    </tr>\n    <tr>\n      <th>1</th>\n      <td>0</td>\n      <td>0</td>\n      <td>1</td>\n      <td>0</td>\n    </tr>\n    <tr>\n      <th>2</th>\n      <td>0</td>\n      <td>0</td>\n      <td>1</td>\n      <td>0</td>\n    </tr>\n    <tr>\n      <th>3</th>\n      <td>0</td>\n      <td>0</td>\n      <td>1</td>\n      <td>0</td>\n    </tr>\n    <tr>\n      <th>4</th>\n      <td>0</td>\n      <td>0</td>\n      <td>1</td>\n      <td>0</td>\n    </tr>\n  </tbody>\n</table>\n</div>"
     },
     "execution_count": 86,
     "metadata": {},
     "output_type": "execute_result"
    }
   ],
   "source": [
    "# Get the indicator variable and assign it to data frame \"dummy_variable_1\":\n",
    "dummy_variable_1 = pd.get_dummies(df[\"employment_type\"])\n",
    "dummy_variable_1.head()"
   ],
   "metadata": {
    "collapsed": false,
    "pycharm": {
     "name": "#%%\n"
    }
   }
  },
  {
   "cell_type": "code",
   "execution_count": 87,
   "outputs": [],
   "source": [
    "## Rename columns in dummy variable\n",
    "dummy_variable_1.rename(columns={\"CT\": \"cotract\", \"FL\": \"free_lance\", \"FT\": \"full_time\", \"PT\": \"part_time\"}, inplace= True)"
   ],
   "metadata": {
    "collapsed": false,
    "pycharm": {
     "name": "#%%\n"
    }
   }
  },
  {
   "cell_type": "code",
   "execution_count": 88,
   "outputs": [
    {
     "data": {
      "text/plain": "   cotract  free_lance  full_time  part_time\n0        0           0          1          0\n1        0           0          1          0\n2        0           0          1          0\n3        0           0          1          0\n4        0           0          1          0",
      "text/html": "<div>\n<style scoped>\n    .dataframe tbody tr th:only-of-type {\n        vertical-align: middle;\n    }\n\n    .dataframe tbody tr th {\n        vertical-align: top;\n    }\n\n    .dataframe thead th {\n        text-align: right;\n    }\n</style>\n<table border=\"1\" class=\"dataframe\">\n  <thead>\n    <tr style=\"text-align: right;\">\n      <th></th>\n      <th>cotract</th>\n      <th>free_lance</th>\n      <th>full_time</th>\n      <th>part_time</th>\n    </tr>\n  </thead>\n  <tbody>\n    <tr>\n      <th>0</th>\n      <td>0</td>\n      <td>0</td>\n      <td>1</td>\n      <td>0</td>\n    </tr>\n    <tr>\n      <th>1</th>\n      <td>0</td>\n      <td>0</td>\n      <td>1</td>\n      <td>0</td>\n    </tr>\n    <tr>\n      <th>2</th>\n      <td>0</td>\n      <td>0</td>\n      <td>1</td>\n      <td>0</td>\n    </tr>\n    <tr>\n      <th>3</th>\n      <td>0</td>\n      <td>0</td>\n      <td>1</td>\n      <td>0</td>\n    </tr>\n    <tr>\n      <th>4</th>\n      <td>0</td>\n      <td>0</td>\n      <td>1</td>\n      <td>0</td>\n    </tr>\n  </tbody>\n</table>\n</div>"
     },
     "execution_count": 88,
     "metadata": {},
     "output_type": "execute_result"
    }
   ],
   "source": [
    "dummy_variable_1.head()"
   ],
   "metadata": {
    "collapsed": false,
    "pycharm": {
     "name": "#%%\n"
    }
   }
  },
  {
   "cell_type": "markdown",
   "source": [
    "### Merge the df together"
   ],
   "metadata": {
    "collapsed": false,
    "pycharm": {
     "name": "#%% md\n"
    }
   }
  },
  {
   "cell_type": "code",
   "execution_count": 89,
   "outputs": [],
   "source": [
    "df = pd.concat([df, dummy_variable_1], axis= 1)\n",
    "\n",
    "df.drop(\"employment_type\", axis= 1, inplace= True)"
   ],
   "metadata": {
    "collapsed": false,
    "pycharm": {
     "name": "#%%\n"
    }
   }
  },
  {
   "cell_type": "code",
   "execution_count": 90,
   "outputs": [
    {
     "data": {
      "text/plain": "   work_year experience_level                   job_title    salary  \\\n0       2020               MI              Data Scientist   70000.0   \n1       2020               SE  Machine Learning Scientist  260000.0   \n2       2020               SE           Big Data Engineer   85000.0   \n3       2020               MI        Product Data Analyst   20000.0   \n4       2020               SE   Machine Learning Engineer  150000.0   \n\n  salary_currency  salary_in_usd employee_residence  remote_ratio  \\\n0             EUR        79833.0                 DE           0.0   \n1             USD       260000.0                 JP           0.0   \n2             GBP       109024.0                 GB          50.0   \n3             USD        20000.0                 HN           0.0   \n4             USD       150000.0                 US          50.0   \n\n  company_location company_size  SFC_Salary  SFC_Remote_Ratio salary_bin  \\\n0               DE            L    0.133055               0.0        Low   \n1               JP            S    0.433333               0.0     Medium   \n2               GB            M    0.181707               0.5        Low   \n3               HN            S    0.033333               0.0        Low   \n4               US            L    0.250000               0.5        Low   \n\n   cotract  free_lance  full_time  part_time  \n0        0           0          1          0  \n1        0           0          1          0  \n2        0           0          1          0  \n3        0           0          1          0  \n4        0           0          1          0  ",
      "text/html": "<div>\n<style scoped>\n    .dataframe tbody tr th:only-of-type {\n        vertical-align: middle;\n    }\n\n    .dataframe tbody tr th {\n        vertical-align: top;\n    }\n\n    .dataframe thead th {\n        text-align: right;\n    }\n</style>\n<table border=\"1\" class=\"dataframe\">\n  <thead>\n    <tr style=\"text-align: right;\">\n      <th></th>\n      <th>work_year</th>\n      <th>experience_level</th>\n      <th>job_title</th>\n      <th>salary</th>\n      <th>salary_currency</th>\n      <th>salary_in_usd</th>\n      <th>employee_residence</th>\n      <th>remote_ratio</th>\n      <th>company_location</th>\n      <th>company_size</th>\n      <th>SFC_Salary</th>\n      <th>SFC_Remote_Ratio</th>\n      <th>salary_bin</th>\n      <th>cotract</th>\n      <th>free_lance</th>\n      <th>full_time</th>\n      <th>part_time</th>\n    </tr>\n  </thead>\n  <tbody>\n    <tr>\n      <th>0</th>\n      <td>2020</td>\n      <td>MI</td>\n      <td>Data Scientist</td>\n      <td>70000.0</td>\n      <td>EUR</td>\n      <td>79833.0</td>\n      <td>DE</td>\n      <td>0.0</td>\n      <td>DE</td>\n      <td>L</td>\n      <td>0.133055</td>\n      <td>0.0</td>\n      <td>Low</td>\n      <td>0</td>\n      <td>0</td>\n      <td>1</td>\n      <td>0</td>\n    </tr>\n    <tr>\n      <th>1</th>\n      <td>2020</td>\n      <td>SE</td>\n      <td>Machine Learning Scientist</td>\n      <td>260000.0</td>\n      <td>USD</td>\n      <td>260000.0</td>\n      <td>JP</td>\n      <td>0.0</td>\n      <td>JP</td>\n      <td>S</td>\n      <td>0.433333</td>\n      <td>0.0</td>\n      <td>Medium</td>\n      <td>0</td>\n      <td>0</td>\n      <td>1</td>\n      <td>0</td>\n    </tr>\n    <tr>\n      <th>2</th>\n      <td>2020</td>\n      <td>SE</td>\n      <td>Big Data Engineer</td>\n      <td>85000.0</td>\n      <td>GBP</td>\n      <td>109024.0</td>\n      <td>GB</td>\n      <td>50.0</td>\n      <td>GB</td>\n      <td>M</td>\n      <td>0.181707</td>\n      <td>0.5</td>\n      <td>Low</td>\n      <td>0</td>\n      <td>0</td>\n      <td>1</td>\n      <td>0</td>\n    </tr>\n    <tr>\n      <th>3</th>\n      <td>2020</td>\n      <td>MI</td>\n      <td>Product Data Analyst</td>\n      <td>20000.0</td>\n      <td>USD</td>\n      <td>20000.0</td>\n      <td>HN</td>\n      <td>0.0</td>\n      <td>HN</td>\n      <td>S</td>\n      <td>0.033333</td>\n      <td>0.0</td>\n      <td>Low</td>\n      <td>0</td>\n      <td>0</td>\n      <td>1</td>\n      <td>0</td>\n    </tr>\n    <tr>\n      <th>4</th>\n      <td>2020</td>\n      <td>SE</td>\n      <td>Machine Learning Engineer</td>\n      <td>150000.0</td>\n      <td>USD</td>\n      <td>150000.0</td>\n      <td>US</td>\n      <td>50.0</td>\n      <td>US</td>\n      <td>L</td>\n      <td>0.250000</td>\n      <td>0.5</td>\n      <td>Low</td>\n      <td>0</td>\n      <td>0</td>\n      <td>1</td>\n      <td>0</td>\n    </tr>\n  </tbody>\n</table>\n</div>"
     },
     "execution_count": 90,
     "metadata": {},
     "output_type": "execute_result"
    }
   ],
   "source": [
    "df.head()"
   ],
   "metadata": {
    "collapsed": false,
    "pycharm": {
     "name": "#%%\n"
    }
   }
  },
  {
   "cell_type": "code",
   "execution_count": 91,
   "outputs": [],
   "source": [
    "# Save data frame\n",
    "df.to_csv(\"ds_salaries_week_2.csv\")"
   ],
   "metadata": {
    "collapsed": false,
    "pycharm": {
     "name": "#%%\n"
    }
   }
  },
  {
   "cell_type": "code",
   "execution_count": 65,
   "outputs": [],
   "source": [],
   "metadata": {
    "collapsed": false,
    "pycharm": {
     "name": "#%%\n"
    }
   }
  },
  {
   "cell_type": "code",
   "execution_count": 65,
   "outputs": [],
   "source": [],
   "metadata": {
    "collapsed": false,
    "pycharm": {
     "name": "#%%\n"
    }
   }
  },
  {
   "cell_type": "code",
   "execution_count": null,
   "outputs": [],
   "source": [],
   "metadata": {
    "collapsed": false,
    "pycharm": {
     "name": "#%%\n"
    }
   }
  }
 ],
 "metadata": {
  "kernelspec": {
   "display_name": "Python 3",
   "language": "python",
   "name": "python3"
  },
  "language_info": {
   "codemirror_mode": {
    "name": "ipython",
    "version": 2
   },
   "file_extension": ".py",
   "mimetype": "text/x-python",
   "name": "python",
   "nbconvert_exporter": "python",
   "pygments_lexer": "ipython2",
   "version": "2.7.6"
  }
 },
 "nbformat": 4,
 "nbformat_minor": 0
}