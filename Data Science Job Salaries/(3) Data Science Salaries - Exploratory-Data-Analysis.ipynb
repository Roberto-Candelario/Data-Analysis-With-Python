{
 "cells": [
  {
   "cell_type": "markdown",
   "source": [
    "# Data analysis with python"
   ],
   "metadata": {
    "collapsed": false,
    "pycharm": {
     "name": "#%% md\n"
    }
   }
  },
  {
   "cell_type": "markdown",
   "source": [
    "### Objectives\n",
    "#### Explore features or charecteristics to predict variables"
   ],
   "metadata": {
    "collapsed": false,
    "pycharm": {
     "name": "#%% md\n"
    }
   }
  },
  {
   "cell_type": "markdown",
   "source": [
    "### Set up\n",
    "##### Import data from Module 2"
   ],
   "metadata": {
    "collapsed": false,
    "pycharm": {
     "name": "#%% md\n"
    }
   }
  },
  {
   "cell_type": "code",
   "execution_count": 5,
   "outputs": [],
   "source": [
    "import pandas as pd\n",
    "import numpy as np\n",
    "import matplotlib\n",
    "import scipy\n",
    "import seaborn\n"
   ],
   "metadata": {
    "collapsed": false,
    "pycharm": {
     "name": "#%%\n"
    }
   }
  },
  {
   "cell_type": "code",
   "execution_count": 6,
   "outputs": [],
   "source": [
    "# Select path to the new saved file from previous module\n",
    "path = \"/Users/robertocandelario/DataGripProjects/Data analysis with python/Data Science Job Salaries/ds_salaries_week_2.csv\""
   ],
   "metadata": {
    "collapsed": false,
    "pycharm": {
     "name": "#%%\n"
    }
   }
  },
  {
   "cell_type": "code",
   "execution_count": 7,
   "outputs": [
    {
     "data": {
      "text/plain": "   Unnamed: 0  work_year experience_level                   job_title  \\\n0           0       2020               MI              Data Scientist   \n1           1       2020               SE  Machine Learning Scientist   \n2           2       2020               SE           Big Data Engineer   \n3           3       2020               MI        Product Data Analyst   \n4           4       2020               SE   Machine Learning Engineer   \n\n     salary salary_currency  salary_in_usd employee_residence  remote_ratio  \\\n0   70000.0             EUR        79833.0                 DE           0.0   \n1  260000.0             USD       260000.0                 JP           0.0   \n2   85000.0             GBP       109024.0                 GB          50.0   \n3   20000.0             USD        20000.0                 HN           0.0   \n4  150000.0             USD       150000.0                 US          50.0   \n\n  company_location company_size  SFC_Salary  SFC_Remote_Ratio salary_bin  \\\n0               DE            L    0.133055               0.0        Low   \n1               JP            S    0.433333               0.0     Medium   \n2               GB            M    0.181707               0.5        Low   \n3               HN            S    0.033333               0.0        Low   \n4               US            L    0.250000               0.5        Low   \n\n   cotract  free_lance  full_time  part_time  \n0        0           0          1          0  \n1        0           0          1          0  \n2        0           0          1          0  \n3        0           0          1          0  \n4        0           0          1          0  ",
      "text/html": "<div>\n<style scoped>\n    .dataframe tbody tr th:only-of-type {\n        vertical-align: middle;\n    }\n\n    .dataframe tbody tr th {\n        vertical-align: top;\n    }\n\n    .dataframe thead th {\n        text-align: right;\n    }\n</style>\n<table border=\"1\" class=\"dataframe\">\n  <thead>\n    <tr style=\"text-align: right;\">\n      <th></th>\n      <th>Unnamed: 0</th>\n      <th>work_year</th>\n      <th>experience_level</th>\n      <th>job_title</th>\n      <th>salary</th>\n      <th>salary_currency</th>\n      <th>salary_in_usd</th>\n      <th>employee_residence</th>\n      <th>remote_ratio</th>\n      <th>company_location</th>\n      <th>company_size</th>\n      <th>SFC_Salary</th>\n      <th>SFC_Remote_Ratio</th>\n      <th>salary_bin</th>\n      <th>cotract</th>\n      <th>free_lance</th>\n      <th>full_time</th>\n      <th>part_time</th>\n    </tr>\n  </thead>\n  <tbody>\n    <tr>\n      <th>0</th>\n      <td>0</td>\n      <td>2020</td>\n      <td>MI</td>\n      <td>Data Scientist</td>\n      <td>70000.0</td>\n      <td>EUR</td>\n      <td>79833.0</td>\n      <td>DE</td>\n      <td>0.0</td>\n      <td>DE</td>\n      <td>L</td>\n      <td>0.133055</td>\n      <td>0.0</td>\n      <td>Low</td>\n      <td>0</td>\n      <td>0</td>\n      <td>1</td>\n      <td>0</td>\n    </tr>\n    <tr>\n      <th>1</th>\n      <td>1</td>\n      <td>2020</td>\n      <td>SE</td>\n      <td>Machine Learning Scientist</td>\n      <td>260000.0</td>\n      <td>USD</td>\n      <td>260000.0</td>\n      <td>JP</td>\n      <td>0.0</td>\n      <td>JP</td>\n      <td>S</td>\n      <td>0.433333</td>\n      <td>0.0</td>\n      <td>Medium</td>\n      <td>0</td>\n      <td>0</td>\n      <td>1</td>\n      <td>0</td>\n    </tr>\n    <tr>\n      <th>2</th>\n      <td>2</td>\n      <td>2020</td>\n      <td>SE</td>\n      <td>Big Data Engineer</td>\n      <td>85000.0</td>\n      <td>GBP</td>\n      <td>109024.0</td>\n      <td>GB</td>\n      <td>50.0</td>\n      <td>GB</td>\n      <td>M</td>\n      <td>0.181707</td>\n      <td>0.5</td>\n      <td>Low</td>\n      <td>0</td>\n      <td>0</td>\n      <td>1</td>\n      <td>0</td>\n    </tr>\n    <tr>\n      <th>3</th>\n      <td>3</td>\n      <td>2020</td>\n      <td>MI</td>\n      <td>Product Data Analyst</td>\n      <td>20000.0</td>\n      <td>USD</td>\n      <td>20000.0</td>\n      <td>HN</td>\n      <td>0.0</td>\n      <td>HN</td>\n      <td>S</td>\n      <td>0.033333</td>\n      <td>0.0</td>\n      <td>Low</td>\n      <td>0</td>\n      <td>0</td>\n      <td>1</td>\n      <td>0</td>\n    </tr>\n    <tr>\n      <th>4</th>\n      <td>4</td>\n      <td>2020</td>\n      <td>SE</td>\n      <td>Machine Learning Engineer</td>\n      <td>150000.0</td>\n      <td>USD</td>\n      <td>150000.0</td>\n      <td>US</td>\n      <td>50.0</td>\n      <td>US</td>\n      <td>L</td>\n      <td>0.250000</td>\n      <td>0.5</td>\n      <td>Low</td>\n      <td>0</td>\n      <td>0</td>\n      <td>1</td>\n      <td>0</td>\n    </tr>\n  </tbody>\n</table>\n</div>"
     },
     "execution_count": 7,
     "metadata": {},
     "output_type": "execute_result"
    }
   ],
   "source": [
    "df = pd.read_csv(path)\n",
    "df.head()"
   ],
   "metadata": {
    "collapsed": false,
    "pycharm": {
     "name": "#%%\n"
    }
   }
  },
  {
   "cell_type": "code",
   "execution_count": 8,
   "outputs": [
    {
     "data": {
      "text/plain": "   work_year experience_level                   job_title    salary  \\\n0       2020               MI              Data Scientist   70000.0   \n1       2020               SE  Machine Learning Scientist  260000.0   \n2       2020               SE           Big Data Engineer   85000.0   \n3       2020               MI        Product Data Analyst   20000.0   \n4       2020               SE   Machine Learning Engineer  150000.0   \n\n  salary_currency  salary_in_usd employee_residence  remote_ratio  \\\n0             EUR        79833.0                 DE           0.0   \n1             USD       260000.0                 JP           0.0   \n2             GBP       109024.0                 GB          50.0   \n3             USD        20000.0                 HN           0.0   \n4             USD       150000.0                 US          50.0   \n\n  company_location company_size  SFC_Salary  SFC_Remote_Ratio salary_bin  \\\n0               DE            L    0.133055               0.0        Low   \n1               JP            S    0.433333               0.0     Medium   \n2               GB            M    0.181707               0.5        Low   \n3               HN            S    0.033333               0.0        Low   \n4               US            L    0.250000               0.5        Low   \n\n   cotract  free_lance  full_time  part_time  \n0        0           0          1          0  \n1        0           0          1          0  \n2        0           0          1          0  \n3        0           0          1          0  \n4        0           0          1          0  ",
      "text/html": "<div>\n<style scoped>\n    .dataframe tbody tr th:only-of-type {\n        vertical-align: middle;\n    }\n\n    .dataframe tbody tr th {\n        vertical-align: top;\n    }\n\n    .dataframe thead th {\n        text-align: right;\n    }\n</style>\n<table border=\"1\" class=\"dataframe\">\n  <thead>\n    <tr style=\"text-align: right;\">\n      <th></th>\n      <th>work_year</th>\n      <th>experience_level</th>\n      <th>job_title</th>\n      <th>salary</th>\n      <th>salary_currency</th>\n      <th>salary_in_usd</th>\n      <th>employee_residence</th>\n      <th>remote_ratio</th>\n      <th>company_location</th>\n      <th>company_size</th>\n      <th>SFC_Salary</th>\n      <th>SFC_Remote_Ratio</th>\n      <th>salary_bin</th>\n      <th>cotract</th>\n      <th>free_lance</th>\n      <th>full_time</th>\n      <th>part_time</th>\n    </tr>\n  </thead>\n  <tbody>\n    <tr>\n      <th>0</th>\n      <td>2020</td>\n      <td>MI</td>\n      <td>Data Scientist</td>\n      <td>70000.0</td>\n      <td>EUR</td>\n      <td>79833.0</td>\n      <td>DE</td>\n      <td>0.0</td>\n      <td>DE</td>\n      <td>L</td>\n      <td>0.133055</td>\n      <td>0.0</td>\n      <td>Low</td>\n      <td>0</td>\n      <td>0</td>\n      <td>1</td>\n      <td>0</td>\n    </tr>\n    <tr>\n      <th>1</th>\n      <td>2020</td>\n      <td>SE</td>\n      <td>Machine Learning Scientist</td>\n      <td>260000.0</td>\n      <td>USD</td>\n      <td>260000.0</td>\n      <td>JP</td>\n      <td>0.0</td>\n      <td>JP</td>\n      <td>S</td>\n      <td>0.433333</td>\n      <td>0.0</td>\n      <td>Medium</td>\n      <td>0</td>\n      <td>0</td>\n      <td>1</td>\n      <td>0</td>\n    </tr>\n    <tr>\n      <th>2</th>\n      <td>2020</td>\n      <td>SE</td>\n      <td>Big Data Engineer</td>\n      <td>85000.0</td>\n      <td>GBP</td>\n      <td>109024.0</td>\n      <td>GB</td>\n      <td>50.0</td>\n      <td>GB</td>\n      <td>M</td>\n      <td>0.181707</td>\n      <td>0.5</td>\n      <td>Low</td>\n      <td>0</td>\n      <td>0</td>\n      <td>1</td>\n      <td>0</td>\n    </tr>\n    <tr>\n      <th>3</th>\n      <td>2020</td>\n      <td>MI</td>\n      <td>Product Data Analyst</td>\n      <td>20000.0</td>\n      <td>USD</td>\n      <td>20000.0</td>\n      <td>HN</td>\n      <td>0.0</td>\n      <td>HN</td>\n      <td>S</td>\n      <td>0.033333</td>\n      <td>0.0</td>\n      <td>Low</td>\n      <td>0</td>\n      <td>0</td>\n      <td>1</td>\n      <td>0</td>\n    </tr>\n    <tr>\n      <th>4</th>\n      <td>2020</td>\n      <td>SE</td>\n      <td>Machine Learning Engineer</td>\n      <td>150000.0</td>\n      <td>USD</td>\n      <td>150000.0</td>\n      <td>US</td>\n      <td>50.0</td>\n      <td>US</td>\n      <td>L</td>\n      <td>0.250000</td>\n      <td>0.5</td>\n      <td>Low</td>\n      <td>0</td>\n      <td>0</td>\n      <td>1</td>\n      <td>0</td>\n    </tr>\n  </tbody>\n</table>\n</div>"
     },
     "execution_count": 8,
     "metadata": {},
     "output_type": "execute_result"
    }
   ],
   "source": [
    "df.drop('Unnamed: 0', axis= 1, inplace= True)\n",
    "df.head()"
   ],
   "metadata": {
    "collapsed": false,
    "pycharm": {
     "name": "#%%\n"
    }
   }
  },
  {
   "cell_type": "markdown",
   "source": [
    "## 2. Analyzing Individual Feature patterns using Visualization"
   ],
   "metadata": {
    "collapsed": false,
    "pycharm": {
     "name": "#%% md\n"
    }
   }
  },
  {
   "cell_type": "markdown",
   "source": [
    "##### Import visualization packages \"Matplotliib\" and Seaborn\". Don't forget about %matplotlib inlie\" to plot in a Jupyter notebook."
   ],
   "metadata": {
    "collapsed": false,
    "pycharm": {
     "name": "#%% md\n"
    }
   }
  },
  {
   "cell_type": "code",
   "execution_count": 10,
   "outputs": [],
   "source": [
    "import matplotlib.pyplot as plt"
   ],
   "metadata": {
    "collapsed": false,
    "pycharm": {
     "name": "#%%\n"
    }
   }
  },
  {
   "cell_type": "code",
   "execution_count": 11,
   "outputs": [],
   "source": [
    "import seaborn as sns\n",
    "#matplotlib inline"
   ],
   "metadata": {
    "collapsed": false,
    "pycharm": {
     "name": "#%%\n"
    }
   }
  },
  {
   "cell_type": "markdown",
   "source": [
    "#### How to choosse the right visualization method?\n",
    "##### When visualizing individual variables, it is important to first understand what type of variable you are dealing with. This will help us find the right visualization method for that variable."
   ],
   "metadata": {
    "collapsed": false,
    "pycharm": {
     "name": "#%% md\n"
    }
   }
  },
  {
   "cell_type": "markdown",
   "source": [
    "### We cann calculate the correlation betweenn variables of type int64 and float64 using the method \"corr\""
   ],
   "metadata": {
    "collapsed": false,
    "pycharm": {
     "name": "#%% md\n"
    }
   }
  },
  {
   "cell_type": "code",
   "execution_count": 14,
   "outputs": [
    {
     "name": "stdout",
     "output_type": "stream",
     "text": [
      "work_year               int64\n",
      "experience_level       object\n",
      "job_title              object\n",
      "salary                float64\n",
      "salary_currency        object\n",
      "salary_in_usd         float64\n",
      "employee_residence     object\n",
      "remote_ratio          float64\n",
      "company_location       object\n",
      "company_size           object\n",
      "SFC_Salary            float64\n",
      "SFC_Remote_Ratio      float64\n",
      "salary_bin             object\n",
      "cotract                 int64\n",
      "free_lance              int64\n",
      "full_time               int64\n",
      "part_time               int64\n",
      "dtype: object\n"
     ]
    }
   ],
   "source": [
    "# List the data type for each column\n",
    "print(df.dtypes)"
   ],
   "metadata": {
    "collapsed": false,
    "pycharm": {
     "name": "#%%\n"
    }
   }
  },
  {
   "cell_type": "code",
   "execution_count": 20,
   "outputs": [
    {
     "data": {
      "text/plain": "                  work_year    salary  salary_in_usd  remote_ratio  \\\nwork_year          1.000000 -0.087577       0.170493      0.076314   \nsalary            -0.087577  1.000000      -0.083906     -0.014608   \nsalary_in_usd      0.170493 -0.083906       1.000000      0.132122   \nremote_ratio       0.076314 -0.014608       0.132122      1.000000   \nSFC_Salary         0.170493 -0.083906       1.000000      0.132122   \nSFC_Remote_Ratio   0.076314 -0.014608       0.132122      1.000000   \ncotract           -0.053407 -0.008268       0.092907      0.065149   \nfree_lance        -0.047729 -0.014568      -0.073863     -0.016865   \nfull_time          0.105342  0.025685       0.091819     -0.023834   \npart_time         -0.075845 -0.020006      -0.144627     -0.002935   \n\n                  SFC_Salary  SFC_Remote_Ratio   cotract  free_lance  \\\nwork_year           0.170493          0.076314 -0.053407   -0.047729   \nsalary             -0.083906         -0.014608 -0.008268   -0.014568   \nsalary_in_usd       1.000000          0.132122  0.092907   -0.073863   \nremote_ratio        0.132122          1.000000  0.065149   -0.016865   \nSFC_Salary          1.000000          0.132122  0.092907   -0.073863   \nSFC_Remote_Ratio    0.132122          1.000000  0.065149   -0.016865   \ncotract             0.092907          0.065149  1.000000   -0.007423   \nfree_lance         -0.073863         -0.016865 -0.007423    1.000000   \nfull_time           0.091819         -0.023834 -0.506989   -0.453089   \npart_time          -0.144627         -0.002935 -0.011795   -0.010541   \n\n                  full_time  part_time  \nwork_year          0.105342  -0.075845  \nsalary             0.025685  -0.020006  \nsalary_in_usd      0.091819  -0.144627  \nremote_ratio      -0.023834  -0.002935  \nSFC_Salary         0.091819  -0.144627  \nSFC_Remote_Ratio  -0.023834  -0.002935  \ncotract           -0.506989  -0.011795  \nfree_lance        -0.453089  -0.010541  \nfull_time          1.000000  -0.719987  \npart_time         -0.719987   1.000000  ",
      "text/html": "<div>\n<style scoped>\n    .dataframe tbody tr th:only-of-type {\n        vertical-align: middle;\n    }\n\n    .dataframe tbody tr th {\n        vertical-align: top;\n    }\n\n    .dataframe thead th {\n        text-align: right;\n    }\n</style>\n<table border=\"1\" class=\"dataframe\">\n  <thead>\n    <tr style=\"text-align: right;\">\n      <th></th>\n      <th>work_year</th>\n      <th>salary</th>\n      <th>salary_in_usd</th>\n      <th>remote_ratio</th>\n      <th>SFC_Salary</th>\n      <th>SFC_Remote_Ratio</th>\n      <th>cotract</th>\n      <th>free_lance</th>\n      <th>full_time</th>\n      <th>part_time</th>\n    </tr>\n  </thead>\n  <tbody>\n    <tr>\n      <th>work_year</th>\n      <td>1.000000</td>\n      <td>-0.087577</td>\n      <td>0.170493</td>\n      <td>0.076314</td>\n      <td>0.170493</td>\n      <td>0.076314</td>\n      <td>-0.053407</td>\n      <td>-0.047729</td>\n      <td>0.105342</td>\n      <td>-0.075845</td>\n    </tr>\n    <tr>\n      <th>salary</th>\n      <td>-0.087577</td>\n      <td>1.000000</td>\n      <td>-0.083906</td>\n      <td>-0.014608</td>\n      <td>-0.083906</td>\n      <td>-0.014608</td>\n      <td>-0.008268</td>\n      <td>-0.014568</td>\n      <td>0.025685</td>\n      <td>-0.020006</td>\n    </tr>\n    <tr>\n      <th>salary_in_usd</th>\n      <td>0.170493</td>\n      <td>-0.083906</td>\n      <td>1.000000</td>\n      <td>0.132122</td>\n      <td>1.000000</td>\n      <td>0.132122</td>\n      <td>0.092907</td>\n      <td>-0.073863</td>\n      <td>0.091819</td>\n      <td>-0.144627</td>\n    </tr>\n    <tr>\n      <th>remote_ratio</th>\n      <td>0.076314</td>\n      <td>-0.014608</td>\n      <td>0.132122</td>\n      <td>1.000000</td>\n      <td>0.132122</td>\n      <td>1.000000</td>\n      <td>0.065149</td>\n      <td>-0.016865</td>\n      <td>-0.023834</td>\n      <td>-0.002935</td>\n    </tr>\n    <tr>\n      <th>SFC_Salary</th>\n      <td>0.170493</td>\n      <td>-0.083906</td>\n      <td>1.000000</td>\n      <td>0.132122</td>\n      <td>1.000000</td>\n      <td>0.132122</td>\n      <td>0.092907</td>\n      <td>-0.073863</td>\n      <td>0.091819</td>\n      <td>-0.144627</td>\n    </tr>\n    <tr>\n      <th>SFC_Remote_Ratio</th>\n      <td>0.076314</td>\n      <td>-0.014608</td>\n      <td>0.132122</td>\n      <td>1.000000</td>\n      <td>0.132122</td>\n      <td>1.000000</td>\n      <td>0.065149</td>\n      <td>-0.016865</td>\n      <td>-0.023834</td>\n      <td>-0.002935</td>\n    </tr>\n    <tr>\n      <th>cotract</th>\n      <td>-0.053407</td>\n      <td>-0.008268</td>\n      <td>0.092907</td>\n      <td>0.065149</td>\n      <td>0.092907</td>\n      <td>0.065149</td>\n      <td>1.000000</td>\n      <td>-0.007423</td>\n      <td>-0.506989</td>\n      <td>-0.011795</td>\n    </tr>\n    <tr>\n      <th>free_lance</th>\n      <td>-0.047729</td>\n      <td>-0.014568</td>\n      <td>-0.073863</td>\n      <td>-0.016865</td>\n      <td>-0.073863</td>\n      <td>-0.016865</td>\n      <td>-0.007423</td>\n      <td>1.000000</td>\n      <td>-0.453089</td>\n      <td>-0.010541</td>\n    </tr>\n    <tr>\n      <th>full_time</th>\n      <td>0.105342</td>\n      <td>0.025685</td>\n      <td>0.091819</td>\n      <td>-0.023834</td>\n      <td>0.091819</td>\n      <td>-0.023834</td>\n      <td>-0.506989</td>\n      <td>-0.453089</td>\n      <td>1.000000</td>\n      <td>-0.719987</td>\n    </tr>\n    <tr>\n      <th>part_time</th>\n      <td>-0.075845</td>\n      <td>-0.020006</td>\n      <td>-0.144627</td>\n      <td>-0.002935</td>\n      <td>-0.144627</td>\n      <td>-0.002935</td>\n      <td>-0.011795</td>\n      <td>-0.010541</td>\n      <td>-0.719987</td>\n      <td>1.000000</td>\n    </tr>\n  </tbody>\n</table>\n</div>"
     },
     "execution_count": 20,
     "metadata": {},
     "output_type": "execute_result"
    }
   ],
   "source": [
    "df.corr()"
   ],
   "metadata": {
    "collapsed": false,
    "pycharm": {
     "name": "#%%\n"
    }
   }
  },
  {
   "cell_type": "markdown",
   "source": [
    "## Continuous Numerical Variables:\n",
    "##### Continuous numerical variables aree variables that may contain any value within some range. They can be of type 'int64' or float64'. A great way to visualize these variables is by usign scatterplots with fitted lines.\n",
    "##### In order to start understanding the (linear) relationship between an individual variable and the price, we can use \"regplot\" which plots the scatterplot plus the fitted regression line of the data."
   ],
   "metadata": {
    "collapsed": false,
    "pycharm": {
     "name": "#%% md\n"
    }
   }
  },
  {
   "cell_type": "markdown",
   "source": [
    "### Positive Linear Relationship"
   ],
   "metadata": {
    "collapsed": false,
    "pycharm": {
     "name": "#%% md\n"
    }
   }
  },
  {
   "cell_type": "code",
   "execution_count": 21,
   "outputs": [
    {
     "data": {
      "text/plain": "(0.0, 629857.05)"
     },
     "execution_count": 21,
     "metadata": {},
     "output_type": "execute_result"
    },
    {
     "data": {
      "text/plain": "<Figure size 432x288 with 1 Axes>",
      "image/png": "[encoded data removed]"
     },
     "metadata": {},
     "output_type": "display_data"
    }
   ],
   "source": [
    "sns.regplot(x=\"work_year\", y=\"salary_in_usd\", data=df)\n",
    "plt.ylim(0,)"
   ],
   "metadata": {
    "collapsed": false,
    "pycharm": {
     "name": "#%%\n"
    }
   }
  },
  {
   "cell_type": "code",
   "execution_count": 21,
   "outputs": [],
   "source": [],
   "metadata": {
    "collapsed": false,
    "pycharm": {
     "name": "#%%\n"
    }
   }
  },
  {
   "cell_type": "markdown",
   "source": [
    "### Gategorical Variables"
   ],
   "metadata": {
    "collapsed": false,
    "pycharm": {
     "name": "#%% md\n"
    }
   }
  },
  {
   "cell_type": "markdown",
   "source": [
    "##### These variables that describe a 'characteristic' of a data unit, and are selected from a small group of categories. The categorical variables can have the type \"object\" or \"int64\". A good way to visualize categorical variables is by using boxplots"
   ],
   "metadata": {
    "collapsed": false,
    "pycharm": {
     "name": "#%% md\n"
    }
   }
  },
  {
   "cell_type": "code",
   "execution_count": 23,
   "outputs": [
    {
     "data": {
      "text/plain": "<AxesSubplot:xlabel='company_size', ylabel='salary_in_usd'>"
     },
     "execution_count": 23,
     "metadata": {},
     "output_type": "execute_result"
    },
    {
     "data": {
      "text/plain": "<Figure size 432x288 with 1 Axes>",
      "image/png": "[encoded data removed]"
     },
     "metadata": {},
     "output_type": "display_data"
    }
   ],
   "source": [
    "sns.boxplot(x='company_size', y='salary_in_usd', data=df)"
   ],
   "metadata": {
    "collapsed": false,
    "pycharm": {
     "name": "#%%\n"
    }
   }
  },
  {
   "cell_type": "code",
   "execution_count": 24,
   "outputs": [
    {
     "data": {
      "text/plain": "<AxesSubplot:xlabel='salary_bin', ylabel='salary_in_usd'>"
     },
     "execution_count": 24,
     "metadata": {},
     "output_type": "execute_result"
    },
    {
     "data": {
      "text/plain": "<Figure size 432x288 with 1 Axes>",
      "image/png": "[encoded data removed]"
     },
     "metadata": {},
     "output_type": "display_data"
    }
   ],
   "source": [
    "sns.boxenplot(x='salary_bin', y='salary_in_usd', data=df)"
   ],
   "metadata": {
    "collapsed": false,
    "pycharm": {
     "name": "#%%\n"
    }
   }
  },
  {
   "cell_type": "code",
   "execution_count": 25,
   "outputs": [
    {
     "data": {
      "text/plain": "<AxesSubplot:xlabel='experience_level', ylabel='salary_in_usd'>"
     },
     "execution_count": 25,
     "metadata": {},
     "output_type": "execute_result"
    },
    {
     "data": {
      "text/plain": "<Figure size 432x288 with 1 Axes>",
      "image/png": "[encoded data removed]"
     },
     "metadata": {},
     "output_type": "display_data"
    }
   ],
   "source": [
    "sns.boxplot(x='experience_level', y='salary_in_usd', data=df)"
   ],
   "metadata": {
    "collapsed": false,
    "pycharm": {
     "name": "#%%\n"
    }
   }
  },
  {
   "cell_type": "code",
   "execution_count": 26,
   "outputs": [
    {
     "data": {
      "text/plain": "   work_year experience_level                   job_title    salary  \\\n0       2020               MI              Data Scientist   70000.0   \n1       2020               SE  Machine Learning Scientist  260000.0   \n2       2020               SE           Big Data Engineer   85000.0   \n3       2020               MI        Product Data Analyst   20000.0   \n4       2020               SE   Machine Learning Engineer  150000.0   \n\n  salary_currency  salary_in_usd employee_residence  remote_ratio  \\\n0             EUR        79833.0                 DE           0.0   \n1             USD       260000.0                 JP           0.0   \n2             GBP       109024.0                 GB          50.0   \n3             USD        20000.0                 HN           0.0   \n4             USD       150000.0                 US          50.0   \n\n  company_location company_size  SFC_Salary  SFC_Remote_Ratio salary_bin  \\\n0               DE            L    0.133055               0.0        Low   \n1               JP            S    0.433333               0.0     Medium   \n2               GB            M    0.181707               0.5        Low   \n3               HN            S    0.033333               0.0        Low   \n4               US            L    0.250000               0.5        Low   \n\n   cotract  free_lance  full_time  part_time  years_worked  \n0        0           0          1          0             2  \n1        0           0          1          0             2  \n2        0           0          1          0             2  \n3        0           0          1          0             2  \n4        0           0          1          0             2  ",
      "text/html": "<div>\n<style scoped>\n    .dataframe tbody tr th:only-of-type {\n        vertical-align: middle;\n    }\n\n    .dataframe tbody tr th {\n        vertical-align: top;\n    }\n\n    .dataframe thead th {\n        text-align: right;\n    }\n</style>\n<table border=\"1\" class=\"dataframe\">\n  <thead>\n    <tr style=\"text-align: right;\">\n      <th></th>\n      <th>work_year</th>\n      <th>experience_level</th>\n      <th>job_title</th>\n      <th>salary</th>\n      <th>salary_currency</th>\n      <th>salary_in_usd</th>\n      <th>employee_residence</th>\n      <th>remote_ratio</th>\n      <th>company_location</th>\n      <th>company_size</th>\n      <th>SFC_Salary</th>\n      <th>SFC_Remote_Ratio</th>\n      <th>salary_bin</th>\n      <th>cotract</th>\n      <th>free_lance</th>\n      <th>full_time</th>\n      <th>part_time</th>\n      <th>years_worked</th>\n    </tr>\n  </thead>\n  <tbody>\n    <tr>\n      <th>0</th>\n      <td>2020</td>\n      <td>MI</td>\n      <td>Data Scientist</td>\n      <td>70000.0</td>\n      <td>EUR</td>\n      <td>79833.0</td>\n      <td>DE</td>\n      <td>0.0</td>\n      <td>DE</td>\n      <td>L</td>\n      <td>0.133055</td>\n      <td>0.0</td>\n      <td>Low</td>\n      <td>0</td>\n      <td>0</td>\n      <td>1</td>\n      <td>0</td>\n      <td>2</td>\n    </tr>\n    <tr>\n      <th>1</th>\n      <td>2020</td>\n      <td>SE</td>\n      <td>Machine Learning Scientist</td>\n      <td>260000.0</td>\n      <td>USD</td>\n      <td>260000.0</td>\n      <td>JP</td>\n      <td>0.0</td>\n      <td>JP</td>\n      <td>S</td>\n      <td>0.433333</td>\n      <td>0.0</td>\n      <td>Medium</td>\n      <td>0</td>\n      <td>0</td>\n      <td>1</td>\n      <td>0</td>\n      <td>2</td>\n    </tr>\n    <tr>\n      <th>2</th>\n      <td>2020</td>\n      <td>SE</td>\n      <td>Big Data Engineer</td>\n      <td>85000.0</td>\n      <td>GBP</td>\n      <td>109024.0</td>\n      <td>GB</td>\n      <td>50.0</td>\n      <td>GB</td>\n      <td>M</td>\n      <td>0.181707</td>\n      <td>0.5</td>\n      <td>Low</td>\n      <td>0</td>\n      <td>0</td>\n      <td>1</td>\n      <td>0</td>\n      <td>2</td>\n    </tr>\n    <tr>\n      <th>3</th>\n      <td>2020</td>\n      <td>MI</td>\n      <td>Product Data Analyst</td>\n      <td>20000.0</td>\n      <td>USD</td>\n      <td>20000.0</td>\n      <td>HN</td>\n      <td>0.0</td>\n      <td>HN</td>\n      <td>S</td>\n      <td>0.033333</td>\n      <td>0.0</td>\n      <td>Low</td>\n      <td>0</td>\n      <td>0</td>\n      <td>1</td>\n      <td>0</td>\n      <td>2</td>\n    </tr>\n    <tr>\n      <th>4</th>\n      <td>2020</td>\n      <td>SE</td>\n      <td>Machine Learning Engineer</td>\n      <td>150000.0</td>\n      <td>USD</td>\n      <td>150000.0</td>\n      <td>US</td>\n      <td>50.0</td>\n      <td>US</td>\n      <td>L</td>\n      <td>0.250000</td>\n      <td>0.5</td>\n      <td>Low</td>\n      <td>0</td>\n      <td>0</td>\n      <td>1</td>\n      <td>0</td>\n      <td>2</td>\n    </tr>\n  </tbody>\n</table>\n</div>"
     },
     "execution_count": 26,
     "metadata": {},
     "output_type": "execute_result"
    }
   ],
   "source": [
    "df['years_worked'] = 2022 - df['work_year']\n",
    "df.head()"
   ],
   "metadata": {
    "collapsed": false,
    "pycharm": {
     "name": "#%%\n"
    }
   }
  },
  {
   "cell_type": "code",
   "execution_count": 29,
   "outputs": [
    {
     "data": {
      "text/plain": "               years_worked  salary_in_usd\nyears_worked       1.000000      -0.170493\nsalary_in_usd     -0.170493       1.000000",
      "text/html": "<div>\n<style scoped>\n    .dataframe tbody tr th:only-of-type {\n        vertical-align: middle;\n    }\n\n    .dataframe tbody tr th {\n        vertical-align: top;\n    }\n\n    .dataframe thead th {\n        text-align: right;\n    }\n</style>\n<table border=\"1\" class=\"dataframe\">\n  <thead>\n    <tr style=\"text-align: right;\">\n      <th></th>\n      <th>years_worked</th>\n      <th>salary_in_usd</th>\n    </tr>\n  </thead>\n  <tbody>\n    <tr>\n      <th>years_worked</th>\n      <td>1.000000</td>\n      <td>-0.170493</td>\n    </tr>\n    <tr>\n      <th>salary_in_usd</th>\n      <td>-0.170493</td>\n      <td>1.000000</td>\n    </tr>\n  </tbody>\n</table>\n</div>"
     },
     "execution_count": 29,
     "metadata": {},
     "output_type": "execute_result"
    }
   ],
   "source": [
    "df[['years_worked', 'salary_in_usd']].corr()"
   ],
   "metadata": {
    "collapsed": false,
    "pycharm": {
     "name": "#%%\n"
    }
   }
  },
  {
   "cell_type": "markdown",
   "source": [
    "# 3. Descriptive statistical analysis"
   ],
   "metadata": {
    "collapsed": false,
    "pycharm": {
     "name": "#%% md\n"
    }
   }
  },
  {
   "cell_type": "markdown",
   "source": [
    "### This will show\n",
    "** the count of the variable\n",
    "** the mean\n",
    "** the standard deviation(std)\n",
    "** the minnimum value\n",
    "** the IQR (interquartile Range: 25%, 50% and 75%)\n",
    "** the maximum value"
   ],
   "metadata": {
    "collapsed": false,
    "pycharm": {
     "name": "#%% md\n"
    }
   }
  },
  {
   "cell_type": "code",
   "execution_count": 32,
   "outputs": [
    {
     "data": {
      "text/plain": "         work_year        salary  salary_in_usd  remote_ratio  SFC_Salary  \\\ncount   607.000000  6.070000e+02     607.000000     607.00000  607.000000   \nmean   2021.405272  3.240001e+05  112297.869852      70.92257    0.187163   \nstd       0.692133  1.544357e+06   70957.259411      40.70913    0.118262   \nmin    2020.000000  4.000000e+03    2859.000000       0.00000    0.004765   \n25%    2021.000000  7.000000e+04   62726.000000      50.00000    0.104543   \n50%    2022.000000  1.150000e+05  101570.000000     100.00000    0.169283   \n75%    2022.000000  1.650000e+05  150000.000000     100.00000    0.250000   \nmax    2022.000000  3.040000e+07  600000.000000     100.00000    1.000000   \n\n       SFC_Remote_Ratio     cotract  free_lance   full_time   part_time  \\\ncount        607.000000  607.000000  607.000000  607.000000  607.000000   \nmean           0.709226    0.008237    0.006590    0.968699    0.016474   \nstd            0.407091    0.090459    0.080976    0.174275    0.127396   \nmin            0.000000    0.000000    0.000000    0.000000    0.000000   \n25%            0.500000    0.000000    0.000000    1.000000    0.000000   \n50%            1.000000    0.000000    0.000000    1.000000    0.000000   \n75%            1.000000    0.000000    0.000000    1.000000    0.000000   \nmax            1.000000    1.000000    1.000000    1.000000    1.000000   \n\n       years_worked  \ncount    607.000000  \nmean       0.594728  \nstd        0.692133  \nmin        0.000000  \n25%        0.000000  \n50%        0.000000  \n75%        1.000000  \nmax        2.000000  ",
      "text/html": "<div>\n<style scoped>\n    .dataframe tbody tr th:only-of-type {\n        vertical-align: middle;\n    }\n\n    .dataframe tbody tr th {\n        vertical-align: top;\n    }\n\n    .dataframe thead th {\n        text-align: right;\n    }\n</style>\n<table border=\"1\" class=\"dataframe\">\n  <thead>\n    <tr style=\"text-align: right;\">\n      <th></th>\n      <th>work_year</th>\n      <th>salary</th>\n      <th>salary_in_usd</th>\n      <th>remote_ratio</th>\n      <th>SFC_Salary</th>\n      <th>SFC_Remote_Ratio</th>\n      <th>cotract</th>\n      <th>free_lance</th>\n      <th>full_time</th>\n      <th>part_time</th>\n      <th>years_worked</th>\n    </tr>\n  </thead>\n  <tbody>\n    <tr>\n      <th>count</th>\n      <td>607.000000</td>\n      <td>6.070000e+02</td>\n      <td>607.000000</td>\n      <td>607.00000</td>\n      <td>607.000000</td>\n      <td>607.000000</td>\n      <td>607.000000</td>\n      <td>607.000000</td>\n      <td>607.000000</td>\n      <td>607.000000</td>\n      <td>607.000000</td>\n    </tr>\n    <tr>\n      <th>mean</th>\n      <td>2021.405272</td>\n      <td>3.240001e+05</td>\n      <td>112297.869852</td>\n      <td>70.92257</td>\n      <td>0.187163</td>\n      <td>0.709226</td>\n      <td>0.008237</td>\n      <td>0.006590</td>\n      <td>0.968699</td>\n      <td>0.016474</td>\n      <td>0.594728</td>\n    </tr>\n    <tr>\n      <th>std</th>\n      <td>0.692133</td>\n      <td>1.544357e+06</td>\n      <td>70957.259411</td>\n      <td>40.70913</td>\n      <td>0.118262</td>\n      <td>0.407091</td>\n      <td>0.090459</td>\n      <td>0.080976</td>\n      <td>0.174275</td>\n      <td>0.127396</td>\n      <td>0.692133</td>\n    </tr>\n    <tr>\n      <th>min</th>\n      <td>2020.000000</td>\n      <td>4.000000e+03</td>\n      <td>2859.000000</td>\n      <td>0.00000</td>\n      <td>0.004765</td>\n      <td>0.000000</td>\n      <td>0.000000</td>\n      <td>0.000000</td>\n      <td>0.000000</td>\n      <td>0.000000</td>\n      <td>0.000000</td>\n    </tr>\n    <tr>\n      <th>25%</th>\n      <td>2021.000000</td>\n      <td>7.000000e+04</td>\n      <td>62726.000000</td>\n      <td>50.00000</td>\n      <td>0.104543</td>\n      <td>0.500000</td>\n      <td>0.000000</td>\n      <td>0.000000</td>\n      <td>1.000000</td>\n      <td>0.000000</td>\n      <td>0.000000</td>\n    </tr>\n    <tr>\n      <th>50%</th>\n      <td>2022.000000</td>\n      <td>1.150000e+05</td>\n      <td>101570.000000</td>\n      <td>100.00000</td>\n      <td>0.169283</td>\n      <td>1.000000</td>\n      <td>0.000000</td>\n      <td>0.000000</td>\n      <td>1.000000</td>\n      <td>0.000000</td>\n      <td>0.000000</td>\n    </tr>\n    <tr>\n      <th>75%</th>\n      <td>2022.000000</td>\n      <td>1.650000e+05</td>\n      <td>150000.000000</td>\n      <td>100.00000</td>\n      <td>0.250000</td>\n      <td>1.000000</td>\n      <td>0.000000</td>\n      <td>0.000000</td>\n      <td>1.000000</td>\n      <td>0.000000</td>\n      <td>1.000000</td>\n    </tr>\n    <tr>\n      <th>max</th>\n      <td>2022.000000</td>\n      <td>3.040000e+07</td>\n      <td>600000.000000</td>\n      <td>100.00000</td>\n      <td>1.000000</td>\n      <td>1.000000</td>\n      <td>1.000000</td>\n      <td>1.000000</td>\n      <td>1.000000</td>\n      <td>1.000000</td>\n      <td>2.000000</td>\n    </tr>\n  </tbody>\n</table>\n</div>"
     },
     "execution_count": 32,
     "metadata": {},
     "output_type": "execute_result"
    }
   ],
   "source": [
    "df.describe()"
   ],
   "metadata": {
    "collapsed": false,
    "pycharm": {
     "name": "#%%\n"
    }
   }
  },
  {
   "cell_type": "code",
   "execution_count": 34,
   "outputs": [
    {
     "data": {
      "text/plain": "       experience_level       job_title salary_currency employee_residence  \\\ncount               607             607             607                607   \nunique                4              50              17                 57   \ntop                  SE  Data Scientist             USD                 US   \nfreq                280             143             398                332   \n\n       company_location company_size salary_bin  \ncount               607          607        607  \nunique               50            3          4  \ntop                  US            M        Low  \nfreq                355          326        464  ",
      "text/html": "<div>\n<style scoped>\n    .dataframe tbody tr th:only-of-type {\n        vertical-align: middle;\n    }\n\n    .dataframe tbody tr th {\n        vertical-align: top;\n    }\n\n    .dataframe thead th {\n        text-align: right;\n    }\n</style>\n<table border=\"1\" class=\"dataframe\">\n  <thead>\n    <tr style=\"text-align: right;\">\n      <th></th>\n      <th>experience_level</th>\n      <th>job_title</th>\n      <th>salary_currency</th>\n      <th>employee_residence</th>\n      <th>company_location</th>\n      <th>company_size</th>\n      <th>salary_bin</th>\n    </tr>\n  </thead>\n  <tbody>\n    <tr>\n      <th>count</th>\n      <td>607</td>\n      <td>607</td>\n      <td>607</td>\n      <td>607</td>\n      <td>607</td>\n      <td>607</td>\n      <td>607</td>\n    </tr>\n    <tr>\n      <th>unique</th>\n      <td>4</td>\n      <td>50</td>\n      <td>17</td>\n      <td>57</td>\n      <td>50</td>\n      <td>3</td>\n      <td>4</td>\n    </tr>\n    <tr>\n      <th>top</th>\n      <td>SE</td>\n      <td>Data Scientist</td>\n      <td>USD</td>\n      <td>US</td>\n      <td>US</td>\n      <td>M</td>\n      <td>Low</td>\n    </tr>\n    <tr>\n      <th>freq</th>\n      <td>280</td>\n      <td>143</td>\n      <td>398</td>\n      <td>332</td>\n      <td>355</td>\n      <td>326</td>\n      <td>464</td>\n    </tr>\n  </tbody>\n</table>\n</div>"
     },
     "execution_count": 34,
     "metadata": {},
     "output_type": "execute_result"
    }
   ],
   "source": [
    "# include all objects\n",
    "df.describe(include=['object'])"
   ],
   "metadata": {
    "collapsed": false,
    "pycharm": {
     "name": "#%%\n"
    }
   }
  },
  {
   "cell_type": "code",
   "execution_count": 35,
   "outputs": [
    {
     "data": {
      "text/plain": "SE    280\nMI    213\nEN     88\nEX     26\nName: experience_level, dtype: int64"
     },
     "execution_count": 35,
     "metadata": {},
     "output_type": "execute_result"
    }
   ],
   "source": [
    "## Value Counts\n",
    "df['experience_level'].value_counts()"
   ],
   "metadata": {
    "collapsed": false,
    "pycharm": {
     "name": "#%%\n"
    }
   }
  },
  {
   "cell_type": "code",
   "execution_count": 36,
   "outputs": [
    {
     "data": {
      "text/plain": "Data Scientist                              143\nData Engineer                               132\nData Analyst                                 97\nMachine Learning Engineer                    41\nResearch Scientist                           16\nData Science Manager                         12\nData Architect                               11\nBig Data Engineer                             8\nMachine Learning Scientist                    8\nPrincipal Data Scientist                      7\nAI Scientist                                  7\nData Science Consultant                       7\nDirector of Data Science                      7\nData Analytics Manager                        7\nML Engineer                                   6\nComputer Vision Engineer                      6\nBI Data Analyst                               6\nLead Data Engineer                            6\nData Engineering Manager                      5\nBusiness Data Analyst                         5\nHead of Data                                  5\nApplied Data Scientist                        5\nApplied Machine Learning Scientist            4\nHead of Data Science                          4\nAnalytics Engineer                            4\nData Analytics Engineer                       4\nMachine Learning Developer                    3\nMachine Learning Infrastructure Engineer      3\nLead Data Scientist                           3\nComputer Vision Software Engineer             3\nLead Data Analyst                             3\nData Science Engineer                         3\nPrincipal Data Engineer                       3\nPrincipal Data Analyst                        2\nETL Developer                                 2\nProduct Data Analyst                          2\nDirector of Data Engineering                  2\nFinancial Data Analyst                        2\nCloud Data Engineer                           2\nLead Machine Learning Engineer                1\nNLP Engineer                                  1\nHead of Machine Learning                      1\n3D Computer Vision Researcher                 1\nData Specialist                               1\nStaff Data Scientist                          1\nBig Data Architect                            1\nFinance Data Analyst                          1\nMarketing Data Analyst                        1\nMachine Learning Manager                      1\nData Analytics Lead                           1\nName: job_title, dtype: int64"
     },
     "execution_count": 36,
     "metadata": {},
     "output_type": "execute_result"
    }
   ],
   "source": [
    "df['job_title'].value_counts()"
   ],
   "metadata": {
    "collapsed": false,
    "pycharm": {
     "name": "#%%\n"
    }
   }
  },
  {
   "cell_type": "markdown",
   "source": [
    "# 4. basics of grouping"
   ],
   "metadata": {
    "collapsed": false,
    "pycharm": {
     "name": "#%% md\n"
    }
   }
  },
  {
   "cell_type": "markdown",
   "source": [
    "### The 'groupby' method groups data by different categories. The data is grouped based on one or several variables, and analysis is performed on the individual groups."
   ],
   "metadata": {
    "collapsed": false,
    "pycharm": {
     "name": "#%% md\n"
    }
   }
  },
  {
   "cell_type": "code",
   "execution_count": 37,
   "outputs": [
    {
     "data": {
      "text/plain": "array(['MI', 'SE', 'EN', 'EX'], dtype=object)"
     },
     "execution_count": 37,
     "metadata": {},
     "output_type": "execute_result"
    }
   ],
   "source": [
    "df['experience_level'].unique()"
   ],
   "metadata": {
    "collapsed": false,
    "pycharm": {
     "name": "#%%\n"
    }
   }
  },
  {
   "cell_type": "code",
   "execution_count": 40,
   "outputs": [],
   "source": [
    "df_group_one = df.groupby(['experience_level'], as_index=False).mean()"
   ],
   "metadata": {
    "collapsed": false,
    "pycharm": {
     "name": "#%%\n"
    }
   }
  },
  {
   "cell_type": "code",
   "execution_count": 41,
   "outputs": [
    {
     "data": {
      "text/plain": "  experience_level    work_year         salary  salary_in_usd  remote_ratio  \\\n0               EN  2021.011364  264622.454545   61643.318182     69.886364   \n1               EX  2021.423077  427072.115385  199392.038462     78.846154   \n2               MI  2021.276995  480617.690141   87996.056338     63.849765   \n3               SE  2021.625000  213949.353571  138617.292857     75.892857   \n\n   SFC_Salary  SFC_Remote_Ratio   cotract  free_lance  full_time  part_time  \\\n0    0.102739          0.698864  0.022727    0.000000   0.897727   0.079545   \n1    0.332320          0.788462  0.038462    0.000000   0.961538   0.000000   \n2    0.146660          0.638498  0.004695    0.014085   0.967136   0.014085   \n3    0.231029          0.758929  0.003571    0.003571   0.992857   0.000000   \n\n   years_worked  \n0      0.988636  \n1      0.576923  \n2      0.723005  \n3      0.375000  ",
      "text/html": "<div>\n<style scoped>\n    .dataframe tbody tr th:only-of-type {\n        vertical-align: middle;\n    }\n\n    .dataframe tbody tr th {\n        vertical-align: top;\n    }\n\n    .dataframe thead th {\n        text-align: right;\n    }\n</style>\n<table border=\"1\" class=\"dataframe\">\n  <thead>\n    <tr style=\"text-align: right;\">\n      <th></th>\n      <th>experience_level</th>\n      <th>work_year</th>\n      <th>salary</th>\n      <th>salary_in_usd</th>\n      <th>remote_ratio</th>\n      <th>SFC_Salary</th>\n      <th>SFC_Remote_Ratio</th>\n      <th>cotract</th>\n      <th>free_lance</th>\n      <th>full_time</th>\n      <th>part_time</th>\n      <th>years_worked</th>\n    </tr>\n  </thead>\n  <tbody>\n    <tr>\n      <th>0</th>\n      <td>EN</td>\n      <td>2021.011364</td>\n      <td>264622.454545</td>\n      <td>61643.318182</td>\n      <td>69.886364</td>\n      <td>0.102739</td>\n      <td>0.698864</td>\n      <td>0.022727</td>\n      <td>0.000000</td>\n      <td>0.897727</td>\n      <td>0.079545</td>\n      <td>0.988636</td>\n    </tr>\n    <tr>\n      <th>1</th>\n      <td>EX</td>\n      <td>2021.423077</td>\n      <td>427072.115385</td>\n      <td>199392.038462</td>\n      <td>78.846154</td>\n      <td>0.332320</td>\n      <td>0.788462</td>\n      <td>0.038462</td>\n      <td>0.000000</td>\n      <td>0.961538</td>\n      <td>0.000000</td>\n      <td>0.576923</td>\n    </tr>\n    <tr>\n      <th>2</th>\n      <td>MI</td>\n      <td>2021.276995</td>\n      <td>480617.690141</td>\n      <td>87996.056338</td>\n      <td>63.849765</td>\n      <td>0.146660</td>\n      <td>0.638498</td>\n      <td>0.004695</td>\n      <td>0.014085</td>\n      <td>0.967136</td>\n      <td>0.014085</td>\n      <td>0.723005</td>\n    </tr>\n    <tr>\n      <th>3</th>\n      <td>SE</td>\n      <td>2021.625000</td>\n      <td>213949.353571</td>\n      <td>138617.292857</td>\n      <td>75.892857</td>\n      <td>0.231029</td>\n      <td>0.758929</td>\n      <td>0.003571</td>\n      <td>0.003571</td>\n      <td>0.992857</td>\n      <td>0.000000</td>\n      <td>0.375000</td>\n    </tr>\n  </tbody>\n</table>\n</div>"
     },
     "execution_count": 41,
     "metadata": {},
     "output_type": "execute_result"
    }
   ],
   "source": [
    "df_group_one"
   ],
   "metadata": {
    "collapsed": false,
    "pycharm": {
     "name": "#%%\n"
    }
   }
  },
  {
   "cell_type": "markdown",
   "source": [
    "##### from the data, it seems Experienced(EX) People make the most and Senior make the next highest amount.\n",
    "\n",
    "##### Let's try grouping with multiple variables"
   ],
   "metadata": {
    "collapsed": false,
    "pycharm": {
     "name": "#%% md\n"
    }
   }
  },
  {
   "cell_type": "code",
   "execution_count": 44,
   "outputs": [
    {
     "data": {
      "text/plain": "    experience_level                           job_title    work_year  \\\n0                 EN                        AI Scientist  2020.750000   \n1                 EN              Applied Data Scientist  2021.000000   \n2                 EN  Applied Machine Learning Scientist  2022.000000   \n3                 EN                     BI Data Analyst  2021.000000   \n4                 EN                   Big Data Engineer  2020.666667   \n..               ...                                 ...          ...   \n100               SE              Principal Data Analyst  2021.000000   \n101               SE             Principal Data Engineer  2021.000000   \n102               SE            Principal Data Scientist  2021.000000   \n103               SE                  Research Scientist  2021.400000   \n104               SE                Staff Data Scientist  2021.000000   \n\n            salary  salary_in_usd  remote_ratio  SFC_Salary  SFC_Remote_Ratio  \\\n0    414750.000000   21987.250000     87.500000    0.036645          0.875000   \n1     80000.000000  110037.000000      0.000000    0.183395          0.000000   \n2     29000.000000   31875.000000    100.000000    0.053125          1.000000   \n3     32136.000000   32136.000000     75.000000    0.053560          0.750000   \n4    568333.333333   30703.333333     66.666667    0.051172          0.666667   \n..             ...            ...           ...         ...               ...   \n100  170000.000000  170000.000000    100.000000    0.283333          1.000000   \n101  192500.000000  192500.000000    100.000000    0.320833          1.000000   \n102  176000.000000  187939.400000     80.000000    0.313232          0.800000   \n103   90180.000000   88859.400000     60.000000    0.148099          0.600000   \n104  105000.000000  105000.000000    100.000000    0.175000          1.000000   \n\n     cotract  free_lance  full_time  part_time  years_worked  \n0        0.0         0.0        0.5        0.5      1.250000  \n1        0.0         0.0        1.0        0.0      1.000000  \n2        1.0         0.0        0.0        0.0      0.000000  \n3        0.0         0.0        1.0        0.0      1.000000  \n4        0.0         0.0        1.0        0.0      1.333333  \n..       ...         ...        ...        ...           ...  \n100      0.0         0.0        1.0        0.0      1.000000  \n101      0.0         0.0        1.0        0.0      1.000000  \n102      0.0         0.0        1.0        0.0      1.000000  \n103      0.0         0.0        1.0        0.0      0.600000  \n104      1.0         0.0        0.0        0.0      1.000000  \n\n[105 rows x 13 columns]",
      "text/html": "<div>\n<style scoped>\n    .dataframe tbody tr th:only-of-type {\n        vertical-align: middle;\n    }\n\n    .dataframe tbody tr th {\n        vertical-align: top;\n    }\n\n    .dataframe thead th {\n        text-align: right;\n    }\n</style>\n<table border=\"1\" class=\"dataframe\">\n  <thead>\n    <tr style=\"text-align: right;\">\n      <th></th>\n      <th>experience_level</th>\n      <th>job_title</th>\n      <th>work_year</th>\n      <th>salary</th>\n      <th>salary_in_usd</th>\n      <th>remote_ratio</th>\n      <th>SFC_Salary</th>\n      <th>SFC_Remote_Ratio</th>\n      <th>cotract</th>\n      <th>free_lance</th>\n      <th>full_time</th>\n      <th>part_time</th>\n      <th>years_worked</th>\n    </tr>\n  </thead>\n  <tbody>\n    <tr>\n      <th>0</th>\n      <td>EN</td>\n      <td>AI Scientist</td>\n      <td>2020.750000</td>\n      <td>414750.000000</td>\n      <td>21987.250000</td>\n      <td>87.500000</td>\n      <td>0.036645</td>\n      <td>0.875000</td>\n      <td>0.0</td>\n      <td>0.0</td>\n      <td>0.5</td>\n      <td>0.5</td>\n      <td>1.250000</td>\n    </tr>\n    <tr>\n      <th>1</th>\n      <td>EN</td>\n      <td>Applied Data Scientist</td>\n      <td>2021.000000</td>\n      <td>80000.000000</td>\n      <td>110037.000000</td>\n      <td>0.000000</td>\n      <td>0.183395</td>\n      <td>0.000000</td>\n      <td>0.0</td>\n      <td>0.0</td>\n      <td>1.0</td>\n      <td>0.0</td>\n      <td>1.000000</td>\n    </tr>\n    <tr>\n      <th>2</th>\n      <td>EN</td>\n      <td>Applied Machine Learning Scientist</td>\n      <td>2022.000000</td>\n      <td>29000.000000</td>\n      <td>31875.000000</td>\n      <td>100.000000</td>\n      <td>0.053125</td>\n      <td>1.000000</td>\n      <td>1.0</td>\n      <td>0.0</td>\n      <td>0.0</td>\n      <td>0.0</td>\n      <td>0.000000</td>\n    </tr>\n    <tr>\n      <th>3</th>\n      <td>EN</td>\n      <td>BI Data Analyst</td>\n      <td>2021.000000</td>\n      <td>32136.000000</td>\n      <td>32136.000000</td>\n      <td>75.000000</td>\n      <td>0.053560</td>\n      <td>0.750000</td>\n      <td>0.0</td>\n      <td>0.0</td>\n      <td>1.0</td>\n      <td>0.0</td>\n      <td>1.000000</td>\n    </tr>\n    <tr>\n      <th>4</th>\n      <td>EN</td>\n      <td>Big Data Engineer</td>\n      <td>2020.666667</td>\n      <td>568333.333333</td>\n      <td>30703.333333</td>\n      <td>66.666667</td>\n      <td>0.051172</td>\n      <td>0.666667</td>\n      <td>0.0</td>\n      <td>0.0</td>\n      <td>1.0</td>\n      <td>0.0</td>\n      <td>1.333333</td>\n    </tr>\n    <tr>\n      <th>...</th>\n      <td>...</td>\n      <td>...</td>\n      <td>...</td>\n      <td>...</td>\n      <td>...</td>\n      <td>...</td>\n      <td>...</td>\n      <td>...</td>\n      <td>...</td>\n      <td>...</td>\n      <td>...</td>\n      <td>...</td>\n      <td>...</td>\n    </tr>\n    <tr>\n      <th>100</th>\n      <td>SE</td>\n      <td>Principal Data Analyst</td>\n      <td>2021.000000</td>\n      <td>170000.000000</td>\n      <td>170000.000000</td>\n      <td>100.000000</td>\n      <td>0.283333</td>\n      <td>1.000000</td>\n      <td>0.0</td>\n      <td>0.0</td>\n      <td>1.0</td>\n      <td>0.0</td>\n      <td>1.000000</td>\n    </tr>\n    <tr>\n      <th>101</th>\n      <td>SE</td>\n      <td>Principal Data Engineer</td>\n      <td>2021.000000</td>\n      <td>192500.000000</td>\n      <td>192500.000000</td>\n      <td>100.000000</td>\n      <td>0.320833</td>\n      <td>1.000000</td>\n      <td>0.0</td>\n      <td>0.0</td>\n      <td>1.0</td>\n      <td>0.0</td>\n      <td>1.000000</td>\n    </tr>\n    <tr>\n      <th>102</th>\n      <td>SE</td>\n      <td>Principal Data Scientist</td>\n      <td>2021.000000</td>\n      <td>176000.000000</td>\n      <td>187939.400000</td>\n      <td>80.000000</td>\n      <td>0.313232</td>\n      <td>0.800000</td>\n      <td>0.0</td>\n      <td>0.0</td>\n      <td>1.0</td>\n      <td>0.0</td>\n      <td>1.000000</td>\n    </tr>\n    <tr>\n      <th>103</th>\n      <td>SE</td>\n      <td>Research Scientist</td>\n      <td>2021.400000</td>\n      <td>90180.000000</td>\n      <td>88859.400000</td>\n      <td>60.000000</td>\n      <td>0.148099</td>\n      <td>0.600000</td>\n      <td>0.0</td>\n      <td>0.0</td>\n      <td>1.0</td>\n      <td>0.0</td>\n      <td>0.600000</td>\n    </tr>\n    <tr>\n      <th>104</th>\n      <td>SE</td>\n      <td>Staff Data Scientist</td>\n      <td>2021.000000</td>\n      <td>105000.000000</td>\n      <td>105000.000000</td>\n      <td>100.000000</td>\n      <td>0.175000</td>\n      <td>1.000000</td>\n      <td>1.0</td>\n      <td>0.0</td>\n      <td>0.0</td>\n      <td>0.0</td>\n      <td>1.000000</td>\n    </tr>\n  </tbody>\n</table>\n<p>105 rows × 13 columns</p>\n</div>"
     },
     "execution_count": 44,
     "metadata": {},
     "output_type": "execute_result"
    }
   ],
   "source": [
    "grouped_test1 = df.groupby(['experience_level', 'job_title'], as_index= False).mean()\n",
    "grouped_test1"
   ],
   "metadata": {
    "collapsed": false,
    "pycharm": {
     "name": "#%%\n"
    }
   }
  },
  {
   "cell_type": "code",
   "execution_count": 45,
   "outputs": [],
   "source": [
    "# Let's see this data as a pivot table"
   ],
   "metadata": {
    "collapsed": false,
    "pycharm": {
     "name": "#%%\n"
    }
   }
  },
  {
   "cell_type": "code",
   "execution_count": 47,
   "outputs": [
    {
     "data": {
      "text/plain": "                                     work_year               \\\njob_title        3D Computer Vision Researcher AI Scientist   \nexperience_level                                              \nEN                                         NaN      2020.75   \nEX                                         NaN          NaN   \nMI                                      2021.0      2022.00   \nSE                                         NaN      2021.00   \n\n                                                            \\\njob_title        Analytics Engineer Applied Data Scientist   \nexperience_level                                             \nEN                              NaN                 2021.0   \nEX                           2022.0                    NaN   \nMI                              NaN                 2021.5   \nSE                           2022.0                 2022.0   \n\n                                                                     \\\njob_title        Applied Machine Learning Scientist BI Data Analyst   \nexperience_level                                                      \nEN                                      2022.000000     2021.000000   \nEX                                              NaN     2021.000000   \nMI                                      2021.333333     2020.666667   \nSE                                              NaN             NaN   \n\n                                                                             \\\njob_title        Big Data Architect Big Data Engineer Business Data Analyst   \nexperience_level                                                              \nEN                              NaN       2020.666667           2020.500000   \nEX                              NaN               NaN                   NaN   \nMI                              NaN       2021.000000           2021.333333   \nSE                           2021.0       2020.000000                   NaN   \n\n                                      ...             years_worked  \\\njob_title        Cloud Data Engineer  ... Machine Learning Manager   \nexperience_level                      ...                            \nEN                               NaN  ...                      NaN   \nEX                               NaN  ...                      NaN   \nMI                            2021.0  ...                      NaN   \nSE                            2021.0  ...                      2.0   \n\n                                                                    \\\njob_title        Machine Learning Scientist Marketing Data Analyst   \nexperience_level                                                     \nEN                                 1.000000                    NaN   \nEX                                      NaN                    NaN   \nMI                                 0.250000                    NaN   \nSE                                 1.333333                    1.0   \n\n                                                                              \\\njob_title        NLP Engineer Principal Data Analyst Principal Data Engineer   \nexperience_level                                                               \nEN                        NaN                    NaN                     NaN   \nEX                        NaN                    NaN                     1.0   \nMI                        0.0                    0.0                     NaN   \nSE                        NaN                    1.0                     1.0   \n\n                                                                \\\njob_title        Principal Data Scientist Product Data Analyst   \nexperience_level                                                 \nEN                                    NaN                  NaN   \nEX                                    1.0                  NaN   \nMI                                    1.0                  2.0   \nSE                                    1.0                  NaN   \n\n                                                          \njob_title        Research Scientist Staff Data Scientist  \nexperience_level                                          \nEN                              1.0                  NaN  \nEX                              NaN                  NaN  \nMI                              1.0                  NaN  \nSE                              0.6                  1.0  \n\n[4 rows x 550 columns]",
      "text/html": "<div>\n<style scoped>\n    .dataframe tbody tr th:only-of-type {\n        vertical-align: middle;\n    }\n\n    .dataframe tbody tr th {\n        vertical-align: top;\n    }\n\n    .dataframe thead tr th {\n        text-align: left;\n    }\n\n    .dataframe thead tr:last-of-type th {\n        text-align: right;\n    }\n</style>\n<table border=\"1\" class=\"dataframe\">\n  <thead>\n    <tr>\n      <th></th>\n      <th colspan=\"10\" halign=\"left\">work_year</th>\n      <th>...</th>\n      <th colspan=\"10\" halign=\"left\">years_worked</th>\n    </tr>\n    <tr>\n      <th>job_title</th>\n      <th>3D Computer Vision Researcher</th>\n      <th>AI Scientist</th>\n      <th>Analytics Engineer</th>\n      <th>Applied Data Scientist</th>\n      <th>Applied Machine Learning Scientist</th>\n      <th>BI Data Analyst</th>\n      <th>Big Data Architect</th>\n      <th>Big Data Engineer</th>\n      <th>Business Data Analyst</th>\n      <th>Cloud Data Engineer</th>\n      <th>...</th>\n      <th>Machine Learning Manager</th>\n      <th>Machine Learning Scientist</th>\n      <th>Marketing Data Analyst</th>\n      <th>NLP Engineer</th>\n      <th>Principal Data Analyst</th>\n      <th>Principal Data Engineer</th>\n      <th>Principal Data Scientist</th>\n      <th>Product Data Analyst</th>\n      <th>Research Scientist</th>\n      <th>Staff Data Scientist</th>\n    </tr>\n    <tr>\n      <th>experience_level</th>\n      <th></th>\n      <th></th>\n      <th></th>\n      <th></th>\n      <th></th>\n      <th></th>\n      <th></th>\n      <th></th>\n      <th></th>\n      <th></th>\n      <th></th>\n      <th></th>\n      <th></th>\n      <th></th>\n      <th></th>\n      <th></th>\n      <th></th>\n      <th></th>\n      <th></th>\n      <th></th>\n      <th></th>\n    </tr>\n  </thead>\n  <tbody>\n    <tr>\n      <th>EN</th>\n      <td>NaN</td>\n      <td>2020.75</td>\n      <td>NaN</td>\n      <td>2021.0</td>\n      <td>2022.000000</td>\n      <td>2021.000000</td>\n      <td>NaN</td>\n      <td>2020.666667</td>\n      <td>2020.500000</td>\n      <td>NaN</td>\n      <td>...</td>\n      <td>NaN</td>\n      <td>1.000000</td>\n      <td>NaN</td>\n      <td>NaN</td>\n      <td>NaN</td>\n      <td>NaN</td>\n      <td>NaN</td>\n      <td>NaN</td>\n      <td>1.0</td>\n      <td>NaN</td>\n    </tr>\n    <tr>\n      <th>EX</th>\n      <td>NaN</td>\n      <td>NaN</td>\n      <td>2022.0</td>\n      <td>NaN</td>\n      <td>NaN</td>\n      <td>2021.000000</td>\n      <td>NaN</td>\n      <td>NaN</td>\n      <td>NaN</td>\n      <td>NaN</td>\n      <td>...</td>\n      <td>NaN</td>\n      <td>NaN</td>\n      <td>NaN</td>\n      <td>NaN</td>\n      <td>NaN</td>\n      <td>1.0</td>\n      <td>1.0</td>\n      <td>NaN</td>\n      <td>NaN</td>\n      <td>NaN</td>\n    </tr>\n    <tr>\n      <th>MI</th>\n      <td>2021.0</td>\n      <td>2022.00</td>\n      <td>NaN</td>\n      <td>2021.5</td>\n      <td>2021.333333</td>\n      <td>2020.666667</td>\n      <td>NaN</td>\n      <td>2021.000000</td>\n      <td>2021.333333</td>\n      <td>2021.0</td>\n      <td>...</td>\n      <td>NaN</td>\n      <td>0.250000</td>\n      <td>NaN</td>\n      <td>0.0</td>\n      <td>0.0</td>\n      <td>NaN</td>\n      <td>1.0</td>\n      <td>2.0</td>\n      <td>1.0</td>\n      <td>NaN</td>\n    </tr>\n    <tr>\n      <th>SE</th>\n      <td>NaN</td>\n      <td>2021.00</td>\n      <td>2022.0</td>\n      <td>2022.0</td>\n      <td>NaN</td>\n      <td>NaN</td>\n      <td>2021.0</td>\n      <td>2020.000000</td>\n      <td>NaN</td>\n      <td>2021.0</td>\n      <td>...</td>\n      <td>2.0</td>\n      <td>1.333333</td>\n      <td>1.0</td>\n      <td>NaN</td>\n      <td>1.0</td>\n      <td>1.0</td>\n      <td>1.0</td>\n      <td>NaN</td>\n      <td>0.6</td>\n      <td>1.0</td>\n    </tr>\n  </tbody>\n</table>\n<p>4 rows × 550 columns</p>\n</div>"
     },
     "execution_count": 47,
     "metadata": {},
     "output_type": "execute_result"
    }
   ],
   "source": [
    "grouped_pivot = grouped_test1.pivot(index='experience_level', columns='job_title')\n",
    "grouped_pivot"
   ],
   "metadata": {
    "collapsed": false,
    "pycharm": {
     "name": "#%%\n"
    }
   }
  },
  {
   "cell_type": "code",
   "execution_count": 53,
   "outputs": [
    {
     "data": {
      "text/plain": "                  work_year    salary  salary_in_usd  remote_ratio  \\\nwork_year          1.000000 -0.087577       0.170493      0.076314   \nsalary            -0.087577  1.000000      -0.083906     -0.014608   \nsalary_in_usd      0.170493 -0.083906       1.000000      0.132122   \nremote_ratio       0.076314 -0.014608       0.132122      1.000000   \nSFC_Salary         0.170493 -0.083906       1.000000      0.132122   \nSFC_Remote_Ratio   0.076314 -0.014608       0.132122      1.000000   \ncotract           -0.053407 -0.008268       0.092907      0.065149   \nfree_lance        -0.047729 -0.014568      -0.073863     -0.016865   \nfull_time          0.105342  0.025685       0.091819     -0.023834   \npart_time         -0.075845 -0.020006      -0.144627     -0.002935   \nyears_worked      -1.000000  0.087577      -0.170493     -0.076314   \n\n                  SFC_Salary  SFC_Remote_Ratio   cotract  free_lance  \\\nwork_year           0.170493          0.076314 -0.053407   -0.047729   \nsalary             -0.083906         -0.014608 -0.008268   -0.014568   \nsalary_in_usd       1.000000          0.132122  0.092907   -0.073863   \nremote_ratio        0.132122          1.000000  0.065149   -0.016865   \nSFC_Salary          1.000000          0.132122  0.092907   -0.073863   \nSFC_Remote_Ratio    0.132122          1.000000  0.065149   -0.016865   \ncotract             0.092907          0.065149  1.000000   -0.007423   \nfree_lance         -0.073863         -0.016865 -0.007423    1.000000   \nfull_time           0.091819         -0.023834 -0.506989   -0.453089   \npart_time          -0.144627         -0.002935 -0.011795   -0.010541   \nyears_worked       -0.170493         -0.076314  0.053407    0.047729   \n\n                  full_time  part_time  years_worked  \nwork_year          0.105342  -0.075845     -1.000000  \nsalary             0.025685  -0.020006      0.087577  \nsalary_in_usd      0.091819  -0.144627     -0.170493  \nremote_ratio      -0.023834  -0.002935     -0.076314  \nSFC_Salary         0.091819  -0.144627     -0.170493  \nSFC_Remote_Ratio  -0.023834  -0.002935     -0.076314  \ncotract           -0.506989  -0.011795      0.053407  \nfree_lance        -0.453089  -0.010541      0.047729  \nfull_time          1.000000  -0.719987     -0.105342  \npart_time         -0.719987   1.000000      0.075845  \nyears_worked      -0.105342   0.075845      1.000000  ",
      "text/html": "<div>\n<style scoped>\n    .dataframe tbody tr th:only-of-type {\n        vertical-align: middle;\n    }\n\n    .dataframe tbody tr th {\n        vertical-align: top;\n    }\n\n    .dataframe thead th {\n        text-align: right;\n    }\n</style>\n<table border=\"1\" class=\"dataframe\">\n  <thead>\n    <tr style=\"text-align: right;\">\n      <th></th>\n      <th>work_year</th>\n      <th>salary</th>\n      <th>salary_in_usd</th>\n      <th>remote_ratio</th>\n      <th>SFC_Salary</th>\n      <th>SFC_Remote_Ratio</th>\n      <th>cotract</th>\n      <th>free_lance</th>\n      <th>full_time</th>\n      <th>part_time</th>\n      <th>years_worked</th>\n    </tr>\n  </thead>\n  <tbody>\n    <tr>\n      <th>work_year</th>\n      <td>1.000000</td>\n      <td>-0.087577</td>\n      <td>0.170493</td>\n      <td>0.076314</td>\n      <td>0.170493</td>\n      <td>0.076314</td>\n      <td>-0.053407</td>\n      <td>-0.047729</td>\n      <td>0.105342</td>\n      <td>-0.075845</td>\n      <td>-1.000000</td>\n    </tr>\n    <tr>\n      <th>salary</th>\n      <td>-0.087577</td>\n      <td>1.000000</td>\n      <td>-0.083906</td>\n      <td>-0.014608</td>\n      <td>-0.083906</td>\n      <td>-0.014608</td>\n      <td>-0.008268</td>\n      <td>-0.014568</td>\n      <td>0.025685</td>\n      <td>-0.020006</td>\n      <td>0.087577</td>\n    </tr>\n    <tr>\n      <th>salary_in_usd</th>\n      <td>0.170493</td>\n      <td>-0.083906</td>\n      <td>1.000000</td>\n      <td>0.132122</td>\n      <td>1.000000</td>\n      <td>0.132122</td>\n      <td>0.092907</td>\n      <td>-0.073863</td>\n      <td>0.091819</td>\n      <td>-0.144627</td>\n      <td>-0.170493</td>\n    </tr>\n    <tr>\n      <th>remote_ratio</th>\n      <td>0.076314</td>\n      <td>-0.014608</td>\n      <td>0.132122</td>\n      <td>1.000000</td>\n      <td>0.132122</td>\n      <td>1.000000</td>\n      <td>0.065149</td>\n      <td>-0.016865</td>\n      <td>-0.023834</td>\n      <td>-0.002935</td>\n      <td>-0.076314</td>\n    </tr>\n    <tr>\n      <th>SFC_Salary</th>\n      <td>0.170493</td>\n      <td>-0.083906</td>\n      <td>1.000000</td>\n      <td>0.132122</td>\n      <td>1.000000</td>\n      <td>0.132122</td>\n      <td>0.092907</td>\n      <td>-0.073863</td>\n      <td>0.091819</td>\n      <td>-0.144627</td>\n      <td>-0.170493</td>\n    </tr>\n    <tr>\n      <th>SFC_Remote_Ratio</th>\n      <td>0.076314</td>\n      <td>-0.014608</td>\n      <td>0.132122</td>\n      <td>1.000000</td>\n      <td>0.132122</td>\n      <td>1.000000</td>\n      <td>0.065149</td>\n      <td>-0.016865</td>\n      <td>-0.023834</td>\n      <td>-0.002935</td>\n      <td>-0.076314</td>\n    </tr>\n    <tr>\n      <th>cotract</th>\n      <td>-0.053407</td>\n      <td>-0.008268</td>\n      <td>0.092907</td>\n      <td>0.065149</td>\n      <td>0.092907</td>\n      <td>0.065149</td>\n      <td>1.000000</td>\n      <td>-0.007423</td>\n      <td>-0.506989</td>\n      <td>-0.011795</td>\n      <td>0.053407</td>\n    </tr>\n    <tr>\n      <th>free_lance</th>\n      <td>-0.047729</td>\n      <td>-0.014568</td>\n      <td>-0.073863</td>\n      <td>-0.016865</td>\n      <td>-0.073863</td>\n      <td>-0.016865</td>\n      <td>-0.007423</td>\n      <td>1.000000</td>\n      <td>-0.453089</td>\n      <td>-0.010541</td>\n      <td>0.047729</td>\n    </tr>\n    <tr>\n      <th>full_time</th>\n      <td>0.105342</td>\n      <td>0.025685</td>\n      <td>0.091819</td>\n      <td>-0.023834</td>\n      <td>0.091819</td>\n      <td>-0.023834</td>\n      <td>-0.506989</td>\n      <td>-0.453089</td>\n      <td>1.000000</td>\n      <td>-0.719987</td>\n      <td>-0.105342</td>\n    </tr>\n    <tr>\n      <th>part_time</th>\n      <td>-0.075845</td>\n      <td>-0.020006</td>\n      <td>-0.144627</td>\n      <td>-0.002935</td>\n      <td>-0.144627</td>\n      <td>-0.002935</td>\n      <td>-0.011795</td>\n      <td>-0.010541</td>\n      <td>-0.719987</td>\n      <td>1.000000</td>\n      <td>0.075845</td>\n    </tr>\n    <tr>\n      <th>years_worked</th>\n      <td>-1.000000</td>\n      <td>0.087577</td>\n      <td>-0.170493</td>\n      <td>-0.076314</td>\n      <td>-0.170493</td>\n      <td>-0.076314</td>\n      <td>0.053407</td>\n      <td>0.047729</td>\n      <td>-0.105342</td>\n      <td>0.075845</td>\n      <td>1.000000</td>\n    </tr>\n  </tbody>\n</table>\n</div>"
     },
     "execution_count": 53,
     "metadata": {},
     "output_type": "execute_result"
    }
   ],
   "source": [
    "df.corr()"
   ],
   "metadata": {
    "collapsed": false,
    "pycharm": {
     "name": "#%%\n"
    }
   }
  },
  {
   "cell_type": "markdown",
   "source": [
    "# Find the correlation with the P-Value"
   ],
   "metadata": {
    "collapsed": false,
    "pycharm": {
     "name": "#%% md\n"
    }
   }
  },
  {
   "cell_type": "code",
   "execution_count": 54,
   "outputs": [],
   "source": [
    "from scipy import stats"
   ],
   "metadata": {
    "collapsed": false,
    "pycharm": {
     "name": "#%%\n"
    }
   }
  },
  {
   "cell_type": "code",
   "execution_count": 58,
   "outputs": [
    {
     "name": "stdout",
     "output_type": "stream",
     "text": [
      "The Pearson Correlation Coefficient is 0.09181938357354527 With a P-Value of p =  0.023678512550553435\n"
     ]
    }
   ],
   "source": [
    "pearson_coef, p_value = stats.pearsonr(df['salary_in_usd'], df['full_time'])\n",
    "print('The Pearson Correlation Coefficient is', pearson_coef, 'With a P-Value of p = ', p_value)"
   ],
   "metadata": {
    "collapsed": false,
    "pycharm": {
     "name": "#%%\n"
    }
   }
  },
  {
   "cell_type": "code",
   "execution_count": 63,
   "outputs": [
    {
     "name": "stdout",
     "output_type": "stream",
     "text": [
      "The Pearson Correlation Coefficient is 0.17049332455332789 With a P-Value of p =  2.4128117660882922e-05\n"
     ]
    }
   ],
   "source": [
    "####POSSIBLE WINNER\n",
    "pearson_coef, p_value = stats.pearsonr(df['salary_in_usd'], df['work_year'])\n",
    "print('The Pearson Correlation Coefficient is', pearson_coef, 'With a P-Value of p = ', p_value)"
   ],
   "metadata": {
    "collapsed": false,
    "pycharm": {
     "name": "#%%\n"
    }
   }
  },
  {
   "cell_type": "code",
   "execution_count": 64,
   "outputs": [
    {
     "name": "stdout",
     "output_type": "stream",
     "text": [
      "The Pearson Correlation Coefficient is 0.13212233539422102 With a P-Value of p =  0.001103363379368483\n"
     ]
    }
   ],
   "source": [
    "### Decent\n",
    "pearson_coef, p_value = stats.pearsonr(df['salary_in_usd'], df['remote_ratio'])\n",
    "print('The Pearson Correlation Coefficient is', pearson_coef, 'With a P-Value of p = ', p_value)"
   ],
   "metadata": {
    "collapsed": false,
    "pycharm": {
     "name": "#%%\n"
    }
   }
  },
  {
   "cell_type": "code",
   "execution_count": 67,
   "outputs": [
    {
     "name": "stdout",
     "output_type": "stream",
     "text": [
      "The Pearson Correlation Coefficient is 0.09290708982752718 With a P-Value of p =  0.022066497248219026\n"
     ]
    }
   ],
   "source": [
    "## Third place\n",
    "pearson_coef, p_value = stats.pearsonr(df['salary_in_usd'], df['cotract'])\n",
    "print('The Pearson Correlation Coefficient is', pearson_coef, 'With a P-Value of p = ', p_value)"
   ],
   "metadata": {
    "collapsed": false,
    "pycharm": {
     "name": "#%%\n"
    }
   }
  },
  {
   "cell_type": "code",
   "execution_count": 69,
   "outputs": [
    {
     "name": "stdout",
     "output_type": "stream",
     "text": [
      "The Pearson Correlation Coefficient is -0.0738633711218341 With a P-Value of p =  0.0689827370767828\n"
     ]
    }
   ],
   "source": [
    "## fourth place\n",
    "pearson_coef, p_value = stats.pearsonr(df['salary_in_usd'], df['free_lance'])\n",
    "print('The Pearson Correlation Coefficient is', pearson_coef, 'With a P-Value of p = ', p_value)"
   ],
   "metadata": {
    "collapsed": false,
    "pycharm": {
     "name": "#%%\n"
    }
   }
  },
  {
   "cell_type": "code",
   "execution_count": 71,
   "outputs": [
    {
     "name": "stdout",
     "output_type": "stream",
     "text": [
      "The Pearson Correlation Coefficient is -0.14462696520163945 With a P-Value of p =  0.0003506375210310763\n"
     ]
    }
   ],
   "source": [
    "##  place\n",
    "pearson_coef, p_value = stats.pearsonr(df['salary_in_usd'], df['part_time'])\n",
    "print('The Pearson Correlation Coefficient is', pearson_coef, 'With a P-Value of p = ', p_value)"
   ],
   "metadata": {
    "collapsed": false,
    "pycharm": {
     "name": "#%%\n"
    }
   }
  },
  {
   "cell_type": "code",
   "execution_count": null,
   "outputs": [],
   "source": [],
   "metadata": {
    "collapsed": false,
    "pycharm": {
     "name": "#%%\n"
    }
   }
  }
 ],
 "metadata": {
  "kernelspec": {
   "display_name": "Python 3",
   "language": "python",
   "name": "python3"
  },
  "language_info": {
   "codemirror_mode": {
    "name": "ipython",
    "version": 2
   },
   "file_extension": ".py",
   "mimetype": "text/x-python",
   "name": "python",
   "nbconvert_exporter": "python",
   "pygments_lexer": "ipython2",
   "version": "2.7.6"
  }
 },
 "nbformat": 4,
 "nbformat_minor": 0
}